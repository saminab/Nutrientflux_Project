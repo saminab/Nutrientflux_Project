{
 "cells": [
  {
   "cell_type": "code",
   "execution_count": 2,
   "metadata": {},
   "outputs": [],
   "source": [
    "# import required libraries\n",
    "import os\n",
    "import arcpy\n",
    "import pandas as pd\n",
    "import geopandas as gpd\n",
    "from shapely.geometry import Point, box\n",
    "import matplotlib.pyplot as plt"
   ]
  },
  {
   "cell_type": "code",
   "execution_count": 5,
   "metadata": {},
   "outputs": [],
   "source": [
    "# \n",
    "pourpoints = r\"D:\\Users\\abolmaal\\Arcgis\\NASAOceanProject\\GIS_layer\\pourpoints\\WatershedPourPoints_NAD1983.shp\"\n",
    "# export the pour points csv file with keeping th Group_id field, POINT_X, POINT_Y\n",
    "pourpoints_df = gpd.read_file(pourpoints)\n",
    "# rename the columns POINT_X and POINT_Y to lat and lon\n",
    "pourpoints_df = pourpoints_df.rename(columns={'POINT_X': 'lon', 'POINT_Y': 'lat'})\n",
    "# add a new column called deoth and set it to 0\n",
    "pourpoints_df['depth'] = 0\n",
    "\n",
    "# if column lon is not in the range of -180 to 0, then convert it to the range of 0 to 360\n",
    "pourpoints_df.loc[pourpoints_df['lon'] < 0, 'lon'] = pourpoints_df.loc[pourpoints_df['lon'] < 0, 'lon'] + 360\n",
    "\n",
    "    \n",
    "\n",
    "pourpoints_df = pourpoints_df[['Group_id', 'lon', 'lat', 'depth']]\n"
   ]
  },
  {
   "cell_type": "code",
   "execution_count": 8,
   "metadata": {},
   "outputs": [],
   "source": [
    "# sacve the pourpoints_df to a dat file with one space as a separator\n",
    "pourpoints_df.to_csv(r\"D:\\Users\\abolmaal\\Arcgis\\NASAOceanProject\\GIS_layer\\pourpoints\\WatershedPourPoints_NAD1983.dat\", sep=' ', index=False, header=False)"
   ]
  }
 ],
 "metadata": {
  "kernelspec": {
   "display_name": "samin-arcpy7",
   "language": "python",
   "name": "python3"
  },
  "language_info": {
   "codemirror_mode": {
    "name": "ipython",
    "version": 3
   },
   "file_extension": ".py",
   "mimetype": "text/x-python",
   "name": "python",
   "nbconvert_exporter": "python",
   "pygments_lexer": "ipython3",
   "version": "3.9.18"
  }
 },
 "nbformat": 4,
 "nbformat_minor": 2
}

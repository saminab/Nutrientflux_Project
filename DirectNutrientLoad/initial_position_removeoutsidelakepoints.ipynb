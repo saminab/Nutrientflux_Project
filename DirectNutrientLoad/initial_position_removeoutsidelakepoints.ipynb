{
 "cells": [
  {
   "cell_type": "code",
   "execution_count": 2,
   "metadata": {},
   "outputs": [],
   "source": [
    "# import required libraries\n",
    "import os\n",
    "import arcpy\n",
    "import pandas as pd\n",
    "import geopandas as gpd\n",
    "from shapely.geometry import Point, box\n",
    "import matplotlib.pyplot as plt"
   ]
  },
  {
   "cell_type": "code",
   "execution_count": 3,
   "metadata": {},
   "outputs": [],
   "source": [
    "# read initial positial shapefile from the following path d/Users/abolmaal/Arcgis/NASAOceanProject/GIS_layer/particle_tracking_output/WatershedPourPoints_LH_multigroup_rounded_initialposition.shp\n",
    "\n",
    "# read the shapefile\n",
    "initial_position=r\"D:\\Users\\abolmaal\\Arcgis\\NASAOceanProject\\GIS_layer\\particle_tracking_output\\WatershedPourPoints_LH_multigroup_rounded_initialposition2.shp\"\n",
    "    \n",
    "lake_huron =r\"D:\\Users\\abolmaal\\Arcgis\\NASAOceanProject\\GIS_layer\\Basins\\hydro_p_LakeHuron\\hydro_p_LakeHuron.shp\"\n",
    "output_path = r\"D:\\Users\\abolmaal\\Arcgis\\NASAOceanProject\\GIS_layer\\particle_tracking_output\\WatershedPourPoints_LH_multigroup_rounded_initialposition_intersection2.shp\"\n",
    "\n",
    "\n",
    "# find the intersected points between the initial position and the lake huron shapefile using the intersect tool arcpy\n",
    "intersected_points = arcpy.Intersect_analysis([initial_position, lake_huron], output_path, \"ALL\", None, \"POINT\")\n",
    "\n",
    "\n",
    "\n"
   ]
  }
 ],
 "metadata": {
  "kernelspec": {
   "display_name": "samin-arcpy7",
   "language": "python",
   "name": "python3"
  },
  "language_info": {
   "codemirror_mode": {
    "name": "ipython",
    "version": 3
   },
   "file_extension": ".py",
   "mimetype": "text/x-python",
   "name": "python",
   "nbconvert_exporter": "python",
   "pygments_lexer": "ipython3",
   "version": "3.9.18"
  }
 },
 "nbformat": 4,
 "nbformat_minor": 2
}

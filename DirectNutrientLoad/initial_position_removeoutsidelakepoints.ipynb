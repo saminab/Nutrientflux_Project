{
 "cells": [
  {
   "cell_type": "markdown",
   "metadata": {},
   "source": [
    "# Introduction \n",
    "## Insure release zone points are placed inside Lake"
   ]
  },
  {
   "cell_type": "markdown",
   "metadata": {},
   "source": [
    "This code is reading the initial position file that created with PyLag releaseZone Function and insure that all the particles are inside the Lake Huron domain"
   ]
  },
  {
   "cell_type": "code",
   "execution_count": 1,
   "metadata": {},
   "outputs": [],
   "source": [
    "# import required libraries\n",
    "import os\n",
    "import arcpy\n",
    "import pandas as pd\n",
    "import geopandas as gpd\n",
    "from shapely.geometry import Point, box\n",
    "import matplotlib.pyplot as plt"
   ]
  },
  {
   "cell_type": "markdown",
   "metadata": {},
   "source": [
    "# Inputs"
   ]
  },
  {
   "cell_type": "code",
   "execution_count": 2,
   "metadata": {},
   "outputs": [],
   "source": [
    "# path to release zone shapefile\n",
    "releasezone_path = r\"D:\\Users\\abolmaal\\Arcgis\\NASAOceanProject\\GIS_layer\\particle_tracking_output\"\n",
    "releasezone = os.path.join(releasezone_path, 'initial_positions_releasezone.shp')\n",
    "\n",
    "# Lake Huron shapefile path\n",
    "lake_huron =r\"D:\\Users\\abolmaal\\Arcgis\\NASAOceanProject\\GIS_layer\\Basins\\hydro_p_LakeHuron\\hydro_p_LakeHuron.shp\"\n"
   ]
  },
  {
   "cell_type": "markdown",
   "metadata": {},
   "source": [
    "# Outputs"
   ]
  },
  {
   "cell_type": "code",
   "execution_count": 3,
   "metadata": {},
   "outputs": [],
   "source": [
    "output_path = r\"D:\\Users\\abolmaal\\Arcgis\\NASAOceanProject\\GIS_layer\\particle_tracking_output\"\n",
    "out_name = \"initial_positions_releasezone_intersection.shp\"\n",
    "\n",
    "# save the output shapefile\n",
    "output = os.path.join(output_path, out_name)"
   ]
  },
  {
   "cell_type": "markdown",
   "metadata": {},
   "source": [
    "# Main Function  \n",
    "## Find the Intersection using Arcpy"
   ]
  },
  {
   "cell_type": "code",
   "execution_count": 4,
   "metadata": {},
   "outputs": [],
   "source": [
    "\n",
    "# find the intersected points between the initial position and the lake huron shapefile using the intersect tool arcpy\n",
    "intersected_points = arcpy.Intersect_analysis([releasezone, lake_huron], output, \"ALL\", None, \"POINT\")\n"
   ]
  }
 ],
 "metadata": {
  "kernelspec": {
   "display_name": "samin-arcpy7",
   "language": "python",
   "name": "python3"
  },
  "language_info": {
   "codemirror_mode": {
    "name": "ipython",
    "version": 3
   },
   "file_extension": ".py",
   "mimetype": "text/x-python",
   "name": "python",
   "nbconvert_exporter": "python",
   "pygments_lexer": "ipython3",
   "version": "undefined.undefined.undefined"
  }
 },
 "nbformat": 4,
 "nbformat_minor": 2
}

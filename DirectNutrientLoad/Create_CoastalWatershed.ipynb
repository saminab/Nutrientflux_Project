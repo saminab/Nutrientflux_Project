{
 "cells": [
  {
   "cell_type": "markdown",
   "metadata": {},
   "source": [
    "# Creating Coastal Watershed"
   ]
  },
  {
   "cell_type": "code",
   "execution_count": 1,
   "metadata": {},
   "outputs": [],
   "source": [
    "# imports\n",
    "### Reqiured Imports###\n",
    "import pandas, os\n",
    "import arcpy\n",
    "from matplotlib import pyplot as plt"
   ]
  },
  {
   "cell_type": "code",
   "execution_count": 7,
   "metadata": {},
   "outputs": [],
   "source": [
    "# define the path to coastal wetlands shapefile\n",
    "inDCW = r\"D:\\Users\\abolmaal\\Arcgis\\NASAOceanProject\\GIS_layer\\Coastalwetland\\shapefiles\"\n",
    "\n",
    "# Coastal Wetlands\n",
    "wetlands_avg_inun = os.path.join(inDCW, \"Wetland_connected_avg_inundation_NAD1983\")\n",
    "wetlands_high_inun = os.path.join(inDCW, \"wetlands_connected_high_inundation_NAD1983\")\n",
    "wetlands_low_inun = os.path.join(inDCW, \"wetlands_connected_low_inundation_NAD1983\")\n",
    "wetlands_surge = os.path.join(inDCW, \"wetlands_connected_surge_inundation_NAD1983\")\n",
    "\n",
    "# define the path to streams \n",
    "inStreams = r\"D:\\Users\\abolmaal\\Arcgis\\NASAOceanProject\\GIS_layer\\GLB_Stream\\GLB_stream_Ras_FeatureToLine.shp\"\n",
    "\n"
   ]
  },
  {
   "cell_type": "markdown",
   "metadata": {},
   "source": [
    "### 1- Buffer the streams\n",
    "Buffer Polyline to create your riverin riperian area"
   ]
  },
  {
   "cell_type": "code",
   "execution_count": 8,
   "metadata": {},
   "outputs": [
    {
     "data": {
      "text/html": [
       "<div class='gpresult'><h2>Messages</h2><div id='messages' data-messages='[\"Start Time: Thursday, September 19, 2024 10:40:44 AM\",\"Succeeded at Thursday, September 19, 2024 10:40:54 AM (Elapsed Time: 9.97 seconds)\"]' data-show='true'><div id = 'default' /></div></div>"
      ],
      "text/plain": [
       "<Result 'D:\\\\Users\\\\abolmaal\\\\code\\\\CoastalWatersheds\\\\GLB_Stream\\\\Buffer_50m\\\\GLB_stream_Ras_FeatureToLine_Buffer_50m.shp'>"
      ]
     },
     "execution_count": 8,
     "metadata": {},
     "output_type": "execute_result"
    }
   ],
   "source": [
    "# Buffer inStreams by 50 meters \n",
    "outBuffer = r\"D:\\Users\\abolmaal\\code\\CoastalWatersheds\\GLB_Stream\\Buffer_50m\\GLB_stream_Ras_FeatureToLine_Buffer_50m.shp\"\n",
    "\n",
    "# buffer inStreams by 50 meters\n",
    "arcpy.Buffer_analysis(inStreams, outBuffer, \"50 Meters\", \"FULL\", \"ROUND\", \"NONE\", None, \"PLANAR\")"
   ]
  },
  {
   "cell_type": "markdown",
   "metadata": {},
   "source": [
    "### 2- Erase your coastal wetlands that overlap with your riperian area"
   ]
  },
  {
   "cell_type": "code",
   "execution_count": 11,
   "metadata": {},
   "outputs": [
    {
     "data": {
      "text/html": [
       "<div class='gpresult'><h2>Messages</h2><div id='messages' data-messages='[\"Start Time: Thursday, September 19, 2024 10:44:42 AM\",\"Reading Features...\",\"Cracking Features...\",\"Assembling Features...\",\"Succeeded at Thursday, September 19, 2024 10:44:59 AM (Elapsed Time: 17.42 seconds)\"]' data-show='true'><div id = 'default' /></div></div>"
      ],
      "text/plain": [
       "<Result 'D:\\\\Users\\\\abolmaal\\\\code\\\\CoastalWatersheds\\\\Erase_Riperian\\\\Wetland_connected_surge_erasebuff_50.shp'>"
      ]
     },
     "execution_count": 11,
     "metadata": {},
     "output_type": "execute_result"
    }
   ],
   "source": [
    "outErase_path = r\"D:\\Users\\abolmaal\\code\\CoastalWatersheds\\Erase_Riperian\"\n",
    "erase_buffer_avg = os.path.join(outErase_path, \"Wetland_connected_avg_erasebuff_50.shp\")\n",
    "erase_buffer_high = os.path.join(outErase_path, \"Wetland_connected_high_erasebuff_50.shp\")\n",
    "erase_buffer_low = os.path.join(outErase_path, \"Wetland_connected_low_erasebuff_50.shp\")\n",
    "erase_buffer_surge = os.path.join(outErase_path, \"Wetland_connected_surge_erasebuff_50.shp\")\n",
    "\n",
    "# Erase the outBuffer from the wetlands_avg_inun shapefile with the output name erase_buffer_avg\n",
    "arcpy.Erase_analysis(wetlands_avg_inun, outBuffer, erase_buffer_avg, None)\n",
    "\n",
    "# Erase the outBuffer from the wetlands_high_inun shapefile with the output name erase_buffer_high\n",
    "arcpy.Erase_analysis(wetlands_high_inun, outBuffer, erase_buffer_high, None)\n",
    "\n",
    "# Erase the outBuffer from the wetlands_low_inun shapefile with the output name erase_buffer_low\n",
    "arcpy.Erase_analysis(wetlands_low_inun, outBuffer, erase_buffer_low, None)\n",
    "\n",
    "# Erase the outBuffer from the wetlands_surge shapefile with the output name erase_buffer_surge\n",
    "arcpy.Erase_analysis(wetlands_surge, outBuffer, erase_buffer_surge, None)"
   ]
  },
  {
   "cell_type": "markdown",
   "metadata": {},
   "source": [
    "#### 2-1 Add a field called coastal_Id"
   ]
  },
  {
   "cell_type": "code",
   "execution_count": 12,
   "metadata": {},
   "outputs": [
    {
     "data": {
      "text/html": [
       "<div class='gpresult'><h2>Messages</h2><div id='messages' data-messages='[\"Start Time: Thursday, September 19, 2024 10:45:15 AM\",\"Succeeded at Thursday, September 19, 2024 10:45:16 AM (Elapsed Time: 0.65 seconds)\"]' data-show='true'><div id = 'default' /></div></div>"
      ],
      "text/plain": [
       "<Result 'D:\\\\Users\\\\abolmaal\\\\code\\\\CoastalWatersheds\\\\Erase_Riperian\\\\Wetland_connected_surge_erasebuff_50.shp'>"
      ]
     },
     "execution_count": 12,
     "metadata": {},
     "output_type": "execute_result"
    }
   ],
   "source": [
    "# add a field called coastal_id to the erase_buffer_avg shapefile that is equal to FID field +1\n",
    "arcpy.AddField_management(erase_buffer_avg, \"coastal_Id\", \"LONG\")\n",
    "arcpy.CalculateField_management(erase_buffer_avg, \"coastal_id\", \"!FID! + 1\", \"PYTHON3\")\n",
    "\n",
    "# add a field called coastal_id to the erase_buffer_high shapefile that is equal to FID field +1\n",
    "arcpy.AddField_management(erase_buffer_high, \"coastal_Id\", \"LONG\")\n",
    "arcpy.CalculateField_management(erase_buffer_high, \"coastal_id\", \"!FID! + 1\", \"PYTHON3\")\n",
    "\n",
    "# add a field called coastal_id to the erase_buffer_low shapefile that is equal to FID field +1\n",
    "arcpy.AddField_management(erase_buffer_low, \"coastal_Id\", \"LONG\")\n",
    "arcpy.CalculateField_management(erase_buffer_low, \"coastal_id\", \"!FID! + 1\", \"PYTHON3\")\n",
    "\n",
    "# add a field called coastal_id to the erase_buffer_surge shapefile that is equal to FID field +1\n",
    "arcpy.AddField_management(erase_buffer_surge, \"coastal_Id\", \"LONG\")\n",
    "arcpy.CalculateField_management(erase_buffer_surge, \"coastal_id\", \"!FID! + 1\", \"PYTHON3\")\n"
   ]
  },
  {
   "cell_type": "markdown",
   "metadata": {},
   "source": [
    "### 3- Create a watershed"
   ]
  },
  {
   "cell_type": "markdown",
   "metadata": {},
   "source": [
    "convert erase_buffer_avg polygon to raster with the output name erase_buffer_avg_raster"
   ]
  },
  {
   "cell_type": "code",
   "execution_count": 14,
   "metadata": {},
   "outputs": [
    {
     "ename": "ExecuteError",
     "evalue": "Failed to execute. Parameters are not valid.\nERROR 000725: Output Raster Dataset: Dataset D:\\Users\\abolmaal\\code\\CoastalWatersheds\\Erase_Riperian\\Wetland_connected_avg_raster.tif already exists.\nFailed to execute (PolygonToRaster).\n",
     "output_type": "error",
     "traceback": [
      "\u001b[1;31m---------------------------------------------------------------------------\u001b[0m",
      "\u001b[1;31mExecuteError\u001b[0m                              Traceback (most recent call last)",
      "\u001b[1;32m~\\AppData\\Local\\Temp\\ipykernel_36948\\1903648724.py\u001b[0m in \u001b[0;36m<cell line: 3>\u001b[1;34m()\u001b[0m\n\u001b[0;32m      1\u001b[0m \u001b[1;31m# convert erase_buffer_avg polygon to raster with the output name erase_buffer_avg_raster\u001b[0m\u001b[1;33m\u001b[0m\u001b[1;33m\u001b[0m\u001b[0m\n\u001b[0;32m      2\u001b[0m \u001b[0merase_buffer_avg_raster\u001b[0m \u001b[1;33m=\u001b[0m \u001b[0mos\u001b[0m\u001b[1;33m.\u001b[0m\u001b[0mpath\u001b[0m\u001b[1;33m.\u001b[0m\u001b[0mjoin\u001b[0m\u001b[1;33m(\u001b[0m\u001b[0moutErase_path\u001b[0m\u001b[1;33m,\u001b[0m \u001b[1;34m\"Wetland_connected_avg_raster.tif\"\u001b[0m\u001b[1;33m)\u001b[0m\u001b[1;33m\u001b[0m\u001b[1;33m\u001b[0m\u001b[0m\n\u001b[1;32m----> 3\u001b[1;33m \u001b[0marcpy\u001b[0m\u001b[1;33m.\u001b[0m\u001b[0mPolygonToRaster_conversion\u001b[0m\u001b[1;33m(\u001b[0m\u001b[0merase_buffer_avg\u001b[0m\u001b[1;33m,\u001b[0m \u001b[1;34m\"coastal_Id\"\u001b[0m\u001b[1;33m,\u001b[0m \u001b[0merase_buffer_avg_raster\u001b[0m\u001b[1;33m,\u001b[0m \u001b[1;34m\"CELL_CENTER\"\u001b[0m\u001b[1;33m,\u001b[0m \u001b[1;34m\"NONE\"\u001b[0m\u001b[1;33m,\u001b[0m \u001b[1;34m\"50\"\u001b[0m\u001b[1;33m)\u001b[0m\u001b[1;33m\u001b[0m\u001b[1;33m\u001b[0m\u001b[0m\n\u001b[0m\u001b[0;32m      4\u001b[0m \u001b[1;33m\u001b[0m\u001b[0m\n\u001b[0;32m      5\u001b[0m \u001b[1;31m# convert erase_buffer_high polygon to raster with the output name erase_buffer_high_raster\u001b[0m\u001b[1;33m\u001b[0m\u001b[1;33m\u001b[0m\u001b[0m\n",
      "\u001b[1;32mC:\\Program Files\\ArcGIS\\Pro\\Resources\\ArcPy\\arcpy\\conversion.py\u001b[0m in \u001b[0;36mPolygonToRaster\u001b[1;34m(in_features, value_field, out_rasterdataset, cell_assignment, priority_field, cellsize, build_rat)\u001b[0m\n\u001b[0;32m   3351\u001b[0m         \u001b[1;32mreturn\u001b[0m \u001b[0mretval\u001b[0m\u001b[1;33m\u001b[0m\u001b[1;33m\u001b[0m\u001b[0m\n\u001b[0;32m   3352\u001b[0m     \u001b[1;32mexcept\u001b[0m \u001b[0mException\u001b[0m \u001b[1;32mas\u001b[0m \u001b[0me\u001b[0m\u001b[1;33m:\u001b[0m\u001b[1;33m\u001b[0m\u001b[1;33m\u001b[0m\u001b[0m\n\u001b[1;32m-> 3353\u001b[1;33m         \u001b[1;32mraise\u001b[0m \u001b[0me\u001b[0m\u001b[1;33m\u001b[0m\u001b[1;33m\u001b[0m\u001b[0m\n\u001b[0m\u001b[0;32m   3354\u001b[0m \u001b[1;33m\u001b[0m\u001b[0m\n\u001b[0;32m   3355\u001b[0m \u001b[1;33m@\u001b[0m\u001b[0mgptooldoc\u001b[0m\u001b[1;33m(\u001b[0m\u001b[1;34m'PolylineToRaster_conversion'\u001b[0m\u001b[1;33m,\u001b[0m \u001b[1;32mNone\u001b[0m\u001b[1;33m)\u001b[0m\u001b[1;33m\u001b[0m\u001b[1;33m\u001b[0m\u001b[0m\n",
      "\u001b[1;32mC:\\Program Files\\ArcGIS\\Pro\\Resources\\ArcPy\\arcpy\\conversion.py\u001b[0m in \u001b[0;36mPolygonToRaster\u001b[1;34m(in_features, value_field, out_rasterdataset, cell_assignment, priority_field, cellsize, build_rat)\u001b[0m\n\u001b[0;32m   3348\u001b[0m     \u001b[1;32mfrom\u001b[0m \u001b[0marcpy\u001b[0m\u001b[1;33m.\u001b[0m\u001b[0marcobjects\u001b[0m\u001b[1;33m.\u001b[0m\u001b[0marcobjectconversion\u001b[0m \u001b[1;32mimport\u001b[0m \u001b[0mconvertArcObjectToPythonObject\u001b[0m\u001b[1;33m\u001b[0m\u001b[1;33m\u001b[0m\u001b[0m\n\u001b[0;32m   3349\u001b[0m     \u001b[1;32mtry\u001b[0m\u001b[1;33m:\u001b[0m\u001b[1;33m\u001b[0m\u001b[1;33m\u001b[0m\u001b[0m\n\u001b[1;32m-> 3350\u001b[1;33m         \u001b[0mretval\u001b[0m \u001b[1;33m=\u001b[0m \u001b[0mconvertArcObjectToPythonObject\u001b[0m\u001b[1;33m(\u001b[0m\u001b[0mgp\u001b[0m\u001b[1;33m.\u001b[0m\u001b[0mPolygonToRaster_conversion\u001b[0m\u001b[1;33m(\u001b[0m\u001b[1;33m*\u001b[0m\u001b[0mgp_fixargs\u001b[0m\u001b[1;33m(\u001b[0m\u001b[1;33m(\u001b[0m\u001b[0min_features\u001b[0m\u001b[1;33m,\u001b[0m \u001b[0mvalue_field\u001b[0m\u001b[1;33m,\u001b[0m \u001b[0mout_rasterdataset\u001b[0m\u001b[1;33m,\u001b[0m \u001b[0mcell_assignment\u001b[0m\u001b[1;33m,\u001b[0m \u001b[0mpriority_field\u001b[0m\u001b[1;33m,\u001b[0m \u001b[0mcellsize\u001b[0m\u001b[1;33m,\u001b[0m \u001b[0mbuild_rat\u001b[0m\u001b[1;33m)\u001b[0m\u001b[1;33m,\u001b[0m \u001b[1;32mTrue\u001b[0m\u001b[1;33m)\u001b[0m\u001b[1;33m)\u001b[0m\u001b[1;33m)\u001b[0m\u001b[1;33m\u001b[0m\u001b[1;33m\u001b[0m\u001b[0m\n\u001b[0m\u001b[0;32m   3351\u001b[0m         \u001b[1;32mreturn\u001b[0m \u001b[0mretval\u001b[0m\u001b[1;33m\u001b[0m\u001b[1;33m\u001b[0m\u001b[0m\n\u001b[0;32m   3352\u001b[0m     \u001b[1;32mexcept\u001b[0m \u001b[0mException\u001b[0m \u001b[1;32mas\u001b[0m \u001b[0me\u001b[0m\u001b[1;33m:\u001b[0m\u001b[1;33m\u001b[0m\u001b[1;33m\u001b[0m\u001b[0m\n",
      "\u001b[1;32mC:\\Program Files\\ArcGIS\\Pro\\Resources\\ArcPy\\arcpy\\geoprocessing\\_base.py\u001b[0m in \u001b[0;36m<lambda>\u001b[1;34m(*args)\u001b[0m\n\u001b[0;32m    518\u001b[0m         \u001b[0mval\u001b[0m \u001b[1;33m=\u001b[0m \u001b[0mgetattr\u001b[0m\u001b[1;33m(\u001b[0m\u001b[0mself\u001b[0m\u001b[1;33m.\u001b[0m\u001b[0m_gp\u001b[0m\u001b[1;33m,\u001b[0m \u001b[0mattr\u001b[0m\u001b[1;33m)\u001b[0m\u001b[1;33m\u001b[0m\u001b[1;33m\u001b[0m\u001b[0m\n\u001b[0;32m    519\u001b[0m         \u001b[1;32mif\u001b[0m \u001b[0mcallable\u001b[0m\u001b[1;33m(\u001b[0m\u001b[0mval\u001b[0m\u001b[1;33m)\u001b[0m\u001b[1;33m:\u001b[0m\u001b[1;33m\u001b[0m\u001b[1;33m\u001b[0m\u001b[0m\n\u001b[1;32m--> 520\u001b[1;33m             \u001b[1;32mreturn\u001b[0m \u001b[1;32mlambda\u001b[0m \u001b[1;33m*\u001b[0m\u001b[0margs\u001b[0m\u001b[1;33m:\u001b[0m \u001b[0mval\u001b[0m\u001b[1;33m(\u001b[0m\u001b[1;33m*\u001b[0m\u001b[0mgp_fixargs\u001b[0m\u001b[1;33m(\u001b[0m\u001b[0margs\u001b[0m\u001b[1;33m,\u001b[0m \u001b[1;32mTrue\u001b[0m\u001b[1;33m)\u001b[0m\u001b[1;33m)\u001b[0m\u001b[1;33m\u001b[0m\u001b[1;33m\u001b[0m\u001b[0m\n\u001b[0m\u001b[0;32m    521\u001b[0m         \u001b[1;32melse\u001b[0m\u001b[1;33m:\u001b[0m\u001b[1;33m\u001b[0m\u001b[1;33m\u001b[0m\u001b[0m\n\u001b[0;32m    522\u001b[0m             \u001b[1;32mreturn\u001b[0m \u001b[0mconvertArcObjectToPythonObject\u001b[0m\u001b[1;33m(\u001b[0m\u001b[0mval\u001b[0m\u001b[1;33m)\u001b[0m\u001b[1;33m\u001b[0m\u001b[1;33m\u001b[0m\u001b[0m\n",
      "\u001b[1;31mExecuteError\u001b[0m: Failed to execute. Parameters are not valid.\nERROR 000725: Output Raster Dataset: Dataset D:\\Users\\abolmaal\\code\\CoastalWatersheds\\Erase_Riperian\\Wetland_connected_avg_raster.tif already exists.\nFailed to execute (PolygonToRaster).\n"
     ]
    }
   ],
   "source": [
    "# convert erase_buffer_avg polygon to raster with the output name erase_buffer_avg_raster\n",
    "erase_buffer_avg_raster = os.path.join(outErase_path, \"Wetland_connected_avg_raster.tif\")\n",
    "arcpy.PolygonToRaster_conversion(erase_buffer_avg, \"coastal_Id\", erase_buffer_avg_raster, \"CELL_CENTER\", \"NONE\", \"50\")\n",
    "\n",
    "# convert erase_buffer_high polygon to raster with the output name erase_buffer_high_raster\n",
    "erase_buffer_high_raster = os.path.join(outErase_path, \"Wetland_connected_high_raster.tif\")\n",
    "arcpy.PolygonToRaster_conversion(erase_buffer_high, \"coastal_Id\", erase_buffer_high_raster, \"CELL_CENTER\", \"NONE\", \"50\")\n",
    "\n",
    "# convert erase_buffer_low polygon to raster with the output name erase_buffer_low_raster\n",
    "erase_buffer_low_raster = os.path.join(outErase_path, \"Wetland_connected_low_raster.tif\")\n",
    "arcpy.PolygonToRaster_conversion(erase_buffer_low, \"coastal_Id\", erase_buffer_low_raster, \"CELL_CENTER\", \"NONE\", \"50\")\n",
    "\n",
    "## convert erase_buffer_surge polygon to raster with the output name erase_buffer_low_raster\n",
    "erase_buffer_surge_raster = os.path.join(outErase_path, \"Wetland_connected_surge_raster.tif\")\n",
    "arcpy.PolygonToRaster_conversion(erase_buffer_surge, \"coastal_Id\", erase_buffer_surge_raster, \"CELL_CENTER\", \"NONE\", \"50\")\n",
    "\n"
   ]
  },
  {
   "cell_type": "markdown",
   "metadata": {},
   "source": [
    "Create Watershed"
   ]
  },
  {
   "cell_type": "code",
   "execution_count": 15,
   "metadata": {},
   "outputs": [
    {
     "data": {
      "text/html": [
       "<div class='gpresult'><h2>Messages</h2><div id='messages' data-messages='[\"Start Time: Thursday, September 19, 2024 10:46:43 AM\",\"Temporary data will be created in C:\\\\Users\\\\abolmaal\\\\AppData\\\\Local\\\\Temp\\\\s1c2e0121_2b71_4d1e_a484_027176fd1e8b\",\"98 MB of temporary storage is estimated to be needed. 319,343 MB of storage is currently available.\",\"Distributing operation across 3 parallel instances.\",\"2024-09-19T10:46:47.786: Initialization Phase ...\",\"2024-09-19T10:46:49.559: Iteration Phase ...\",\"2024-09-19T10:46:50.432: Completion Phase ...\",\"98 MB of temporary storage was used.\",\"Succeeded at Thursday, September 19, 2024 10:46:51 AM (Elapsed Time: 7.46 seconds)\"]' data-show='true'><div id = 'default' /></div></div>"
      ],
      "text/plain": [
       "<geoprocessing server result object at 0x1a6af853bd0>"
      ]
     },
     "execution_count": 15,
     "metadata": {},
     "output_type": "execute_result"
    }
   ],
   "source": [
    "D8_flow  = r\"S:\\Projects\\Active\\GLB_Nutrient_Transport\\DEM_rasters\\GLB_Bdry_buff10km_dem_fill_dir.tif\"\n",
    "\n",
    "# Create watershed for erase_buffer_avg_raster with the output name erase_buffer_avg_watershed and the flow direction raster D8_flow and set then snap raster and extent to D8_flow\n",
    "erase_buffer_avg_watershed = os.path.join(outErase_path, \"Wetland_connected_avg_watershed.tif\")\n",
    "arcpy.gp.Watershed_sa(D8_flow, erase_buffer_avg_raster, erase_buffer_avg_watershed)\n",
    "\n",
    "# Create watershed for erase_buffer_high_raster with the output name erase_buffer_high_watershed and the flow direction raster D8_flow and set then snap raster and extent to D8_flow\n",
    "erase_buffer_high_watershed = os.path.join(outErase_path, \"Wetland_connected_high_watershed.tif\")\n",
    "arcpy.gp.Watershed_sa(D8_flow, erase_buffer_high_raster, erase_buffer_high_watershed)\n",
    "\n",
    "# Create watershed for erase_buffer_low_raster with the output name erase_buffer_low_watershed and the flow direction raster D8_flow and set then snap raster and extent to D8_flow\n",
    "erase_buffer_low_watershed = os.path.join(outErase_path, \"Wetland_connected_low_watershed.tif\")\n",
    "arcpy.gp.Watershed_sa(D8_flow, erase_buffer_low_raster, erase_buffer_low_watershed)\n",
    "\n",
    "# Create watershed for erase_buffer_surge_raster with the output name erase_buffer_surge_watershed and the flow direction raster D8_flow and set then snap raster and extent to D8_flow\n",
    "erase_buffer_surge_watershed = os.path.join(outErase_path, \"Wetland_connected_surge_watershed.tif\")\n",
    "arcpy.gp.Watershed_sa(D8_flow, erase_buffer_surge_raster, erase_buffer_surge_watershed)\n",
    "\n"
   ]
  },
  {
   "cell_type": "code",
   "execution_count": 16,
   "metadata": {},
   "outputs": [
    {
     "data": {
      "text/html": [
       "<div class='gpresult'><h2>Messages</h2><div id='messages' data-messages='[\"Start Time: Thursday, September 19, 2024 10:46:57 AM\",\"Succeeded at Thursday, September 19, 2024 10:46:59 AM (Elapsed Time: 1.77 seconds)\"]' data-show='true'><div id = 'default' /></div></div>"
      ],
      "text/plain": [
       "<Result 'D:\\\\Users\\\\abolmaal\\\\code\\\\CoastalWatersheds\\\\Erase_Riperian\\\\Wetland_connected_surge_watershed.shp'>"
      ]
     },
     "execution_count": 16,
     "metadata": {},
     "output_type": "execute_result"
    }
   ],
   "source": [
    "# convert erase_buffer_avg_watershed to polygon with the output name erase_buffer_avg_watershed_poly\n",
    "erase_buffer_avg_watershed_poly = os.path.join(outErase_path, \"Wetland_connected_avg_watershed.shp\")\n",
    "arcpy.RasterToPolygon_conversion(erase_buffer_avg_watershed, erase_buffer_avg_watershed_poly, \"SIMPLIFY\", \"VALUE\")\n",
    "\n",
    "# convert erase_buffer_high_watershed to polygon with the output name erase_buffer_high_watershed_poly\n",
    "erase_buffer_high_watershed_poly = os.path.join(outErase_path, \"Wetland_connected_high_watershed.shp\")\n",
    "arcpy.RasterToPolygon_conversion(erase_buffer_high_watershed, erase_buffer_high_watershed_poly, \"SIMPLIFY\", \"VALUE\")\n",
    "\n",
    "# convert erase_buffer_low_watershed to polygon with the output name erase_buffer_low_watershed_poly\n",
    "erase_buffer_low_watershed_poly = os.path.join(outErase_path, \"Wetland_connected_low_watershed.shp\")\n",
    "arcpy.RasterToPolygon_conversion(erase_buffer_low_watershed, erase_buffer_low_watershed_poly, \"SIMPLIFY\", \"VALUE\")\n",
    "\n",
    "# convert erase_buffer_surge_watershed to polygon with the output name erase_buffer_surge_watershed_poly\n",
    "erase_buffer_surge_watershed_poly = os.path.join(outErase_path, \"Wetland_connected_surge_watershed.shp\")\n",
    "arcpy.RasterToPolygon_conversion(erase_buffer_surge_watershed, erase_buffer_surge_watershed_poly, \"SIMPLIFY\", \"VALUE\")"
   ]
  },
  {
   "cell_type": "markdown",
   "metadata": {},
   "source": [
    "### 4- Erase Lake drainage watersed from coastal watershed"
   ]
  },
  {
   "cell_type": "code",
   "execution_count": 17,
   "metadata": {},
   "outputs": [
    {
     "data": {
      "text/html": [
       "<div class='gpresult'><h2>Messages</h2><div id='messages' data-messages='[\"Start Time: Thursday, September 19, 2024 10:47:33 AM\",\"Adding coastal_id to CoastalWatershed_surge_erase_lakedrain...\",\"Succeeded at Thursday, September 19, 2024 10:47:33 AM (Elapsed Time: 0.42 seconds)\"]' data-show='true'><div id = 'default' /></div></div>"
      ],
      "text/plain": [
       "<Result 'D:\\\\Users\\\\abolmaal\\\\code\\\\CoastalWatersheds\\\\Erase_drainage\\\\CoastalWatershed_surge_erase_lakedrain.shp'>"
      ]
     },
     "execution_count": 17,
     "metadata": {},
     "output_type": "execute_result"
    }
   ],
   "source": [
    "outpath = r\"D:\\Users\\abolmaal\\code\\CoastalWatersheds\\Erase_drainage\"\n",
    "path_to_streamwatershed = r\"D:\\Users\\abolmaal\\Arcgis\\NASAOceanProject\\GIS_layer\\Streamwatershed\\PointWaterdhed_LH.shp\"\n",
    "\n",
    "\n",
    "# Erase the erase_buffer_avg_watershed_poly from the path_to_streamwatershed shapefile with the output name CoastalWatershed_avg_erase_lakedrain.shp and add a field called coastal_id to the output shapefile that is equal to FID+1\n",
    "\n",
    "CoastalWatershed_avg_erase_lakedrain = os.path.join(outpath, \"CoastalWatershed_avg_erase_lakedrain.shp\")\n",
    "arcpy.Erase_analysis(erase_buffer_avg_watershed_poly,path_to_streamwatershed, CoastalWatershed_avg_erase_lakedrain, None)\n",
    "arcpy.CalculateField_management(CoastalWatershed_avg_erase_lakedrain, \"coastal_id\", \"!FID! + 1\", \"PYTHON3\")\n",
    "\n",
    "# Erase the erase_buffer_high_watershed_poly from the path_to_streamwatershed shapefile with the output name CoastalWatershed_high_erase_lakedrain.shp and add a field called coastal_id to the output shapefile that is equal to FID +1\n",
    "CoastaWatershed_high_erase_lakedrain = os.path.join(outpath, \"CoastalWatershed_high_erase_lakedrain.shp\")\n",
    "arcpy.Erase_analysis(erase_buffer_high_watershed_poly, path_to_streamwatershed, CoastaWatershed_high_erase_lakedrain, None)\n",
    "arcpy.CalculateField_management(CoastaWatershed_high_erase_lakedrain, \"coastal_id\", \"!FID! + 1\", \"PYTHON3\")\n",
    "\n",
    "\n",
    "# Erase the erase_buffer_low_watershed_poly from the path_to_streamwatershed shapefile with the output name CoastalWatershed_low_erase_lakedrain.shp and add a field called coastal_id to the output shapefile that is equal to FID +1\n",
    "CoastaWatershed_low_erase_lakedrain = os.path.join(outpath, \"CoastalWatershed_low_erase_lakedrain.shp\")\n",
    "arcpy.Erase_analysis(erase_buffer_low_watershed_poly, path_to_streamwatershed, CoastaWatershed_low_erase_lakedrain, None)\n",
    "arcpy.CalculateField_management(CoastaWatershed_low_erase_lakedrain, \"coastal_id\", \"!FID! + 1\", \"PYTHON3\")\n",
    "\n",
    "# Erase the erase_buffer_surge_watershed_poly from the path_to_streamwatershed shapefile with the output name CoastalWatershed_surge_erase_lakedrain.shp and add a field called coastal_id to the output shapefile that is equal to FID +1\n",
    "CoastaWatershed_surge_erase_lakedrain = os.path.join(outpath, \"CoastalWatershed_surge_erase_lakedrain.shp\")\n",
    "arcpy.Erase_analysis(erase_buffer_surge_watershed_poly, path_to_streamwatershed, CoastaWatershed_surge_erase_lakedrain, None)\n",
    "arcpy.CalculateField_management(CoastaWatershed_surge_erase_lakedrain, \"coastal_id\", \"!FID! + 1\", \"PYTHON3\")\n",
    "\n"
   ]
  },
  {
   "cell_type": "code",
   "execution_count": 18,
   "metadata": {},
   "outputs": [
    {
     "data": {
      "text/html": [
       "<div class='gpresult'><h2>Messages</h2><div id='messages' data-messages='[\"Start Time: Thursday, September 19, 2024 10:47:41 AM\",\"Succeeded at Thursday, September 19, 2024 10:47:42 AM (Elapsed Time: 0.93 seconds)\"]' data-show='true'><div id = 'default' /></div></div>"
      ],
      "text/plain": [
       "<Result 'D:\\\\Users\\\\abolmaal\\\\code\\\\CoastalWatersheds\\\\Erase_drainage\\\\CoastalWatershed_surge_erase_lakedrain.shp'>"
      ]
     },
     "execution_count": 18,
     "metadata": {},
     "output_type": "execute_result"
    }
   ],
   "source": [
    "# Add a field called Shape_Area to the CoastalWatershed_avg_erase_lakedrain shapefile that is equal to the area of each feature\n",
    "arcpy.AddField_management(CoastalWatershed_avg_erase_lakedrain, \"Shape_Area\", \"DOUBLE\")\n",
    "arcpy.CalculateGeometryAttributes_management(CoastalWatershed_avg_erase_lakedrain, [[\"Shape_Area\", \"AREA\"]], area_unit=\"SQUARE_METERS\")\n",
    "\n",
    "# Add a field called Shape_Area to the CoastaWatershed_high_erase_lakedrain shapefile that is equal to the area of each feature\n",
    "arcpy.AddField_management(CoastaWatershed_high_erase_lakedrain, \"Shape_Area\", \"DOUBLE\")\n",
    "arcpy.CalculateGeometryAttributes_management(CoastaWatershed_high_erase_lakedrain, [[\"Shape_Area\", \"AREA\"]], area_unit=\"SQUARE_METERS\")\n",
    "\n",
    "# Add a field called Shape_Area to the CoastaWatershed_low_erase_lakedrain shapefile that is equal to the area of each feature\n",
    "arcpy.AddField_management(CoastaWatershed_low_erase_lakedrain, \"Shape_Area\", \"DOUBLE\")\n",
    "arcpy.CalculateGeometryAttributes_management(CoastaWatershed_low_erase_lakedrain, [[\"Shape_Area\", \"AREA\"]], area_unit=\"SQUARE_METERS\")\n",
    "\n",
    "# Add a field called Shape_Area to the CoastaWatershed_surge_erase_lakedrain shapefile that is equal to the area of each feature\n",
    "arcpy.AddField_management(CoastaWatershed_surge_erase_lakedrain, \"Shape_Area\", \"DOUBLE\")\n",
    "arcpy.CalculateGeometryAttributes_management(CoastaWatershed_surge_erase_lakedrain, [[\"Shape_Area\", \"AREA\"]], area_unit=\"SQUARE_METERS\")\n"
   ]
  },
  {
   "cell_type": "markdown",
   "metadata": {},
   "source": [
    "Some parts of coastal watershed are in the lake, we need to Earse the parts that are inside the Lake"
   ]
  },
  {
   "cell_type": "code",
   "execution_count": 19,
   "metadata": {},
   "outputs": [
    {
     "data": {
      "text/html": [
       "<div class='gpresult'><h2>Messages</h2><div id='messages' data-messages='[\"Start Time: Thursday, September 19, 2024 10:48:22 AM\",\"Reading Features...\",\"Cracking Features...\",\"Assembling Features...\",\"Succeeded at Thursday, September 19, 2024 10:48:25 AM (Elapsed Time: 3.54 seconds)\"]' data-show='true'><div id = 'default' /></div></div>"
      ],
      "text/plain": [
       "<Result 'D:\\\\Users\\\\abolmaal\\\\code\\\\CoastalWatersheds\\\\Erase_lake\\\\CoastalWatershed_surge_erase_lakedrain_LakeHuron.shp'>"
      ]
     },
     "execution_count": 19,
     "metadata": {},
     "output_type": "execute_result"
    }
   ],
   "source": [
    "# path to Lake Huron shapefile\n",
    "Lake_Huron = r\"D:\\Users\\abolmaal\\Arcgis\\NASAOceanProject\\GIS_layer\\Basins\\hydro_p_LakeHuron\\hydro_p_LakeHuron_84.shp\"\n",
    "outErase_Lake_path = r\"D:\\Users\\abolmaal\\code\\CoastalWatersheds\\Erase_lake\"\n",
    "\n",
    "# Erase the CoastalWatershed_avg_erase_lakedrain shapefile from the Lake_Huron shapefile with the output name CoastalWatershed_avg_erase_lakedrain_LakeHuron.shp \n",
    "# and save it in outErase_Lake_path\n",
    "CoastalWatershed_avg_erase_lakedrain_LakeHuron = os.path.join(outErase_Lake_path, \"CoastalWatershed_avg_erase_lakedrain_LakeHuron.shp\")\n",
    "arcpy.Erase_analysis(CoastalWatershed_avg_erase_lakedrain, Lake_Huron, CoastalWatershed_avg_erase_lakedrain_LakeHuron, None)\n",
    "\n",
    "\n",
    "# Erase the CoastaWatershed_high_erase_lakedrain shapefile from the Lake_Huron shapefile with the output name CoastalWatershed_high_erase_lakedrain_LakeHuron.shp\n",
    "# and save it in outErase_Lake_path\n",
    "CoastalWatershed_high_erase_lakedrain_LakeHuron = os.path.join(outErase_Lake_path, \"CoastalWatershed_high_erase_lakedrain_LakeHuron.shp\")\n",
    "arcpy.Erase_analysis(CoastaWatershed_high_erase_lakedrain, Lake_Huron, CoastalWatershed_high_erase_lakedrain_LakeHuron, None)\n",
    "\n",
    "# Erase the CoastaWatershed_low_erase_lakedrain shapefile from the Lake_Huron shapefile with the output name CoastalWatershed_low_erase_lakedrain_LakeHuron.shp\n",
    "# and save it in outErase_Lake_path\n",
    "CoastalWatershed_low_erase_lakedrain_LakeHuron = os.path.join(outErase_Lake_path, \"CoastalWatershed_low_erase_lakedrain_LakeHuron.shp\")\n",
    "arcpy.Erase_analysis(CoastaWatershed_low_erase_lakedrain, Lake_Huron, CoastalWatershed_low_erase_lakedrain_LakeHuron, None)\n",
    "\n",
    "# Erase the CoastaWatershed_surge_erase_lakedrain shapefile from the Lake_Huron shapefile with the output name CoastalWatershed_surge_erase_lakedrain_LakeHuron.shp\n",
    "# and save it in outErase_Lake_path\n",
    "CoastalWatershed_surge_erase_lakedrain_LakeHuron = os.path.join(outErase_Lake_path, \"CoastalWatershed_surge_erase_lakedrain_LakeHuron.shp\")\n",
    "arcpy.Erase_analysis(CoastaWatershed_surge_erase_lakedrain, Lake_Huron, CoastalWatershed_surge_erase_lakedrain_LakeHuron, None)\n"
   ]
  },
  {
   "cell_type": "code",
   "execution_count": 20,
   "metadata": {},
   "outputs": [
    {
     "data": {
      "text/html": [
       "<div class='gpresult'><h2>Messages</h2><div id='messages' data-messages='[\"Start Time: Thursday, September 19, 2024 10:49:23 AM\",\"Succeeded at Thursday, September 19, 2024 10:49:28 AM (Elapsed Time: 4.36 seconds)\"]' data-show='true'><div id = 'default' /></div></div>"
      ],
      "text/plain": [
       "<Result 'D:\\\\Users\\\\abolmaal\\\\code\\\\CoastalWatersheds\\\\Erase_lake\\\\CoastalWatershed_surge_erase_lakedrain_LakeHuron.shp'>"
      ]
     },
     "execution_count": 20,
     "metadata": {},
     "output_type": "execute_result"
    }
   ],
   "source": [
    "# add start_lat and start_lon fields to the CoastalWatershed_avg_erase_lakedrain_LakeHuron shapefile and calculate the geometry of each feature\n",
    "arcpy.AddField_management(CoastalWatershed_avg_erase_lakedrain_LakeHuron, \"start_lat\", \"DOUBLE\")\n",
    "arcpy.AddField_management(CoastalWatershed_avg_erase_lakedrain_LakeHuron, \"start_lon\", \"DOUBLE\")\n",
    "arcpy.CalculateGeometryAttributes_management(CoastalWatershed_avg_erase_lakedrain_LakeHuron, [[\"start_lat\", \"CENTROID_Y\"], [\"start_lon\", \"CENTROID_X\"]], area_unit=\"SQUARE_METERS\")\n",
    "\n",
    "# add start_lat and start_lon fields to the CoastalWatershed_high_erase_lakedrain_LakeHuron shapefile and calculate the geometry of each feature\n",
    "arcpy.AddField_management(CoastalWatershed_high_erase_lakedrain_LakeHuron, \"start_lat\", \"DOUBLE\")\n",
    "arcpy.AddField_management(CoastalWatershed_high_erase_lakedrain_LakeHuron, \"start_lon\", \"DOUBLE\")\n",
    "arcpy.CalculateGeometryAttributes_management(CoastalWatershed_high_erase_lakedrain_LakeHuron, [[\"start_lat\", \"CENTROID_Y\"], [\"start_lon\", \"CENTROID_X\"]], area_unit=\"SQUARE_METERS\")\n",
    "\n",
    "# add start_lat and start_lon fields to the CoastalWatershed_low_erase_lakedrain_LakeHuron shapefile and calculate the geometry of each feature\n",
    "arcpy.AddField_management(CoastalWatershed_low_erase_lakedrain_LakeHuron, \"start_lat\", \"DOUBLE\")\n",
    "arcpy.AddField_management(CoastalWatershed_low_erase_lakedrain_LakeHuron, \"start_lon\", \"DOUBLE\")\n",
    "arcpy.CalculateGeometryAttributes_management(CoastalWatershed_low_erase_lakedrain_LakeHuron, [[\"start_lat\", \"CENTROID_Y\"], [\"start_lon\", \"CENTROID_X\"]], area_unit=\"SQUARE_METERS\")\n",
    "\n",
    "# add start_lat and start_lon fields to the CoastalWatershed_surge_erase_lakedrain_LakeHuron shapefile and calculate the geometry of each feature\n",
    "arcpy.AddField_management(CoastalWatershed_surge_erase_lakedrain_LakeHuron, \"start_lat\", \"DOUBLE\")\n",
    "arcpy.AddField_management(CoastalWatershed_surge_erase_lakedrain_LakeHuron, \"start_lon\", \"DOUBLE\")\n",
    "arcpy.CalculateGeometryAttributes_management(CoastalWatershed_surge_erase_lakedrain_LakeHuron, [[\"start_lat\", \"CENTROID_Y\"], [\"start_lon\", \"CENTROID_X\"]], area_unit=\"SQUARE_METERS\")\n"
   ]
  },
  {
   "cell_type": "code",
   "execution_count": 21,
   "metadata": {},
   "outputs": [
    {
     "data": {
      "text/html": [
       "<div class='gpresult'><h2>Messages</h2><div id='messages' data-messages='[\"Start Time: Thursday, September 19, 2024 10:51:21 AM\",\"Succeeded at Thursday, September 19, 2024 10:51:23 AM (Elapsed Time: 1.30 seconds)\"]' data-show='true'><div id = 'default' /></div></div>"
      ],
      "text/plain": [
       "<Result 'D:\\\\Users\\\\abolmaal\\\\code\\\\CoastalWatersheds\\\\Erase_lake\\\\CoastalWatershed_avg_erase_lakedrain_LakeHuron_WGS1984.shp'>"
      ]
     },
     "execution_count": 21,
     "metadata": {},
     "output_type": "execute_result"
    }
   ],
   "source": [
    "# change the crs of the CoastalWatershed_avg_erase_lakedrain_LakeHuron shapefile to WGS 1984\n",
    "CoastalWatershed_avg_erase_lakedrain_LakeHuron_WGS1984 = os.path.join(outErase_Lake_path, \"CoastalWatershed_avg_erase_lakedrain_LakeHuron_WGS1984.shp\")\n",
    "arcpy.Project_management(CoastalWatershed_avg_erase_lakedrain_LakeHuron, CoastalWatershed_avg_erase_lakedrain_LakeHuron_WGS1984, arcpy.SpatialReference(4326))\n",
    "# calculate start_lat and start_lon fields for the CoastalWatershed_avg_erase_lakedrain_LakeHuron_WGS1984 shapefile\n",
    "arcpy.CalculateGeometryAttributes_management(CoastalWatershed_avg_erase_lakedrain_LakeHuron_WGS1984, [[\"start_lat\", \"CENTROID_Y\"], [\"start_lon\", \"CENTROID_X\"]], area_unit=\"SQUARE_METERS\")\n"
   ]
  },
  {
   "cell_type": "code",
   "execution_count": 23,
   "metadata": {},
   "outputs": [
    {
     "data": {
      "text/html": [
       "<div class='gpresult'><h2>Messages</h2><div id='messages' data-messages='[\"Start Time: Thursday, September 19, 2024 10:55:50 AM\",\"Succeeded at Thursday, September 19, 2024 10:55:54 AM (Elapsed Time: 4.32 seconds)\"]' data-show='true'><div id = 'default' /></div></div>"
      ],
      "text/plain": [
       "<Result 'D:\\\\Users\\\\abolmaal\\\\code\\\\CoastalWatersheds\\\\Erase_lake\\\\CoastalWatershed_surge_erase_lakedrain_LakeHuron_WGS1984.shp'>"
      ]
     },
     "execution_count": 23,
     "metadata": {},
     "output_type": "execute_result"
    }
   ],
   "source": [
    "# change the crs of the CoastalWatershed_high_erase_lakedrain_LakeHuron shapefile to WGS 1984\n",
    "CoastalWatershed_high_erase_lakedrain_LakeHuron_WGS1984 = os.path.join(outErase_Lake_path, \"CoastalWatershed_high_erase_lakedrain_LakeHuron_WGS1984.shp\")\n",
    "arcpy.Project_management(CoastalWatershed_high_erase_lakedrain_LakeHuron, CoastalWatershed_high_erase_lakedrain_LakeHuron_WGS1984, arcpy.SpatialReference(4326))\n",
    "# calculate start_lat and start_lon fields for the CoastalWatershed_high_erase_lakedrain_LakeHuron_WGS1984 shapefile\n",
    "arcpy.CalculateGeometryAttributes_management(CoastalWatershed_high_erase_lakedrain_LakeHuron_WGS1984, [[\"start_lat\", \"CENTROID_Y\"], [\"start_lon\", \"CENTROID_X\"]], area_unit=\"SQUARE_METERS\")\n",
    "\n",
    "# change the crs of the CoastalWatershed_low_erase_lakedrain_LakeHuron shapefile to WGS 1984\n",
    "CoastalWatershed_low_erase_lakedrain_LakeHuron_WGS1984 = os.path.join(outErase_Lake_path, \"CoastalWatershed_low_erase_lakedrain_LakeHuron_WGS1984.shp\")\n",
    "arcpy.Project_management(CoastalWatershed_low_erase_lakedrain_LakeHuron, CoastalWatershed_low_erase_lakedrain_LakeHuron_WGS1984, arcpy.SpatialReference(4326))\n",
    "# calculate start_lat and start_lon fields for the CoastalWatershed_low_erase_lakedrain_LakeHuron_WGS1984 shapefile\n",
    "arcpy.CalculateGeometryAttributes_management(CoastalWatershed_low_erase_lakedrain_LakeHuron_WGS1984, [[\"start_lat\", \"CENTROID_Y\"], [\"start_lon\", \"CENTROID_X\"]], area_unit=\"SQUARE_METERS\")\n",
    "\n",
    "# change the crs of the CoastalWatershed_surge_erase_lakedrain_LakeHuron shapefile to WGS 1984\n",
    "CoastalWatershed_surge_erase_lakedrain_LakeHuron_WGS1984 = os.path.join(outErase_Lake_path, \"CoastalWatershed_surge_erase_lakedrain_LakeHuron_WGS1984.shp\")\n",
    "arcpy.Project_management(CoastalWatershed_surge_erase_lakedrain_LakeHuron, CoastalWatershed_surge_erase_lakedrain_LakeHuron_WGS1984, arcpy.SpatialReference(4326))\n",
    "# calculate start_lat and start_lon fields for the CoastalWatershed_surge_erase_lakedrain_LakeHuron_WGS1984 shapefile\n",
    "arcpy.CalculateGeometryAttributes_management(CoastalWatershed_surge_erase_lakedrain_LakeHuron_WGS1984, [[\"start_lat\", \"CENTROID_Y\"], [\"start_lon\", \"CENTROID_X\"]], area_unit=\"SQUARE_METERS\")\n",
    "\n"
   ]
  }
 ],
 "metadata": {
  "kernelspec": {
   "display_name": "Python 3",
   "language": "python",
   "name": "python3"
  },
  "language_info": {
   "codemirror_mode": {
    "name": "ipython",
    "version": 3
   },
   "file_extension": ".py",
   "mimetype": "text/x-python",
   "name": "python",
   "nbconvert_exporter": "python",
   "pygments_lexer": "ipython3",
   "version": "3.9.18"
  }
 },
 "nbformat": 4,
 "nbformat_minor": 2
}

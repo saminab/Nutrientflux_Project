{
 "cells": [
  {
   "cell_type": "markdown",
   "metadata": {},
   "source": [
    "# Creating Coastal Watershed"
   ]
  },
  {
   "cell_type": "code",
   "execution_count": 1,
   "metadata": {},
   "outputs": [],
   "source": [
    "# imports\n",
    "### Reqiured Imports###\n",
    "import pandas, os\n",
    "import arcpy\n",
    "from matplotlib import pyplot as plt"
   ]
  },
  {
   "cell_type": "code",
   "execution_count": 2,
   "metadata": {},
   "outputs": [],
   "source": [
    "# define the path to coastal wetlands shapefile\n",
    "inDCW = r\"D:\\Users\\abolmaal\\Arcgis\\NASAOceanProject\\GIS_layer\\Coastalwetland\\shapefiles\"\n",
    "\n",
    "# Coastal Wetlands\n",
    "wetlands_avg_inun = os.path.join(inDCW, \"Wetland_connected_avg_inundation_NAD1983\")\n",
    "wetlands_high_inun = os.path.join(inDCW, \"wetlands_connected_high_inundation_NAD1983\")\n",
    "wetlands_low_inun = os.path.join(inDCW, \"wetlands_connected_low_inundation_NAD1983\")\n",
    "wetlands_surge = os.path.join(inDCW, \"wetlands_connected_surge_inundation_NAD1983\")\n",
    "\n",
    "# define the path to streams \n",
    "inStreams = r\"D:\\Users\\abolmaal\\Arcgis\\NASAOceanProject\\GIS_layer\\GLB_Stream\\GLB_stream_Ras_FeatureToLine.shp\"\n",
    "\n"
   ]
  },
  {
   "cell_type": "markdown",
   "metadata": {},
   "source": [
    "### 1- Buffer the streams\n",
    "Buffer Polyline to create your riverin riperian area"
   ]
  },
  {
   "cell_type": "code",
   "execution_count": 3,
   "metadata": {},
   "outputs": [
    {
     "data": {
      "text/html": [
       "<div class='gpresult'><h2>Messages</h2><div id='messages' data-messages='[\"Start Time: Tuesday, August 13, 2024 12:03:01 PM\",\"Succeeded at Tuesday, August 13, 2024 12:03:11 PM (Elapsed Time: 10.62 seconds)\"]' data-show='true'><div id = 'default' /></div></div>"
      ],
      "text/plain": [
       "<Result 'D:\\\\Users\\\\abolmaal\\\\code\\\\CoastalWatersheds\\\\GLB_Stream\\\\Buffer_50m\\\\GLB_stream_Ras_FeatureToLine_Buffer_50m.shp'>"
      ]
     },
     "execution_count": 3,
     "metadata": {},
     "output_type": "execute_result"
    }
   ],
   "source": [
    "# Buffer inStreams by 50 meters \n",
    "outBuffer = r\"D:\\Users\\abolmaal\\code\\CoastalWatersheds\\GLB_Stream\\Buffer_50m\\GLB_stream_Ras_FeatureToLine_Buffer_50m.shp\"\n",
    "\n",
    "# buffer inStreams by 50 meters\n",
    "arcpy.Buffer_analysis(inStreams, outBuffer, \"50 Meters\", \"FULL\", \"ROUND\", \"NONE\", None, \"PLANAR\")"
   ]
  },
  {
   "cell_type": "markdown",
   "metadata": {},
   "source": [
    "### 2- Erase your coastal wetlands that overlap with your riperian area"
   ]
  },
  {
   "cell_type": "code",
   "execution_count": 4,
   "metadata": {},
   "outputs": [
    {
     "data": {
      "text/html": [
       "<div class='gpresult'><h2>Messages</h2><div id='messages' data-messages='[\"Start Time: Tuesday, August 13, 2024 12:07:50 PM\",\"Reading Features...\",\"Cracking Features...\",\"Assembling Features...\",\"Succeeded at Tuesday, August 13, 2024 12:08:07 PM (Elapsed Time: 17.24 seconds)\"]' data-show='true'><div id = 'default' /></div></div>"
      ],
      "text/plain": [
       "<Result 'D:\\\\Users\\\\abolmaal\\\\code\\\\CoastalWatersheds\\\\Erase_Riperian\\\\Wetland_connected_surge_erasebuff_50.shp'>"
      ]
     },
     "execution_count": 4,
     "metadata": {},
     "output_type": "execute_result"
    }
   ],
   "source": [
    "outErase_path = r\"D:\\Users\\abolmaal\\code\\CoastalWatersheds\\Erase_Riperian\"\n",
    "erase_buffer_avg = os.path.join(outErase_path, \"Wetland_connected_avg_erasebuff_50.shp\")\n",
    "erase_buffer_high = os.path.join(outErase_path, \"Wetland_connected_high_erasebuff_50.shp\")\n",
    "erase_buffer_low = os.path.join(outErase_path, \"Wetland_connected_low_erasebuff_50.shp\")\n",
    "erase_buffer_surge = os.path.join(outErase_path, \"Wetland_connected_surge_erasebuff_50.shp\")\n",
    "\n",
    "# Erase the outBuffer from the wetlands_avg_inun shapefile with the output name erase_buffer_avg\n",
    "arcpy.Erase_analysis(wetlands_avg_inun, outBuffer, erase_buffer_avg, None)\n",
    "\n",
    "# Erase the outBuffer from the wetlands_high_inun shapefile with the output name erase_buffer_high\n",
    "arcpy.Erase_analysis(wetlands_high_inun, outBuffer, erase_buffer_high, None)\n",
    "\n",
    "# Erase the outBuffer from the wetlands_low_inun shapefile with the output name erase_buffer_low\n",
    "arcpy.Erase_analysis(wetlands_low_inun, outBuffer, erase_buffer_low, None)\n",
    "\n",
    "# Erase the outBuffer from the wetlands_surge shapefile with the output name erase_buffer_surge\n",
    "arcpy.Erase_analysis(wetlands_surge, outBuffer, erase_buffer_surge, None)"
   ]
  },
  {
   "cell_type": "markdown",
   "metadata": {},
   "source": [
    "#### 2-1 Add a field called coastal_Id"
   ]
  },
  {
   "cell_type": "code",
   "execution_count": 5,
   "metadata": {},
   "outputs": [
    {
     "data": {
      "text/html": [
       "<div class='gpresult'><h2>Messages</h2><div id='messages' data-messages='[\"Start Time: Tuesday, August 13, 2024 1:59:33 PM\",\"Succeeded at Tuesday, August 13, 2024 1:59:34 PM (Elapsed Time: 0.62 seconds)\"]' data-show='true'><div id = 'default' /></div></div>"
      ],
      "text/plain": [
       "<Result 'D:\\\\Users\\\\abolmaal\\\\code\\\\CoastalWatersheds\\\\Erase_Riperian\\\\Wetland_connected_surge_erasebuff_50.shp'>"
      ]
     },
     "execution_count": 5,
     "metadata": {},
     "output_type": "execute_result"
    }
   ],
   "source": [
    "# add a field called coastal_id to the erase_buffer_avg shapefile that is equal to FID field +1\n",
    "arcpy.AddField_management(erase_buffer_avg, \"coastal_Id\", \"LONG\")\n",
    "arcpy.CalculateField_management(erase_buffer_avg, \"coastal_id\", \"!FID! + 1\", \"PYTHON3\")\n",
    "\n",
    "# add a field called coastal_id to the erase_buffer_high shapefile that is equal to FID field +1\n",
    "arcpy.AddField_management(erase_buffer_high, \"coastal_Id\", \"LONG\")\n",
    "arcpy.CalculateField_management(erase_buffer_high, \"coastal_id\", \"!FID! + 1\", \"PYTHON3\")\n",
    "\n",
    "# add a field called coastal_id to the erase_buffer_low shapefile that is equal to FID field +1\n",
    "arcpy.AddField_management(erase_buffer_low, \"coastal_Id\", \"LONG\")\n",
    "arcpy.CalculateField_management(erase_buffer_low, \"coastal_id\", \"!FID! + 1\", \"PYTHON3\")\n",
    "\n",
    "# add a field called coastal_id to the erase_buffer_surge shapefile that is equal to FID field +1\n",
    "arcpy.AddField_management(erase_buffer_surge, \"coastal_Id\", \"LONG\")\n",
    "arcpy.CalculateField_management(erase_buffer_surge, \"coastal_id\", \"!FID! + 1\", \"PYTHON3\")\n"
   ]
  },
  {
   "cell_type": "markdown",
   "metadata": {},
   "source": [
    "### 3- Create a watershed"
   ]
  },
  {
   "cell_type": "markdown",
   "metadata": {},
   "source": [
    "convert erase_buffer_avg polygon to raster with the output name erase_buffer_avg_raster"
   ]
  },
  {
   "cell_type": "code",
   "execution_count": 6,
   "metadata": {},
   "outputs": [
    {
     "data": {
      "text/html": [
       "<div class='gpresult'><h2>Messages</h2><div id='messages' data-messages='[\"Start Time: Tuesday, August 13, 2024 2:03:02 PM\",\"Succeeded at Tuesday, August 13, 2024 2:03:03 PM (Elapsed Time: 0.86 seconds)\"]' data-show='true'><div id = 'default' /></div></div>"
      ],
      "text/plain": [
       "<Result 'D:\\\\Users\\\\abolmaal\\\\code\\\\CoastalWatersheds\\\\Erase_Riperian\\\\Wetland_connected_surge_raster.tif'>"
      ]
     },
     "execution_count": 6,
     "metadata": {},
     "output_type": "execute_result"
    }
   ],
   "source": [
    "# convert erase_buffer_avg polygon to raster with the output name erase_buffer_avg_raster\n",
    "erase_buffer_avg_raster = os.path.join(outErase_path, \"Wetland_connected_avg_raster.tif\")\n",
    "arcpy.PolygonToRaster_conversion(erase_buffer_avg, \"coastal_Id\", erase_buffer_avg_raster, \"CELL_CENTER\", \"NONE\", \"50\")\n",
    "\n",
    "# convert erase_buffer_high polygon to raster with the output name erase_buffer_high_raster\n",
    "erase_buffer_high_raster = os.path.join(outErase_path, \"Wetland_connected_high_raster.tif\")\n",
    "arcpy.PolygonToRaster_conversion(erase_buffer_high, \"coastal_Id\", erase_buffer_high_raster, \"CELL_CENTER\", \"NONE\", \"50\")\n",
    "\n",
    "# convert erase_buffer_low polygon to raster with the output name erase_buffer_low_raster\n",
    "erase_buffer_low_raster = os.path.join(outErase_path, \"Wetland_connected_low_raster.tif\")\n",
    "arcpy.PolygonToRaster_conversion(erase_buffer_low, \"coastal_Id\", erase_buffer_low_raster, \"CELL_CENTER\", \"NONE\", \"50\")\n",
    "\n",
    "## convert erase_buffer_surge polygon to raster with the output name erase_buffer_low_raster\n",
    "erase_buffer_surge_raster = os.path.join(outErase_path, \"Wetland_connected_surge_raster.tif\")\n",
    "arcpy.PolygonToRaster_conversion(erase_buffer_surge, \"coastal_Id\", erase_buffer_surge_raster, \"CELL_CENTER\", \"NONE\", \"50\")\n",
    "\n"
   ]
  },
  {
   "cell_type": "markdown",
   "metadata": {},
   "source": [
    "Create Watershed"
   ]
  },
  {
   "cell_type": "code",
   "execution_count": 8,
   "metadata": {},
   "outputs": [
    {
     "data": {
      "text/html": [
       "<div class='gpresult'><h2>Messages</h2><div id='messages' data-messages='[\"Start Time: Tuesday, August 13, 2024 2:23:15 PM\",\"Temporary data will be created in C:\\\\Users\\\\abolmaal\\\\AppData\\\\Local\\\\Temp\\\\s429c58ea_53cd_4760_8cd2_e7bb6cba458f\",\"98 MB of temporary storage is estimated to be needed. 325,344 MB of storage is currently available.\",\"Distributing operation across 3 parallel instances.\",\"2024-08-13T14:23:19.358: Initialization Phase ...\",\"2024-08-13T14:23:20.863: Iteration Phase ...\",\"2024-08-13T14:23:21.833: Completion Phase ...\",\"98 MB of temporary storage was used.\",\"Succeeded at Tuesday, August 13, 2024 2:23:22 PM (Elapsed Time: 7.18 seconds)\"]' data-show='true'><div id = 'default' /></div></div>"
      ],
      "text/plain": [
       "<geoprocessing server result object at 0x1a04ea74270>"
      ]
     },
     "execution_count": 8,
     "metadata": {},
     "output_type": "execute_result"
    }
   ],
   "source": [
    "D8_flow  = r\"S:\\Projects\\Active\\GLB_Nutrient_Transport\\DEM_rasters\\GLB_Bdry_buff10km_dem_fill_dir.tif\"\n",
    "\n",
    "# Create watershed for erase_buffer_avg_raster with the output name erase_buffer_avg_watershed and the flow direction raster D8_flow and set then snap raster and extent to D8_flow\n",
    "erase_buffer_avg_watershed = os.path.join(outErase_path, \"Wetland_connected_avg_watershed.tif\")\n",
    "arcpy.gp.Watershed_sa(D8_flow, erase_buffer_avg_raster, erase_buffer_avg_watershed)\n",
    "\n",
    "# Create watershed for erase_buffer_high_raster with the output name erase_buffer_high_watershed and the flow direction raster D8_flow and set then snap raster and extent to D8_flow\n",
    "erase_buffer_high_watershed = os.path.join(outErase_path, \"Wetland_connected_high_watershed.tif\")\n",
    "arcpy.gp.Watershed_sa(D8_flow, erase_buffer_high_raster, erase_buffer_high_watershed)\n",
    "\n",
    "# Create watershed for erase_buffer_low_raster with the output name erase_buffer_low_watershed and the flow direction raster D8_flow and set then snap raster and extent to D8_flow\n",
    "erase_buffer_low_watershed = os.path.join(outErase_path, \"Wetland_connected_low_watershed.tif\")\n",
    "arcpy.gp.Watershed_sa(D8_flow, erase_buffer_low_raster, erase_buffer_low_watershed)\n",
    "\n",
    "# Create watershed for erase_buffer_surge_raster with the output name erase_buffer_surge_watershed and the flow direction raster D8_flow and set then snap raster and extent to D8_flow\n",
    "erase_buffer_surge_watershed = os.path.join(outErase_path, \"Wetland_connected_surge_watershed.tif\")\n",
    "arcpy.gp.Watershed_sa(D8_flow, erase_buffer_surge_raster, erase_buffer_surge_watershed)\n",
    "\n"
   ]
  },
  {
   "cell_type": "code",
   "execution_count": 9,
   "metadata": {},
   "outputs": [
    {
     "data": {
      "text/html": [
       "<div class='gpresult'><h2>Messages</h2><div id='messages' data-messages='[\"Start Time: Tuesday, August 13, 2024 2:26:54 PM\",\"Succeeded at Tuesday, August 13, 2024 2:26:56 PM (Elapsed Time: 1.77 seconds)\"]' data-show='true'><div id = 'default' /></div></div>"
      ],
      "text/plain": [
       "<Result 'D:\\\\Users\\\\abolmaal\\\\code\\\\CoastalWatersheds\\\\Erase_Riperian\\\\Wetland_connected_surge_watershed.shp'>"
      ]
     },
     "execution_count": 9,
     "metadata": {},
     "output_type": "execute_result"
    }
   ],
   "source": [
    "# convert erase_buffer_avg_watershed to polygon with the output name erase_buffer_avg_watershed_poly\n",
    "erase_buffer_avg_watershed_poly = os.path.join(outErase_path, \"Wetland_connected_avg_watershed.shp\")\n",
    "arcpy.RasterToPolygon_conversion(erase_buffer_avg_watershed, erase_buffer_avg_watershed_poly, \"SIMPLIFY\", \"VALUE\")\n",
    "\n",
    "# convert erase_buffer_high_watershed to polygon with the output name erase_buffer_high_watershed_poly\n",
    "erase_buffer_high_watershed_poly = os.path.join(outErase_path, \"Wetland_connected_high_watershed.shp\")\n",
    "arcpy.RasterToPolygon_conversion(erase_buffer_high_watershed, erase_buffer_high_watershed_poly, \"SIMPLIFY\", \"VALUE\")\n",
    "\n",
    "# convert erase_buffer_low_watershed to polygon with the output name erase_buffer_low_watershed_poly\n",
    "erase_buffer_low_watershed_poly = os.path.join(outErase_path, \"Wetland_connected_low_watershed.shp\")\n",
    "arcpy.RasterToPolygon_conversion(erase_buffer_low_watershed, erase_buffer_low_watershed_poly, \"SIMPLIFY\", \"VALUE\")\n",
    "\n",
    "# convert erase_buffer_surge_watershed to polygon with the output name erase_buffer_surge_watershed_poly\n",
    "erase_buffer_surge_watershed_poly = os.path.join(outErase_path, \"Wetland_connected_surge_watershed.shp\")\n",
    "arcpy.RasterToPolygon_conversion(erase_buffer_surge_watershed, erase_buffer_surge_watershed_poly, \"SIMPLIFY\", \"VALUE\")"
   ]
  },
  {
   "cell_type": "markdown",
   "metadata": {},
   "source": [
    "### 4- Erase Lake drainage watersed from coastal watershed"
   ]
  },
  {
   "cell_type": "code",
   "execution_count": 10,
   "metadata": {},
   "outputs": [
    {
     "data": {
      "text/html": [
       "<div class='gpresult'><h2>Messages</h2><div id='messages' data-messages='[\"Start Time: Tuesday, August 13, 2024 2:31:10 PM\",\"Adding coastal_id to CoastalWatershed_surge_erase_lakedrain...\",\"Succeeded at Tuesday, August 13, 2024 2:31:11 PM (Elapsed Time: 0.43 seconds)\"]' data-show='true'><div id = 'default' /></div></div>"
      ],
      "text/plain": [
       "<Result 'D:\\\\Users\\\\abolmaal\\\\code\\\\CoastalWatersheds\\\\Erase_drainage\\\\CoastalWatershed_surge_erase_lakedrain.shp'>"
      ]
     },
     "execution_count": 10,
     "metadata": {},
     "output_type": "execute_result"
    }
   ],
   "source": [
    "outpath = r\"D:\\Users\\abolmaal\\code\\CoastalWatersheds\\Erase_drainage\"\n",
    "path_to_streamwatershed = r\"D:\\Users\\abolmaal\\Arcgis\\NASAOceanProject\\GIS_layer\\Streamwatershed\\PointWaterdhed_LH.shp\"\n",
    "\n",
    "\n",
    "# Erase the erase_buffer_avg_watershed_poly from the path_to_streamwatershed shapefile with the output name CoastalWatershed_avg_erase_lakedrain.shp and add a field called coastal_id to the output shapefile that is equal to FID+1\n",
    "\n",
    "CoastalWatershed_avg_erase_lakedrain = os.path.join(outpath, \"CoastalWatershed_avg_erase_lakedrain.shp\")\n",
    "arcpy.Erase_analysis(erase_buffer_avg_watershed_poly,path_to_streamwatershed, CoastalWatershed_avg_erase_lakedrain, None)\n",
    "arcpy.CalculateField_management(CoastalWatershed_avg_erase_lakedrain, \"coastal_id\", \"!FID! + 1\", \"PYTHON3\")\n",
    "\n",
    "# Erase the erase_buffer_high_watershed_poly from the path_to_streamwatershed shapefile with the output name CoastalWatershed_high_erase_lakedrain.shp and add a field called coastal_id to the output shapefile that is equal to FID +1\n",
    "CoastaWatershed_high_erase_lakedrain = os.path.join(outpath, \"CoastalWatershed_high_erase_lakedrain.shp\")\n",
    "arcpy.Erase_analysis(erase_buffer_high_watershed_poly, path_to_streamwatershed, CoastaWatershed_high_erase_lakedrain, None)\n",
    "arcpy.CalculateField_management(CoastaWatershed_high_erase_lakedrain, \"coastal_id\", \"!FID! + 1\", \"PYTHON3\")\n",
    "\n",
    "\n",
    "# Erase the erase_buffer_low_watershed_poly from the path_to_streamwatershed shapefile with the output name CoastalWatershed_low_erase_lakedrain.shp and add a field called coastal_id to the output shapefile that is equal to FID +1\n",
    "CoastaWatershed_low_erase_lakedrain = os.path.join(outpath, \"CoastalWatershed_low_erase_lakedrain.shp\")\n",
    "arcpy.Erase_analysis(erase_buffer_low_watershed_poly, path_to_streamwatershed, CoastaWatershed_low_erase_lakedrain, None)\n",
    "arcpy.CalculateField_management(CoastaWatershed_low_erase_lakedrain, \"coastal_id\", \"!FID! + 1\", \"PYTHON3\")\n",
    "\n",
    "# Erase the erase_buffer_surge_watershed_poly from the path_to_streamwatershed shapefile with the output name CoastalWatershed_surge_erase_lakedrain.shp and add a field called coastal_id to the output shapefile that is equal to FID +1\n",
    "CoastaWatershed_surge_erase_lakedrain = os.path.join(outpath, \"CoastalWatershed_surge_erase_lakedrain.shp\")\n",
    "arcpy.Erase_analysis(erase_buffer_surge_watershed_poly, path_to_streamwatershed, CoastaWatershed_surge_erase_lakedrain, None)\n",
    "arcpy.CalculateField_management(CoastaWatershed_surge_erase_lakedrain, \"coastal_id\", \"!FID! + 1\", \"PYTHON3\")\n",
    "\n"
   ]
  },
  {
   "cell_type": "code",
   "execution_count": 12,
   "metadata": {},
   "outputs": [
    {
     "data": {
      "text/html": [
       "<div class='gpresult'><h2>Messages</h2><div id='messages' data-messages='[\"Start Time: Tuesday, August 13, 2024 2:38:33 PM\",\"Succeeded at Tuesday, August 13, 2024 2:38:35 PM (Elapsed Time: 1.08 seconds)\"]' data-show='true'><div id = 'default' /></div></div>"
      ],
      "text/plain": [
       "<Result 'D:\\\\Users\\\\abolmaal\\\\code\\\\CoastalWatersheds\\\\Erase_drainage\\\\CoastalWatershed_surge_erase_lakedrain.shp'>"
      ]
     },
     "execution_count": 12,
     "metadata": {},
     "output_type": "execute_result"
    }
   ],
   "source": [
    "# Add a field called Shape_Area to the CoastalWatershed_avg_erase_lakedrain shapefile that is equal to the area of each feature\n",
    "arcpy.AddField_management(CoastalWatershed_avg_erase_lakedrain, \"Shape_Area\", \"DOUBLE\")\n",
    "arcpy.CalculateGeometryAttributes_management(CoastalWatershed_avg_erase_lakedrain, [[\"Shape_Area\", \"AREA\"]], area_unit=\"SQUARE_METERS\")\n",
    "\n",
    "# Add a field called Shape_Area to the CoastaWatershed_high_erase_lakedrain shapefile that is equal to the area of each feature\n",
    "arcpy.AddField_management(CoastaWatershed_high_erase_lakedrain, \"Shape_Area\", \"DOUBLE\")\n",
    "arcpy.CalculateGeometryAttributes_management(CoastaWatershed_high_erase_lakedrain, [[\"Shape_Area\", \"AREA\"]], area_unit=\"SQUARE_METERS\")\n",
    "\n",
    "# Add a field called Shape_Area to the CoastaWatershed_low_erase_lakedrain shapefile that is equal to the area of each feature\n",
    "arcpy.AddField_management(CoastaWatershed_low_erase_lakedrain, \"Shape_Area\", \"DOUBLE\")\n",
    "arcpy.CalculateGeometryAttributes_management(CoastaWatershed_low_erase_lakedrain, [[\"Shape_Area\", \"AREA\"]], area_unit=\"SQUARE_METERS\")\n",
    "\n",
    "# Add a field called Shape_Area to the CoastaWatershed_surge_erase_lakedrain shapefile that is equal to the area of each feature\n",
    "arcpy.AddField_management(CoastaWatershed_surge_erase_lakedrain, \"Shape_Area\", \"DOUBLE\")\n",
    "arcpy.CalculateGeometryAttributes_management(CoastaWatershed_surge_erase_lakedrain, [[\"Shape_Area\", \"AREA\"]], area_unit=\"SQUARE_METERS\")\n"
   ]
  },
  {
   "cell_type": "markdown",
   "metadata": {},
   "source": [
    "Some parts of coastal watershed are in the lake, we need to Earse the parts that are inside the Lake"
   ]
  },
  {
   "cell_type": "code",
   "execution_count": 13,
   "metadata": {},
   "outputs": [
    {
     "data": {
      "text/html": [
       "<div class='gpresult'><h2>Messages</h2><div id='messages' data-messages='[\"Start Time: Tuesday, August 13, 2024 3:49:45 PM\",\"Reading Features...\",\"Cracking Features...\",\"Assembling Features...\",\"Succeeded at Tuesday, August 13, 2024 3:49:48 PM (Elapsed Time: 3.43 seconds)\"]' data-show='true'><div id = 'default' /></div></div>"
      ],
      "text/plain": [
       "<Result 'D:\\\\Users\\\\abolmaal\\\\code\\\\CoastalWatersheds\\\\Erase_lake\\\\CoastalWatershed_surge_erase_lakedrain_LakeHuron.shp'>"
      ]
     },
     "execution_count": 13,
     "metadata": {},
     "output_type": "execute_result"
    }
   ],
   "source": [
    "# path to Lake Huron shapefile\n",
    "Lake_Huron = r\"D:\\Users\\abolmaal\\Arcgis\\NASAOceanProject\\GIS_layer\\Basins\\hydro_p_LakeHuron\\hydro_p_LakeHuron_84.shp\"\n",
    "outErase_Lake_path = r\"D:\\Users\\abolmaal\\code\\CoastalWatersheds\\Erase_lake\"\n",
    "\n",
    "# Erase the CoastalWatershed_avg_erase_lakedrain shapefile from the Lake_Huron shapefile with the output name CoastalWatershed_avg_erase_lakedrain_LakeHuron.shp \n",
    "# and save it in outErase_Lake_path\n",
    "CoastalWatershed_avg_erase_lakedrain_LakeHuron = os.path.join(outErase_Lake_path, \"CoastalWatershed_avg_erase_lakedrain_LakeHuron.shp\")\n",
    "arcpy.Erase_analysis(CoastalWatershed_avg_erase_lakedrain, Lake_Huron, CoastalWatershed_avg_erase_lakedrain_LakeHuron, None)\n",
    "\n",
    "\n",
    "# Erase the CoastaWatershed_high_erase_lakedrain shapefile from the Lake_Huron shapefile with the output name CoastalWatershed_high_erase_lakedrain_LakeHuron.shp\n",
    "# and save it in outErase_Lake_path\n",
    "CoastalWatershed_high_erase_lakedrain_LakeHuron = os.path.join(outErase_Lake_path, \"CoastalWatershed_high_erase_lakedrain_LakeHuron.shp\")\n",
    "arcpy.Erase_analysis(CoastaWatershed_high_erase_lakedrain, Lake_Huron, CoastalWatershed_high_erase_lakedrain_LakeHuron, None)\n",
    "\n",
    "# Erase the CoastaWatershed_low_erase_lakedrain shapefile from the Lake_Huron shapefile with the output name CoastalWatershed_low_erase_lakedrain_LakeHuron.shp\n",
    "# and save it in outErase_Lake_path\n",
    "CoastalWatershed_low_erase_lakedrain_LakeHuron = os.path.join(outErase_Lake_path, \"CoastalWatershed_low_erase_lakedrain_LakeHuron.shp\")\n",
    "arcpy.Erase_analysis(CoastaWatershed_low_erase_lakedrain, Lake_Huron, CoastalWatershed_low_erase_lakedrain_LakeHuron, None)\n",
    "\n",
    "# Erase the CoastaWatershed_surge_erase_lakedrain shapefile from the Lake_Huron shapefile with the output name CoastalWatershed_surge_erase_lakedrain_LakeHuron.shp\n",
    "# and save it in outErase_Lake_path\n",
    "CoastalWatershed_surge_erase_lakedrain_LakeHuron = os.path.join(outErase_Lake_path, \"CoastalWatershed_surge_erase_lakedrain_LakeHuron.shp\")\n",
    "arcpy.Erase_analysis(CoastaWatershed_surge_erase_lakedrain, Lake_Huron, CoastalWatershed_surge_erase_lakedrain_LakeHuron, None)\n"
   ]
  }
 ],
 "metadata": {
  "kernelspec": {
   "display_name": "samin-arcpy7",
   "language": "python",
   "name": "python3"
  },
  "language_info": {
   "codemirror_mode": {
    "name": "ipython",
    "version": 3
   },
   "file_extension": ".py",
   "mimetype": "text/x-python",
   "name": "python",
   "nbconvert_exporter": "python",
   "pygments_lexer": "ipython3",
   "version": "3.9.18"
  }
 },
 "nbformat": 4,
 "nbformat_minor": 2
}

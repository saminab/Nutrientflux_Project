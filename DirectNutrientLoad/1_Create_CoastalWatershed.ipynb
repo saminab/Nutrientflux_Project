{
 "cells": [
  {
   "cell_type": "markdown",
   "metadata": {},
   "source": [
    "# Creating Coastal Watershed\n",
    "\n",
    "This script processes spatial data to delineate watersheds specifically for coastal wetlands within the Great Lakes region. The workflow involves leveraging shapefiles provided by the Michigan Tech Research Institute (MTRI) and hydrological data to achieve this goal. The primary inputs include:\n",
    "\n",
    "- **Coastal wetlands shapefiles**: Represent key inundation zones.\n",
    "- **Great Lakes basin streams**.\n",
    "- **D8 flow direction data**.\n",
    "\n",
    "### Overview of the Workflow:\n",
    "\n",
    "1. **Stream Selection**: \n",
    "   - Identify and extract streams that drain directly into the coastal wetlands.\n",
    "   - Ensure only relevant hydrological pathways are considered for watershed delineation.\n",
    "\n",
    "2. **Watershed Creation**:\n",
    "   - Use coastal wetlands and D8 flow direction data to delineate watersheds feeding into these wetlands.\n",
    "\n",
    "3. **Overlap Removal**:\n",
    "   - Adjust resulting coastal watersheds by removing areas overlapping with stream watersheds.\n",
    "   - Refine delineations to reflect distinct watershed boundaries.\n"
   ]
  },
  {
   "cell_type": "markdown",
   "metadata": {},
   "source": [
    "# Import Libraries"
   ]
  },
  {
   "cell_type": "code",
   "execution_count": 1,
   "metadata": {},
   "outputs": [],
   "source": [
    "# imports\n",
    "### Reqiured Imports###\n",
    "import pandas, os\n",
    "import arcpy\n",
    "from matplotlib import pyplot as plt"
   ]
  },
  {
   "cell_type": "markdown",
   "metadata": {},
   "source": [
    "# Inputs"
   ]
  },
  {
   "cell_type": "code",
   "execution_count": 5,
   "metadata": {},
   "outputs": [],
   "source": [
    "inDir = r\"D:\\Users\\abolmaal\\Arcgis\\NASAOceanProject\\GIS_layer\"\n",
    "# define the path to coastal wetlands shapefile\n",
    "inDCW = r\"D:\\Users\\abolmaal\\Arcgis\\NASAOceanProject\\GIS_layer\\Coastalwetland\\shapefiles\"\n",
    "\n",
    "# Coastal Wetlands shapefiles with different inundation levels\n",
    "wetlands_avg_inun = os.path.join(inDCW, \"Wetland_connected_avg_inundation_NAD1983\")\n",
    "wetlands_high_inun = os.path.join(inDCW, \"wetlands_connected_high_inundation_NAD1983\")\n",
    "wetlands_low_inun = os.path.join(inDCW, \"wetlands_connected_low_inundation_NAD1983\")\n",
    "wetlands_surge = os.path.join(inDCW, \"wetlands_connected_surge_inundation_NAD1983\")\n",
    "\n",
    "# define the path to streams \n",
    "inStreams = os.path.join(inDir, \"GLB_Stream\", \"GLB_stream_Ras_FeatureToLine.shp\")\n",
    "\n",
    "# define path to flow direction raster\n",
    "D8_flow  = r\"S:\\Projects\\Active\\GLB_Nutrient_Transport\\DEM_rasters\\GLB_Bdry_buff10km_dem_fill_dir.tif\"\n",
    "\n",
    "#path to stream watershed\n",
    "\n",
    "inStreamsWatershed = os.path.join(inDir, \"Streamwatershed\", \"PointWaterdhed_LH.shp\")\n",
    "\n",
    "# path to Lake Huron shapefile\n",
    "Lake_Huron = r\"D:\\Users\\abolmaal\\Arcgis\\NASAOceanProject\\GIS_layer\\Basins\\hydro_p_LakeHuron\\hydro_p_LakeHuron_84.shp\""
   ]
  },
  {
   "cell_type": "markdown",
   "metadata": {},
   "source": [
    "# Outputs"
   ]
  },
  {
   "cell_type": "code",
   "execution_count": 21,
   "metadata": {},
   "outputs": [],
   "source": [
    "# Buffer inStreams by 50 meters \n",
    "outDir = r\"D:\\Users\\abolmaal\\Arcgis\\NASAOceanProject\\GIS_layer\\CoastaWatersheds\\GLB_Stream\"\n",
    "\n",
    "outBuffer = os.path.join(outDir, \"GLB_stream_Ras_FeatureToLine_50m.shp\")\n",
    "\n",
    "#outBuffer = r\"D:\\Users\\abolmaal\\code\\CoastalWatersheds\\GLB_Stream\\Buffer_50m\\GLB_stream_Ras_FeatureToLine_Buffer_50m.shp\"\n",
    "\n",
    "outpath = r\"D:\\Users\\abolmaal\\Arcgis\\NASAOceanProject\\GIS_layer\\CoastaWatersheds\"\n",
    "\n",
    "# path to Riperian shapefile\n",
    "outErase_Riper = os.path.join(outpath,\"Erase_Riperian\")\n",
    "\n",
    "erase_buffer_avg = os.path.join(outpath,\"Erase_Riperian\", \"Wetland_connected_avg_erasebuff_50.shp\")\n",
    "erase_buffer_high = os.path.join(outpath,\"Erase_Riperian\", \"Wetland_connected_high_erasebuff_50.shp\")\n",
    "erase_buffer_low = os.path.join(outpath,\"Erase_Riperian\", \"Wetland_connected_low_erasebuff_50.shp\")\n",
    "erase_buffer_surge = os.path.join(outpath,\"Erase_Riperian\", \"Wetland_connected_surge_erasebuff_50.shp\")\n",
    "\n",
    "# path to coastal Watersheds shapefile\n",
    "# Stream Watershed raster outputs\n",
    "erase_buffer_avg_watershed = os.path.join(outErase_Riper, \"Wetland_connected_avg_watershed.tif\")\n",
    "erase_buffer_high_watershed = os.path.join(outErase_Riper, \"Wetland_connected_high_watershed.tif\")\n",
    "erase_buffer_low_watershed = os.path.join(outErase_Riper, \"Wetland_connected_low_watershed.tif\")\n",
    "erase_buffer_surge_watershed = os.path.join(outErase_Riper, \"Wetland_connected_surge_watershed.tif\")\n",
    "\n",
    "#Stream Watershed outputs shapefile\n",
    "erase_buffer_avg_watershed_poly = os.path.join(outErase_Riper, \"Wetland_connected_avg_watershed.shp\")\n",
    "erase_buffer_high_watershed_poly = os.path.join(outErase_Riper, \"Wetland_connected_high_watershed.shp\")\n",
    "erase_buffer_low_watershed_poly = os.path.join(outErase_Riper, \"Wetland_connected_low_watershed.shp\")\n",
    "erase_buffer_surge_watershed_poly = os.path.join(outErase_Riper, \"Wetland_connected_surge_watershed.shp\")\n",
    "\n",
    "# path to drainage shapefile\n",
    "outErase_drainage = os.path.join (outpath,\"Erase_drainage\")\n",
    "CoastalWatershed_avg_erase_lakedrain = os.path.join(outErase_drainage, \"CoastalWatershed_avg_erase_lakedrain.shp\")\n",
    "CoastaWatershed_high_erase_lakedrain = os.path.join(outErase_drainage, \"CoastalWatershed_high_erase_lakedrain.shp\")\n",
    "CoastaWatershed_low_erase_lakedrain = os.path.join(outErase_drainage, \"CoastalWatershed_low_erase_lakedrain.shp\")\n",
    "CoastaWatershed_surge_erase_lakedrain = os.path.join(outErase_drainage, \"CoastalWatershed_surge_erase_lakedrain.shp\")\n",
    "\n",
    "\n",
    "# path to Lake Huron shapefile\n",
    "outErase_Lake = os.path.join (outpath,\"Erase_lake\")\n",
    "# path to erase lake shapefile from coastal watershed\n",
    "CoastalWatershed_avg_erase_lakedrain_LakeHuron = os.path.join(outErase_Lake, \"CoastalWatershed_avg_erase_lakedrain_LakeHuron.shp\")\n",
    "CoastalWatershed_high_erase_lakedrain_LakeHuron = os.path.join(outErase_Lake, \"CoastalWatershed_high_erase_lakedrain_LakeHuron.shp\")\n",
    "CoastalWatershed_low_erase_lakedrain_LakeHuron = os.path.join(outErase_Lake, \"CoastalWatershed_low_erase_lakedrain_LakeHuron.shp\")\n",
    "CoastalWatershed_surge_erase_lakedrain_LakeHuron = os.path.join(outErase_Lake, \"CoastalWatershed_surge_erase_lakedrain_LakeHuron.shp\")\n",
    "\n",
    "# out name for stream watershed set to WGS84 coordinate \n",
    "CoastalWatershed_avg_erase_lakedrain_LakeHuron_WGS1984 = os.path.join(outErase_Lake, \"CoastalWatershed_avg_erase_lakedrain_LakeHuron_WGS1984.shp\")\n",
    "CoastalWatershed_high_erase_lakedrain_LakeHuron_WGS1984 = os.path.join(outErase_Lake, \"CoastalWatershed_high_erase_lakedrain_LakeHuron_WGS1984.shp\")\n",
    "CoastalWatershed_low_erase_lakedrain_LakeHuron_WGS1984 = os.path.join(outErase_Lake, \"CoastalWatershed_low_erase_lakedrain_LakeHuron_WGS1984.shp\")\n",
    "CoastalWatershed_surge_erase_lakedrain_LakeHuron_WGS1984 = os.path.join(outErase_Lake, \"CoastalWatershed_surge_erase_lakedrain_LakeHuron_WGS1984.shp\")\n"
   ]
  },
  {
   "cell_type": "markdown",
   "metadata": {},
   "source": [
    "# Main Functions"
   ]
  },
  {
   "cell_type": "markdown",
   "metadata": {},
   "source": [
    "## 1- Buffer the streams\n",
    "Create a 50 meter buffer for Great lakes basin streams to create your riverin riperian area"
   ]
  },
  {
   "cell_type": "code",
   "execution_count": 6,
   "metadata": {},
   "outputs": [
    {
     "data": {
      "text/html": [
       "<div class='gpresult'><h2>Messages</h2><div id='messages' data-messages='[\"Start Time: Wednesday, November 20, 2024 5:21:51 PM\",\"Succeeded at Wednesday, November 20, 2024 5:22:00 PM (Elapsed Time: 8.74 seconds)\"]' data-show='true'><div id = 'default' /></div></div>"
      ],
      "text/plain": [
       "<Result 'D:\\\\Users\\\\abolmaal\\\\Arcgis\\\\NASAOceanProject\\\\GIS_layer\\\\CoastaWatersheds\\\\GLB_Stream\\\\GLB_stream_Ras_FeatureToLine_50m.shp'>"
      ]
     },
     "execution_count": 6,
     "metadata": {},
     "output_type": "execute_result"
    }
   ],
   "source": [
    "# buffer inStreams by 50 meters\n",
    "arcpy.Buffer_analysis(inStreams, outBuffer, \"50 Meters\", \"FULL\", \"ROUND\", \"NONE\", None, \"PLANAR\")"
   ]
  },
  {
   "cell_type": "markdown",
   "metadata": {},
   "source": [
    "## 2- Erase your coastal wetlands that overlap with your riperian area"
   ]
  },
  {
   "cell_type": "code",
   "execution_count": 7,
   "metadata": {},
   "outputs": [
    {
     "data": {
      "text/html": [
       "<div class='gpresult'><h2>Messages</h2><div id='messages' data-messages='[\"Start Time: Wednesday, November 20, 2024 5:24:17 PM\",\"Reading Features...\",\"Cracking Features...\",\"Assembling Features...\",\"Succeeded at Wednesday, November 20, 2024 5:24:32 PM (Elapsed Time: 15.07 seconds)\"]' data-show='true'><div id = 'default' /></div></div>"
      ],
      "text/plain": [
       "<Result 'D:\\\\Users\\\\abolmaal\\\\Arcgis\\\\NASAOceanProject\\\\GIS_layer\\\\CoastaWatersheds\\\\Erase_Riperian\\\\Wetland_connected_surge_erasebuff_50.shp'>"
      ]
     },
     "execution_count": 7,
     "metadata": {},
     "output_type": "execute_result"
    }
   ],
   "source": [
    "# Erase the buffer from the wetlands shapefile\n",
    "# erase_analisys (input, erase_feature, output_feature, {cluster_tolerance})\n",
    "\n",
    "# Erase the outBuffer from the wetlands_avg_inun shapefile with the output name erase_buffer_avg\n",
    "arcpy.Erase_analysis(wetlands_avg_inun, outBuffer, erase_buffer_avg, None)\n",
    "\n",
    "# Erase the outBuffer from the wetlands_high_inun shapefile with the output name erase_buffer_high\n",
    "arcpy.Erase_analysis(wetlands_high_inun, outBuffer, erase_buffer_high, None)\n",
    "\n",
    "# Erase the outBuffer from the wetlands_low_inun shapefile with the output name erase_buffer_low\n",
    "arcpy.Erase_analysis(wetlands_low_inun, outBuffer, erase_buffer_low, None)\n",
    "\n",
    "# Erase the outBuffer from the wetlands_surge shapefile with the output name erase_buffer_surge\n",
    "arcpy.Erase_analysis(wetlands_surge, outBuffer, erase_buffer_surge, None)"
   ]
  },
  {
   "cell_type": "markdown",
   "metadata": {},
   "source": [
    "#### 2-1 Add a field called coastal_Id"
   ]
  },
  {
   "cell_type": "code",
   "execution_count": 8,
   "metadata": {},
   "outputs": [
    {
     "data": {
      "text/html": [
       "<div class='gpresult'><h2>Messages</h2><div id='messages' data-messages='[\"Start Time: Wednesday, November 20, 2024 5:27:25 PM\",\"Succeeded at Wednesday, November 20, 2024 5:27:26 PM (Elapsed Time: 0.36 seconds)\"]' data-show='true'><div id = 'default' /></div></div>"
      ],
      "text/plain": [
       "<Result 'D:\\\\Users\\\\abolmaal\\\\Arcgis\\\\NASAOceanProject\\\\GIS_layer\\\\CoastaWatersheds\\\\Erase_Riperian\\\\Wetland_connected_surge_erasebuff_50.shp'>"
      ]
     },
     "execution_count": 8,
     "metadata": {},
     "output_type": "execute_result"
    }
   ],
   "source": [
    "# add a field called coastal_id to the erase_buffer_avg shapefile that is equal to FID field +1\n",
    "arcpy.AddField_management(erase_buffer_avg, \"coastal_Id\", \"LONG\")\n",
    "arcpy.CalculateField_management(erase_buffer_avg, \"coastal_id\", \"!FID! + 1\", \"PYTHON3\")\n",
    "\n",
    "# add a field called coastal_id to the erase_buffer_high shapefile that is equal to FID field +1\n",
    "arcpy.AddField_management(erase_buffer_high, \"coastal_Id\", \"LONG\")\n",
    "arcpy.CalculateField_management(erase_buffer_high, \"coastal_id\", \"!FID! + 1\", \"PYTHON3\")\n",
    "\n",
    "# add a field called coastal_id to the erase_buffer_low shapefile that is equal to FID field +1\n",
    "arcpy.AddField_management(erase_buffer_low, \"coastal_Id\", \"LONG\")\n",
    "arcpy.CalculateField_management(erase_buffer_low, \"coastal_id\", \"!FID! + 1\", \"PYTHON3\")\n",
    "\n",
    "# add a field called coastal_id to the erase_buffer_surge shapefile that is equal to FID field +1\n",
    "arcpy.AddField_management(erase_buffer_surge, \"coastal_Id\", \"LONG\")\n",
    "arcpy.CalculateField_management(erase_buffer_surge, \"coastal_id\", \"!FID! + 1\", \"PYTHON3\")\n"
   ]
  },
  {
   "cell_type": "markdown",
   "metadata": {},
   "source": [
    "## 3- Create a watershed"
   ]
  },
  {
   "cell_type": "markdown",
   "metadata": {},
   "source": [
    "### 3-1 Convert the polygons to raster\n",
    "Watershed tool only accept raster as input so here we first\n",
    "convert erase_buffer_avg polygon to raster with the output name erase_buffer_avg_raster"
   ]
  },
  {
   "cell_type": "code",
   "execution_count": 9,
   "metadata": {},
   "outputs": [
    {
     "data": {
      "text/html": [
       "<div class='gpresult'><h2>Messages</h2><div id='messages' data-messages='[\"Start Time: Wednesday, November 20, 2024 5:29:50 PM\",\"Succeeded at Wednesday, November 20, 2024 5:29:50 PM (Elapsed Time: 0.64 seconds)\"]' data-show='true'><div id = 'default' /></div></div>"
      ],
      "text/plain": [
       "<Result 'D:\\\\Users\\\\abolmaal\\\\Arcgis\\\\NASAOceanProject\\\\GIS_layer\\\\CoastaWatersheds\\\\Erase_Riperian\\\\Wetland_connected_surge_raster.tif'>"
      ]
     },
     "execution_count": 9,
     "metadata": {},
     "output_type": "execute_result"
    }
   ],
   "source": [
    "# convert erase_buffer_avg polygon to raster with the output name erase_buffer_avg_raster\n",
    "erase_buffer_avg_raster = os.path.join(outErase_Riper, \"Wetland_connected_avg_raster.tif\")\n",
    "arcpy.PolygonToRaster_conversion(erase_buffer_avg, \"coastal_Id\", erase_buffer_avg_raster, \"CELL_CENTER\", \"NONE\", \"50\")\n",
    "\n",
    "# convert erase_buffer_high polygon to raster with the output name erase_buffer_high_raster\n",
    "erase_buffer_high_raster = os.path.join(outErase_Riper, \"Wetland_connected_high_raster.tif\")\n",
    "arcpy.PolygonToRaster_conversion(erase_buffer_high, \"coastal_Id\", erase_buffer_high_raster, \"CELL_CENTER\", \"NONE\", \"50\")\n",
    "\n",
    "# convert erase_buffer_low polygon to raster with the output name erase_buffer_low_raster\n",
    "erase_buffer_low_raster = os.path.join(outErase_Riper, \"Wetland_connected_low_raster.tif\")\n",
    "arcpy.PolygonToRaster_conversion(erase_buffer_low, \"coastal_Id\", erase_buffer_low_raster, \"CELL_CENTER\", \"NONE\", \"50\")\n",
    "\n",
    "## convert erase_buffer_surge polygon to raster with the output name erase_buffer_low_raster\n",
    "erase_buffer_surge_raster = os.path.join(outErase_Riper, \"Wetland_connected_surge_raster.tif\")\n",
    "arcpy.PolygonToRaster_conversion(erase_buffer_surge, \"coastal_Id\", erase_buffer_surge_raster, \"CELL_CENTER\", \"NONE\", \"50\")\n",
    "\n"
   ]
  },
  {
   "cell_type": "markdown",
   "metadata": {},
   "source": [
    "### 3-2 Create Watershed\n",
    "example arcpy.gp.watershed(flowdirection, coatalwetlands, outputpath)"
   ]
  },
  {
   "cell_type": "code",
   "execution_count": 11,
   "metadata": {},
   "outputs": [
    {
     "data": {
      "text/html": [
       "<div class='gpresult'><h2>Messages</h2><div id='messages' data-messages='[\"Start Time: Wednesday, November 20, 2024 5:35:44 PM\",\"Temporary data will be created in C:\\\\Users\\\\abolmaal\\\\AppData\\\\Local\\\\Temp\\\\s5c916edd_7564_4bc7_b7b4_fb0912f1ef10\",\"98 MB of temporary storage is estimated to be needed. 305,278 MB of storage is currently available.\",\"Distributing operation across 3 parallel instances.\",\"2024-11-20T17:35:48.416: Initialization Phase ...\",\"2024-11-20T17:35:49.524: Iteration Phase ...\",\"2024-11-20T17:35:50.433: Completion Phase ...\",\"98 MB of temporary storage was used.\",\"Succeeded at Wednesday, November 20, 2024 5:35:51 PM (Elapsed Time: 6.60 seconds)\"]' data-show='true'><div id = 'default' /></div></div>"
      ],
      "text/plain": [
       "<geoprocessing server result object at 0x1ceee6580f0>"
      ]
     },
     "execution_count": 11,
     "metadata": {},
     "output_type": "execute_result"
    }
   ],
   "source": [
    "\n",
    "# Create watershed for erase_buffer_avg_raster with the output name erase_buffer_avg_watershed \n",
    "\n",
    "arcpy.gp.Watershed_sa(D8_flow, erase_buffer_avg_raster, erase_buffer_avg_watershed)\n",
    "\n",
    "# Create watershed for erase_buffer_high_raster with the output name erase_buffer_high_watershed \n",
    "\n",
    "arcpy.gp.Watershed_sa(D8_flow, erase_buffer_high_raster, erase_buffer_high_watershed)\n",
    "\n",
    "# Create watershed for erase_buffer_low_raster with the output name erase_buffer_low_watershed \n",
    "\n",
    "arcpy.gp.Watershed_sa(D8_flow, erase_buffer_low_raster, erase_buffer_low_watershed)\n",
    "\n",
    "# Create watershed for erase_buffer_surge_raster with the output name erase_buffer_surge_watershed \n",
    "\n",
    "arcpy.gp.Watershed_sa(D8_flow, erase_buffer_surge_raster, erase_buffer_surge_watershed)\n",
    "\n"
   ]
  },
  {
   "cell_type": "markdown",
   "metadata": {},
   "source": [
    "### 3-3 convert the raster watershed to shapefiles "
   ]
  },
  {
   "cell_type": "code",
   "execution_count": 13,
   "metadata": {},
   "outputs": [
    {
     "data": {
      "text/html": [
       "<div class='gpresult'><h2>Messages</h2><div id='messages' data-messages='[\"Start Time: Wednesday, November 20, 2024 5:56:01 PM\",\"Succeeded at Wednesday, November 20, 2024 5:56:02 PM (Elapsed Time: 1.00 seconds)\"]' data-show='true'><div id = 'default' /></div></div>"
      ],
      "text/plain": [
       "<Result 'D:\\\\Users\\\\abolmaal\\\\Arcgis\\\\NASAOceanProject\\\\GIS_layer\\\\CoastaWatersheds\\\\Erase_Riperian\\\\Wetland_connected_surge_watershed.shp'>"
      ]
     },
     "execution_count": 13,
     "metadata": {},
     "output_type": "execute_result"
    }
   ],
   "source": [
    "# convert erase_buffer_avg_watershed to polygon with the output name erase_buffer_avg_watershed_poly\n",
    "\n",
    "arcpy.RasterToPolygon_conversion(erase_buffer_avg_watershed, erase_buffer_avg_watershed_poly, \"SIMPLIFY\", \"VALUE\")\n",
    "\n",
    "# convert erase_buffer_high_watershed to polygon with the output name erase_buffer_high_watershed_poly\n",
    "\n",
    "arcpy.RasterToPolygon_conversion(erase_buffer_high_watershed, erase_buffer_high_watershed_poly, \"SIMPLIFY\", \"VALUE\")\n",
    "\n",
    "# convert erase_buffer_low_watershed to polygon with the output name erase_buffer_low_watershed_poly\n",
    "\n",
    "arcpy.RasterToPolygon_conversion(erase_buffer_low_watershed, erase_buffer_low_watershed_poly, \"SIMPLIFY\", \"VALUE\")\n",
    "\n",
    "# convert erase_buffer_surge_watershed to polygon with the output name erase_buffer_surge_watershed_poly\n",
    "\n",
    "arcpy.RasterToPolygon_conversion(erase_buffer_surge_watershed, erase_buffer_surge_watershed_poly, \"SIMPLIFY\", \"VALUE\")"
   ]
  },
  {
   "cell_type": "markdown",
   "metadata": {},
   "source": [
    "## 4- Erase Lake drainage watersed from coastal watershed\n",
    "In this part we are removing the part of coastal watersheds that overlaps with stream watershed"
   ]
  },
  {
   "cell_type": "code",
   "execution_count": 15,
   "metadata": {},
   "outputs": [
    {
     "data": {
      "text/html": [
       "<div class='gpresult'><h2>Messages</h2><div id='messages' data-messages='[\"Start Time: Wednesday, November 20, 2024 6:05:26 PM\",\"Adding coastal_id to CoastalWatershed_surge_erase_lakedrain...\",\"Succeeded at Wednesday, November 20, 2024 6:05:26 PM (Elapsed Time: 0.24 seconds)\"]' data-show='true'><div id = 'default' /></div></div>"
      ],
      "text/plain": [
       "<Result 'D:\\\\Users\\\\abolmaal\\\\Arcgis\\\\NASAOceanProject\\\\GIS_layer\\\\CoastaWatersheds\\\\Erase_drainage\\\\CoastalWatershed_surge_erase_lakedrain.shp'>"
      ]
     },
     "execution_count": 15,
     "metadata": {},
     "output_type": "execute_result"
    }
   ],
   "source": [
    "# Erase the erase_buffer_avg_watershed_poly from the path_to_streamwatershed shapefile with the output name CoastalWatershed_avg_erase_lakedrain.shp and add a field called coastal_id to the output shapefile that is equal to FID+1\n",
    "\n",
    "\n",
    "arcpy.Erase_analysis(erase_buffer_avg_watershed_poly,inStreamsWatershed, CoastalWatershed_avg_erase_lakedrain, None)\n",
    "arcpy.CalculateField_management(CoastalWatershed_avg_erase_lakedrain, \"coastal_id\", \"!FID! + 1\", \"PYTHON3\")\n",
    "\n",
    "# Erase the erase_buffer_high_watershed_poly from the path_to_streamwatershed shapefile with the output name CoastalWatershed_high_erase_lakedrain.shp and add a field called coastal_id to the output shapefile that is equal to FID +1\n",
    "\n",
    "arcpy.Erase_analysis(erase_buffer_high_watershed_poly, inStreamsWatershed, CoastaWatershed_high_erase_lakedrain, None)\n",
    "arcpy.CalculateField_management(CoastaWatershed_high_erase_lakedrain, \"coastal_id\", \"!FID! + 1\", \"PYTHON3\")\n",
    "\n",
    "\n",
    "# Erase the erase_buffer_low_watershed_poly from the path_to_streamwatershed shapefile with the output name CoastalWatershed_low_erase_lakedrain.shp and add a field called coastal_id to the output shapefile that is equal to FID +1\n",
    "\n",
    "arcpy.Erase_analysis(erase_buffer_low_watershed_poly,inStreamsWatershed, CoastaWatershed_low_erase_lakedrain, None)\n",
    "arcpy.CalculateField_management(CoastaWatershed_low_erase_lakedrain, \"coastal_id\", \"!FID! + 1\", \"PYTHON3\")\n",
    "\n",
    "# Erase the erase_buffer_surge_watershed_poly from the path_to_streamwatershed shapefile with the output name CoastalWatershed_surge_erase_lakedrain.shp and add a field called coastal_id to the output shapefile that is equal to FID +1\n",
    "\n",
    "\n",
    "arcpy.Erase_analysis(erase_buffer_surge_watershed_poly, inStreamsWatershed, CoastaWatershed_surge_erase_lakedrain, None)\n",
    "arcpy.CalculateField_management(CoastaWatershed_surge_erase_lakedrain, \"coastal_id\", \"!FID! + 1\", \"PYTHON3\")\n",
    "\n"
   ]
  },
  {
   "cell_type": "markdown",
   "metadata": {},
   "source": [
    "### 4-1 Calculate shape area "
   ]
  },
  {
   "cell_type": "code",
   "execution_count": 16,
   "metadata": {},
   "outputs": [
    {
     "data": {
      "text/html": [
       "<div class='gpresult'><h2>Messages</h2><div id='messages' data-messages='[\"Start Time: Wednesday, November 20, 2024 6:06:42 PM\",\"Succeeded at Wednesday, November 20, 2024 6:06:42 PM (Elapsed Time: 0.79 seconds)\"]' data-show='true'><div id = 'default' /></div></div>"
      ],
      "text/plain": [
       "<Result 'D:\\\\Users\\\\abolmaal\\\\Arcgis\\\\NASAOceanProject\\\\GIS_layer\\\\CoastaWatersheds\\\\Erase_drainage\\\\CoastalWatershed_surge_erase_lakedrain.shp'>"
      ]
     },
     "execution_count": 16,
     "metadata": {},
     "output_type": "execute_result"
    }
   ],
   "source": [
    "# Add a field called Shape_Area to the CoastalWatershed_avg_erase_lakedrain shapefile that is equal to the area of each feature\n",
    "arcpy.AddField_management(CoastalWatershed_avg_erase_lakedrain, \"Shape_Area\", \"DOUBLE\")\n",
    "arcpy.CalculateGeometryAttributes_management(CoastalWatershed_avg_erase_lakedrain, [[\"Shape_Area\", \"AREA\"]], area_unit=\"SQUARE_METERS\")\n",
    "\n",
    "# Add a field called Shape_Area to the CoastaWatershed_high_erase_lakedrain shapefile that is equal to the area of each feature\n",
    "arcpy.AddField_management(CoastaWatershed_high_erase_lakedrain, \"Shape_Area\", \"DOUBLE\")\n",
    "arcpy.CalculateGeometryAttributes_management(CoastaWatershed_high_erase_lakedrain, [[\"Shape_Area\", \"AREA\"]], area_unit=\"SQUARE_METERS\")\n",
    "\n",
    "# Add a field called Shape_Area to the CoastaWatershed_low_erase_lakedrain shapefile that is equal to the area of each feature\n",
    "arcpy.AddField_management(CoastaWatershed_low_erase_lakedrain, \"Shape_Area\", \"DOUBLE\")\n",
    "arcpy.CalculateGeometryAttributes_management(CoastaWatershed_low_erase_lakedrain, [[\"Shape_Area\", \"AREA\"]], area_unit=\"SQUARE_METERS\")\n",
    "\n",
    "# Add a field called Shape_Area to the CoastaWatershed_surge_erase_lakedrain shapefile that is equal to the area of each feature\n",
    "arcpy.AddField_management(CoastaWatershed_surge_erase_lakedrain, \"Shape_Area\", \"DOUBLE\")\n",
    "arcpy.CalculateGeometryAttributes_management(CoastaWatershed_surge_erase_lakedrain, [[\"Shape_Area\", \"AREA\"]], area_unit=\"SQUARE_METERS\")\n"
   ]
  },
  {
   "cell_type": "markdown",
   "metadata": {},
   "source": [
    "### 4-2 remove the parts of watershed inside the lake "
   ]
  },
  {
   "cell_type": "markdown",
   "metadata": {},
   "source": [
    "Some parts of coastal watershed are in the lake, we need to Earse the parts that are inside the Lake"
   ]
  },
  {
   "cell_type": "code",
   "execution_count": 19,
   "metadata": {},
   "outputs": [
    {
     "data": {
      "text/html": [
       "<div class='gpresult'><h2>Messages</h2><div id='messages' data-messages='[\"Start Time: Wednesday, November 20, 2024 6:11:01 PM\",\"Reading Features...\",\"Cracking Features...\",\"Assembling Features...\",\"Succeeded at Wednesday, November 20, 2024 6:11:04 PM (Elapsed Time: 2.26 seconds)\"]' data-show='true'><div id = 'default' /></div></div>"
      ],
      "text/plain": [
       "<Result 'D:\\\\Users\\\\abolmaal\\\\Arcgis\\\\NASAOceanProject\\\\GIS_layer\\\\CoastaWatersheds\\\\Erase_lake\\\\CoastalWatershed_surge_erase_lakedrain_LakeHuron.shp'>"
      ]
     },
     "execution_count": 19,
     "metadata": {},
     "output_type": "execute_result"
    }
   ],
   "source": [
    "# Erase the CoastalWatershed_avg_erase_lakedrain shapefile from the Lake_Huron shapefile with the output name CoastalWatershed_avg_erase_lakedrain_LakeHuron.shp \n",
    "# and save it in outErase_Lake_path\n",
    "\n",
    "arcpy.Erase_analysis(CoastalWatershed_avg_erase_lakedrain, Lake_Huron, CoastalWatershed_avg_erase_lakedrain_LakeHuron, None)\n",
    "\n",
    "\n",
    "# Erase the CoastaWatershed_high_erase_lakedrain shapefile from the Lake_Huron shapefile with the output name CoastalWatershed_high_erase_lakedrain_LakeHuron.shp\n",
    "# and save it in outErase_Lake_path\n",
    "\n",
    "arcpy.Erase_analysis(CoastaWatershed_high_erase_lakedrain, Lake_Huron, CoastalWatershed_high_erase_lakedrain_LakeHuron, None)\n",
    "\n",
    "# Erase the CoastaWatershed_low_erase_lakedrain shapefile from the Lake_Huron shapefile with the output name CoastalWatershed_low_erase_lakedrain_LakeHuron.shp\n",
    "# and save it in outErase_Lake_path\n",
    "\n",
    "arcpy.Erase_analysis(CoastaWatershed_low_erase_lakedrain, Lake_Huron, CoastalWatershed_low_erase_lakedrain_LakeHuron, None)\n",
    "\n",
    "# Erase the CoastaWatershed_surge_erase_lakedrain shapefile from the Lake_Huron shapefile with the output name CoastalWatershed_surge_erase_lakedrain_LakeHuron.shp\n",
    "# and save it in outErase_Lake_path\n",
    "\n",
    "arcpy.Erase_analysis(CoastaWatershed_surge_erase_lakedrain, Lake_Huron, CoastalWatershed_surge_erase_lakedrain_LakeHuron, None)\n"
   ]
  },
  {
   "cell_type": "markdown",
   "metadata": {},
   "source": [
    "### 4-2 Add Latitude and Longitude field to coastal watershed"
   ]
  },
  {
   "cell_type": "code",
   "execution_count": 20,
   "metadata": {},
   "outputs": [
    {
     "data": {
      "text/html": [
       "<div class='gpresult'><h2>Messages</h2><div id='messages' data-messages='[\"Start Time: Wednesday, November 20, 2024 6:12:13 PM\",\"Succeeded at Wednesday, November 20, 2024 6:12:17 PM (Elapsed Time: 3.91 seconds)\"]' data-show='true'><div id = 'default' /></div></div>"
      ],
      "text/plain": [
       "<Result 'D:\\\\Users\\\\abolmaal\\\\Arcgis\\\\NASAOceanProject\\\\GIS_layer\\\\CoastaWatersheds\\\\Erase_lake\\\\CoastalWatershed_surge_erase_lakedrain_LakeHuron.shp'>"
      ]
     },
     "execution_count": 20,
     "metadata": {},
     "output_type": "execute_result"
    }
   ],
   "source": [
    "# add start_lat and start_lon fields to the CoastalWatershed_avg_erase_lakedrain_LakeHuron shapefile and calculate the geometry of each feature\n",
    "arcpy.AddField_management(CoastalWatershed_avg_erase_lakedrain_LakeHuron, \"start_lat\", \"DOUBLE\")\n",
    "arcpy.AddField_management(CoastalWatershed_avg_erase_lakedrain_LakeHuron, \"start_lon\", \"DOUBLE\")\n",
    "arcpy.CalculateGeometryAttributes_management(CoastalWatershed_avg_erase_lakedrain_LakeHuron, [[\"start_lat\", \"CENTROID_Y\"], [\"start_lon\", \"CENTROID_X\"]], area_unit=\"SQUARE_METERS\")\n",
    "\n",
    "# add start_lat and start_lon fields to the CoastalWatershed_high_erase_lakedrain_LakeHuron shapefile and calculate the geometry of each feature\n",
    "arcpy.AddField_management(CoastalWatershed_high_erase_lakedrain_LakeHuron, \"start_lat\", \"DOUBLE\")\n",
    "arcpy.AddField_management(CoastalWatershed_high_erase_lakedrain_LakeHuron, \"start_lon\", \"DOUBLE\")\n",
    "arcpy.CalculateGeometryAttributes_management(CoastalWatershed_high_erase_lakedrain_LakeHuron, [[\"start_lat\", \"CENTROID_Y\"], [\"start_lon\", \"CENTROID_X\"]], area_unit=\"SQUARE_METERS\")\n",
    "\n",
    "# add start_lat and start_lon fields to the CoastalWatershed_low_erase_lakedrain_LakeHuron shapefile and calculate the geometry of each feature\n",
    "arcpy.AddField_management(CoastalWatershed_low_erase_lakedrain_LakeHuron, \"start_lat\", \"DOUBLE\")\n",
    "arcpy.AddField_management(CoastalWatershed_low_erase_lakedrain_LakeHuron, \"start_lon\", \"DOUBLE\")\n",
    "arcpy.CalculateGeometryAttributes_management(CoastalWatershed_low_erase_lakedrain_LakeHuron, [[\"start_lat\", \"CENTROID_Y\"], [\"start_lon\", \"CENTROID_X\"]], area_unit=\"SQUARE_METERS\")\n",
    "\n",
    "# add start_lat and start_lon fields to the CoastalWatershed_surge_erase_lakedrain_LakeHuron shapefile and calculate the geometry of each feature\n",
    "arcpy.AddField_management(CoastalWatershed_surge_erase_lakedrain_LakeHuron, \"start_lat\", \"DOUBLE\")\n",
    "arcpy.AddField_management(CoastalWatershed_surge_erase_lakedrain_LakeHuron, \"start_lon\", \"DOUBLE\")\n",
    "arcpy.CalculateGeometryAttributes_management(CoastalWatershed_surge_erase_lakedrain_LakeHuron, [[\"start_lat\", \"CENTROID_Y\"], [\"start_lon\", \"CENTROID_X\"]], area_unit=\"SQUARE_METERS\")\n"
   ]
  },
  {
   "cell_type": "markdown",
   "metadata": {},
   "source": [
    "### 4-3 change the coordinate "
   ]
  },
  {
   "cell_type": "code",
   "execution_count": 22,
   "metadata": {},
   "outputs": [
    {
     "data": {
      "text/html": [
       "<div class='gpresult'><h2>Messages</h2><div id='messages' data-messages='[\"Start Time: Wednesday, November 20, 2024 6:17:37 PM\",\"Succeeded at Wednesday, November 20, 2024 6:17:41 PM (Elapsed Time: 3.95 seconds)\"]' data-show='true'><div id = 'default' /></div></div>"
      ],
      "text/plain": [
       "<Result 'D:\\\\Users\\\\abolmaal\\\\Arcgis\\\\NASAOceanProject\\\\GIS_layer\\\\CoastaWatersheds\\\\Erase_lake\\\\CoastalWatershed_surge_erase_lakedrain_LakeHuron_WGS1984.shp'>"
      ]
     },
     "execution_count": 22,
     "metadata": {},
     "output_type": "execute_result"
    }
   ],
   "source": [
    "# change the crs of the CoastalWatershed_avg_erase_lakedrain_LakeHuron shapefile to WGS 1984\n",
    "arcpy.Project_management(CoastalWatershed_avg_erase_lakedrain_LakeHuron, CoastalWatershed_avg_erase_lakedrain_LakeHuron_WGS1984, arcpy.SpatialReference(4326))\n",
    "# calculate start_lat and start_lon fields for the CoastalWatershed_avg_erase_lakedrain_LakeHuron_WGS1984 shapefile\n",
    "arcpy.CalculateGeometryAttributes_management(CoastalWatershed_avg_erase_lakedrain_LakeHuron_WGS1984, [[\"start_lat\", \"CENTROID_Y\"], [\"start_lon\", \"CENTROID_X\"]], area_unit=\"SQUARE_METERS\")\n",
    "\n",
    "\n",
    "# change the crs of the CoastalWatershed_high_erase_lakedrain_LakeHuron shapefile to WGS 1984\n",
    "arcpy.Project_management(CoastalWatershed_high_erase_lakedrain_LakeHuron, CoastalWatershed_high_erase_lakedrain_LakeHuron_WGS1984, arcpy.SpatialReference(4326))\n",
    "# calculate start_lat and start_lon fields for the CoastalWatershed_high_erase_lakedrain_LakeHuron_WGS1984 shapefile\n",
    "arcpy.CalculateGeometryAttributes_management(CoastalWatershed_high_erase_lakedrain_LakeHuron_WGS1984, [[\"start_lat\", \"CENTROID_Y\"], [\"start_lon\", \"CENTROID_X\"]], area_unit=\"SQUARE_METERS\")\n",
    "\n",
    "# change the crs of the CoastalWatershed_low_erase_lakedrain_LakeHuron shapefile to WGS 1984\n",
    "arcpy.Project_management(CoastalWatershed_low_erase_lakedrain_LakeHuron, CoastalWatershed_low_erase_lakedrain_LakeHuron_WGS1984, arcpy.SpatialReference(4326))\n",
    "# calculate start_lat and start_lon fields for the CoastalWatershed_low_erase_lakedrain_LakeHuron_WGS1984 shapefile\n",
    "arcpy.CalculateGeometryAttributes_management(CoastalWatershed_low_erase_lakedrain_LakeHuron_WGS1984, [[\"start_lat\", \"CENTROID_Y\"], [\"start_lon\", \"CENTROID_X\"]], area_unit=\"SQUARE_METERS\")\n",
    "\n",
    "\n",
    "# change the crs of the CoastalWatershed_surge_erase_lakedrain_LakeHuron shapefile to WGS 1984\n",
    "arcpy.Project_management(CoastalWatershed_surge_erase_lakedrain_LakeHuron, CoastalWatershed_surge_erase_lakedrain_LakeHuron_WGS1984, arcpy.SpatialReference(4326))\n",
    "# calculate start_lat and start_lon fields for the CoastalWatershed_surge_erase_lakedrain_LakeHuron_WGS1984 shapefile\n",
    "arcpy.CalculateGeometryAttributes_management(CoastalWatershed_surge_erase_lakedrain_LakeHuron_WGS1984, [[\"start_lat\", \"CENTROID_Y\"], [\"start_lon\", \"CENTROID_X\"]], area_unit=\"SQUARE_METERS\")\n",
    "\n"
   ]
  }
 ],
 "metadata": {
  "kernelspec": {
   "display_name": "samin-arcpy7",
   "language": "python",
   "name": "python3"
  },
  "language_info": {
   "codemirror_mode": {
    "name": "ipython",
    "version": 3
   },
   "file_extension": ".py",
   "mimetype": "text/x-python",
   "name": "python",
   "nbconvert_exporter": "python",
   "pygments_lexer": "ipython3",
   "version": "3.9.18"
  }
 },
 "nbformat": 4,
 "nbformat_minor": 2
}

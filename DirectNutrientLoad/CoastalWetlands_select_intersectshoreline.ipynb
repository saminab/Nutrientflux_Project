{
 "cells": [
  {
   "cell_type": "markdown",
   "metadata": {},
   "source": [
    "1- The following code reads the coastal wetlands shafiles\n",
    "2- Read the shoreline shapefile \n",
    "3- read the lake shape file\n",
    "3- then it uses the select by location feature in arcgis and input feature would be the coastal wetland shapefile , relationship is intersect, \n",
    "selecting feature is lake huron shoreline, search distance is 50 meters\n",
    "4- save this"
   ]
  },
  {
   "cell_type": "code",
   "execution_count": null,
   "metadata": {},
   "outputs": [],
   "source": [
    "# imports\n",
    "### Reqiured Imports###\n",
    "import pandas, os\n",
    "import arcpy\n",
    "from matplotlib import pyplot as plt"
   ]
  }
 ],
 "metadata": {
  "kernelspec": {
   "display_name": "samin-arcpy7",
   "language": "python",
   "name": "python3"
  },
  "language_info": {
   "codemirror_mode": {
    "name": "ipython",
    "version": 3
   },
   "file_extension": ".py",
   "mimetype": "text/x-python",
   "name": "python",
   "nbconvert_exporter": "python",
   "pygments_lexer": "ipython3",
   "version": "undefined.undefined.undefined"
  }
 },
 "nbformat": 4,
 "nbformat_minor": 2
}

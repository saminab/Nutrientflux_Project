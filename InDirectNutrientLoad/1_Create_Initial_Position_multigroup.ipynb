{
 "cells": [
  {
   "cell_type": "markdown",
   "metadata": {},
   "source": [
    "# Introduction\n",
    "\n",
    "Initial Particle Positions:\n",
    "\n",
    "Particles are initialized at the intersection of Lake Huron watersheds with the shoreline.\n",
    "To ensure starting points are within the lake, these intersection points are snapped 50 meters toward the lake.\n",
    "The create initial position module is used to generate multiple particles around each primary starting point for enhanced resolution."
   ]
  },
  {
   "cell_type": "markdown",
   "metadata": {},
   "source": [
    "# Creating the initial position file using watershed pourpoints\n",
    "The following code read the pour points extracted from Arc gis from the intersection of watersheds with lake huron boundary.\n",
    " We are using PyLag Create initial position function to Create a release Zone for each of the Pour points. Before creating the initial positions, We want to add a condition to make a the relase zone that are in the boundary of Lake Huron.\n",
    " \n",
    " Then using Pylag create initial position file it will create a release zone for each pour point/groupid, in the end each group_id will contain sets of release zone \n",
    " 6/3/2024"
   ]
  },
  {
   "cell_type": "markdown",
   "metadata": {},
   "source": [
    "#### Part 1-1: Import required libraries"
   ]
  },
  {
   "cell_type": "code",
   "execution_count": 3,
   "metadata": {},
   "outputs": [],
   "source": [
    "import os\n",
    "import pandas as pd\n",
    "import geopandas as gpd\n",
    "from shapely.geometry import Point, box\n",
    "import matplotlib.pyplot as plt\n",
    "from pylag.processing.coordinate import get_epsg_code, utm_from_lonlat, lonlat_from_utm\n",
    "from pylag.processing.coordinate import utm_from_lonlat, lonlat_from_utm\n",
    "from pylag.processing.release_zone import create_release_zones_along_cord\n",
    "from pylag.processing.plot import create_figure, colourmap\n",
    "from pylag.processing.plot import FVCOMPlotter\n",
    "from pylag.processing.release_zone import create_release_zone\n",
    "from pylag.processing.input import create_initial_positions_file_multi_group\n",
    "from pylag.processing.input import create_initial_positions_file_single_group"
   ]
  },
  {
   "cell_type": "markdown",
   "metadata": {},
   "source": [
    "# Input path/ files"
   ]
  },
  {
   "cell_type": "code",
   "execution_count": null,
   "metadata": {},
   "outputs": [],
   "source": [
    "# path to pourpoint \n",
    "pourpoints = r\"/mnt/d/Users/abolmaal/Arcgis/NASAOceanProject/GIS_layer/pourpoints\"\n",
    "\n",
    "init_file = os.path.join(pourpoints, 'WatershedPourPoints_NAD1983.dat')\n",
    "\n",
    "\n",
    "\n"
   ]
  },
  {
   "cell_type": "markdown",
   "metadata": {},
   "source": [
    "# Output path"
   ]
  },
  {
   "cell_type": "code",
   "execution_count": null,
   "metadata": {},
   "outputs": [],
   "source": [
    "# path to the release zone that intersect to Lake Huron\n",
    "# path to release zone shapefile\n",
    "release_zone_path = r\"/mnt/d/Users/abolmaal/Arcgis/NASAOceanProject/GIS_layer/particle_tracking_output\"\n",
    "intersection = \"initial_positions_releasezone_intersection.shp\"\n",
    "release_zone_intersect = os.path.join(release_zone_path, 'initial_positions_releasezone_intersection.shp')\n",
    "\n",
    "# temporary file to store the release zone\n",
    "\n",
    "temp_out_name = os.path.join(release_zone_path, 'initial_positions_releasezone.shp')"
   ]
  },
  {
   "cell_type": "code",
   "execution_count": null,
   "metadata": {},
   "outputs": [],
   "source": [
    "# path to final output file\n",
    "out_path = '/home/abolmaal/modelling/FVCOM/Huron/input/initial_position'\n",
    "\n",
    "# name of the output file that is multigrouped and ready to be used in FVCOM\n",
    "output_file_initial_releasezone_multigroup = os.path.join(out_path, 'initial_positions_releasezone_intersection_multigroup.dat')\n",
    "#out_name_multi= os.path.join(output_file_initial_releasezone_multigroup, 'initial_positions_multigroup.dat')\n"
   ]
  },
  {
   "cell_type": "markdown",
   "metadata": {},
   "source": [
    "# Evironments\n",
    "create directory/Folders"
   ]
  },
  {
   "cell_type": "markdown",
   "metadata": {},
   "source": [
    "#### Part1-2: Read the initial position file(from watreshed and lake intersections) and rename the columns"
   ]
  },
  {
   "cell_type": "markdown",
   "metadata": {},
   "source": [
    "# Parameters/ temporary"
   ]
  },
  {
   "cell_type": "code",
   "execution_count": null,
   "metadata": {},
   "outputs": [],
   "source": [
    "# specify the parameters to Create release zone\n",
    "# Release zone  \n",
    "radius = 0.01\n",
    "# target number of particles\n",
    "n_particles_target = 200\n",
    "\n",
    "# Release depths\n",
    "depth_below_surface = 0.0\n",
    "\n",
    "# define the watershed number\n",
    "watershed_num = \"group_id\""
   ]
  },
  {
   "cell_type": "markdown",
   "metadata": {},
   "source": [
    "# Reading the data"
   ]
  },
  {
   "cell_type": "code",
   "execution_count": null,
   "metadata": {},
   "outputs": [
    {
     "data": {
      "text/html": [
       "<div>\n",
       "<style scoped>\n",
       "    .dataframe tbody tr th:only-of-type {\n",
       "        vertical-align: middle;\n",
       "    }\n",
       "\n",
       "    .dataframe tbody tr th {\n",
       "        vertical-align: top;\n",
       "    }\n",
       "\n",
       "    .dataframe thead th {\n",
       "        text-align: right;\n",
       "    }\n",
       "</style>\n",
       "<table border=\"1\" class=\"dataframe\">\n",
       "  <thead>\n",
       "    <tr style=\"text-align: right;\">\n",
       "      <th></th>\n",
       "      <th>group_id</th>\n",
       "      <th>lon</th>\n",
       "      <th>lat</th>\n",
       "      <th>depth</th>\n",
       "    </tr>\n",
       "  </thead>\n",
       "  <tbody>\n",
       "    <tr>\n",
       "      <th>0</th>\n",
       "      <td>0</td>\n",
       "      <td>275.334153</td>\n",
       "      <td>45.745069</td>\n",
       "      <td>0</td>\n",
       "    </tr>\n",
       "    <tr>\n",
       "      <th>1</th>\n",
       "      <td>2</td>\n",
       "      <td>275.513959</td>\n",
       "      <td>45.663186</td>\n",
       "      <td>0</td>\n",
       "    </tr>\n",
       "    <tr>\n",
       "      <th>2</th>\n",
       "      <td>3</td>\n",
       "      <td>275.765637</td>\n",
       "      <td>45.637359</td>\n",
       "      <td>0</td>\n",
       "    </tr>\n",
       "    <tr>\n",
       "      <th>3</th>\n",
       "      <td>4</td>\n",
       "      <td>275.535180</td>\n",
       "      <td>45.655930</td>\n",
       "      <td>0</td>\n",
       "    </tr>\n",
       "    <tr>\n",
       "      <th>4</th>\n",
       "      <td>5</td>\n",
       "      <td>275.874276</td>\n",
       "      <td>45.536123</td>\n",
       "      <td>0</td>\n",
       "    </tr>\n",
       "    <tr>\n",
       "      <th>...</th>\n",
       "      <td>...</td>\n",
       "      <td>...</td>\n",
       "      <td>...</td>\n",
       "      <td>...</td>\n",
       "    </tr>\n",
       "    <tr>\n",
       "      <th>125</th>\n",
       "      <td>128</td>\n",
       "      <td>276.574027</td>\n",
       "      <td>45.061541</td>\n",
       "      <td>0</td>\n",
       "    </tr>\n",
       "    <tr>\n",
       "      <th>126</th>\n",
       "      <td>129</td>\n",
       "      <td>275.921621</td>\n",
       "      <td>45.487321</td>\n",
       "      <td>0</td>\n",
       "    </tr>\n",
       "    <tr>\n",
       "      <th>127</th>\n",
       "      <td>130</td>\n",
       "      <td>276.603434</td>\n",
       "      <td>43.818418</td>\n",
       "      <td>0</td>\n",
       "    </tr>\n",
       "    <tr>\n",
       "      <th>128</th>\n",
       "      <td>135</td>\n",
       "      <td>277.582439</td>\n",
       "      <td>42.971675</td>\n",
       "      <td>0</td>\n",
       "    </tr>\n",
       "    <tr>\n",
       "      <th>129</th>\n",
       "      <td>147</td>\n",
       "      <td>276.534207</td>\n",
       "      <td>43.738642</td>\n",
       "      <td>0</td>\n",
       "    </tr>\n",
       "  </tbody>\n",
       "</table>\n",
       "<p>130 rows × 4 columns</p>\n",
       "</div>"
      ],
      "text/plain": [
       "     group_id         lon        lat  depth\n",
       "0           0  275.334153  45.745069      0\n",
       "1           2  275.513959  45.663186      0\n",
       "2           3  275.765637  45.637359      0\n",
       "3           4  275.535180  45.655930      0\n",
       "4           5  275.874276  45.536123      0\n",
       "..        ...         ...        ...    ...\n",
       "125       128  276.574027  45.061541      0\n",
       "126       129  275.921621  45.487321      0\n",
       "127       130  276.603434  43.818418      0\n",
       "128       135  277.582439  42.971675      0\n",
       "129       147  276.534207  43.738642      0\n",
       "\n",
       "[130 rows x 4 columns]"
      ]
     },
     "execution_count": 15,
     "metadata": {},
     "output_type": "execute_result"
    }
   ],
   "source": [
    "# reading the pouropoints file\n",
    "df_pourpoint = pd.read_csv(init_file, skiprows=0,sep=' ',header=None)\n",
    "# rename the columns\n",
    "df_pourpoint.rename(columns={0: watershed_num, 1:\"lon\",2:\"lat\",3:\"depth\"}, inplace=True)\n",
    "df_pourpoint"
   ]
  },
  {
   "cell_type": "markdown",
   "metadata": {},
   "source": [
    "# Main Function "
   ]
  },
  {
   "cell_type": "markdown",
   "metadata": {},
   "source": [
    "# Create a release zone and save it"
   ]
  },
  {
   "cell_type": "code",
   "execution_count": null,
   "metadata": {},
   "outputs": [],
   "source": [
    "# list to accumulate release zones\n",
    "release_zones = []\n",
    "\n",
    "# Loop through the rows of the DataFrame\n",
    "for index, row in df_pourpoint.iterrows():\n",
    "    group_id = row[watershed_num]\n",
    "    lat = row['lat']\n",
    "    lon = row['lon']\n",
    "    \n",
    "    # Create the release zone\n",
    "    surface_release_zone = create_release_zone(group_id = group_id,\n",
    "                                           radius = radius,\n",
    "                                           centre = [lon, lat],\n",
    "                                           n_particles = n_particles_target,\n",
    "                                           depth = depth_below_surface,\n",
    "                                           random = False)\n",
    "    \n",
    "    # accumulate the release zones\n",
    "    release_zones.append(surface_release_zone)\n",
    "    \n",
    "\n",
    "# Write data to file\n",
    "create_initial_positions_file_multi_group(output_file_initial_releasezone_multigroup, release_zones)\n"
   ]
  },
  {
   "cell_type": "markdown",
   "metadata": {},
   "source": [
    "In this part I save the initial position file as shape file and I used arcpy to remove the points that are not inside Lake Huron. "
   ]
  },
  {
   "cell_type": "markdown",
   "metadata": {},
   "source": [
    "Code for removing the points is in InDirectNutrientLoad_Arcpy directory and it's called Initial_position_removeoutsidelakepoints"
   ]
  },
  {
   "cell_type": "code",
   "execution_count": null,
   "metadata": {},
   "outputs": [
    {
     "data": {
      "text/html": [
       "<div>\n",
       "<style scoped>\n",
       "    .dataframe tbody tr th:only-of-type {\n",
       "        vertical-align: middle;\n",
       "    }\n",
       "\n",
       "    .dataframe tbody tr th {\n",
       "        vertical-align: top;\n",
       "    }\n",
       "\n",
       "    .dataframe thead th {\n",
       "        text-align: right;\n",
       "    }\n",
       "</style>\n",
       "<table border=\"1\" class=\"dataframe\">\n",
       "  <thead>\n",
       "    <tr style=\"text-align: right;\">\n",
       "      <th></th>\n",
       "      <th>group_id</th>\n",
       "      <th>lon</th>\n",
       "      <th>lat</th>\n",
       "      <th>depth</th>\n",
       "    </tr>\n",
       "  </thead>\n",
       "  <tbody>\n",
       "    <tr>\n",
       "      <th>0</th>\n",
       "      <td>0.0</td>\n",
       "      <td>275.334153</td>\n",
       "      <td>45.735069</td>\n",
       "      <td>0.0</td>\n",
       "    </tr>\n",
       "    <tr>\n",
       "      <th>1</th>\n",
       "      <td>0.0</td>\n",
       "      <td>275.329868</td>\n",
       "      <td>45.736498</td>\n",
       "      <td>0.0</td>\n",
       "    </tr>\n",
       "    <tr>\n",
       "      <th>2</th>\n",
       "      <td>0.0</td>\n",
       "      <td>275.331296</td>\n",
       "      <td>45.736498</td>\n",
       "      <td>0.0</td>\n",
       "    </tr>\n",
       "    <tr>\n",
       "      <th>3</th>\n",
       "      <td>0.0</td>\n",
       "      <td>275.332725</td>\n",
       "      <td>45.736498</td>\n",
       "      <td>0.0</td>\n",
       "    </tr>\n",
       "    <tr>\n",
       "      <th>4</th>\n",
       "      <td>0.0</td>\n",
       "      <td>275.334153</td>\n",
       "      <td>45.736498</td>\n",
       "      <td>0.0</td>\n",
       "    </tr>\n",
       "  </tbody>\n",
       "</table>\n",
       "</div>"
      ],
      "text/plain": [
       "   group_id         lon        lat  depth\n",
       "0       0.0  275.334153  45.735069    0.0\n",
       "1       0.0  275.329868  45.736498    0.0\n",
       "2       0.0  275.331296  45.736498    0.0\n",
       "3       0.0  275.332725  45.736498    0.0\n",
       "4       0.0  275.334153  45.736498    0.0"
      ]
     },
     "execution_count": 20,
     "metadata": {},
     "output_type": "execute_result"
    }
   ],
   "source": [
    "# read file name\n",
    "# temp name\n",
    "df_temp = pd.read_csv(output_file_initial_releasezone_multigroup, skiprows=1,sep=' ',header=None)\n",
    "# rename the columns\n",
    "df_temp.rename(columns={0:\"group_id\", 1:\"lon\",2:\"lat\",3:\"depth\"}, inplace=True)\n",
    "df_temp.head()"
   ]
  },
  {
   "cell_type": "markdown",
   "metadata": {},
   "source": [
    "# note define this top"
   ]
  },
  {
   "cell_type": "code",
   "execution_count": null,
   "metadata": {},
   "outputs": [],
   "source": [
    "# save the dataframe as a shapefile in temp_out directory with temp_out_name\n",
    "gdf = gpd.GeoDataFrame(df_temp, geometry=gpd.points_from_xy(df_temp.lon, df_temp.lat))\n",
    "# this is written as WGS84\n",
    "gdf.crs = 'EPSG:4326'\n",
    "gdf.to_file(temp_out_name)"
   ]
  },
  {
   "cell_type": "code",
   "execution_count": 22,
   "metadata": {},
   "outputs": [
    {
     "data": {
      "text/plain": [
       "'/mnt/d/Users/abolmaal/Arcgis/NASAOceanProject/GIS_layer/particle_tracking_output/initial_positions_releasezone.shp'"
      ]
     },
     "execution_count": 22,
     "metadata": {},
     "output_type": "execute_result"
    }
   ],
   "source": [
    "temp_out_name"
   ]
  },
  {
   "cell_type": "markdown",
   "metadata": {},
   "source": [
    "# 3-Solve an error related to PyLag"
   ]
  },
  {
   "cell_type": "markdown",
   "metadata": {},
   "source": [
    "My Lat and lon number has more than 10 digits and when I run it through Pylag it gives me this error:ValueError: invalid literal for int() with base 10: '0.0' so to avoid this I want to read Lat and Lon and round them by 10\n"
   ]
  },
  {
   "cell_type": "markdown",
   "metadata": {},
   "source": [
    "Once I removed the points outside Lake Boundary I read the cleaned point here again \n",
    "- make sure Longitudes are in 360 degree \n",
    "- Lat and Lon are rounded to 10 \n",
    "- Save the file as dat file\n",
    "\n"
   ]
  },
  {
   "cell_type": "code",
   "execution_count": 23,
   "metadata": {},
   "outputs": [
    {
     "data": {
      "text/html": [
       "<div>\n",
       "<style scoped>\n",
       "    .dataframe tbody tr th:only-of-type {\n",
       "        vertical-align: middle;\n",
       "    }\n",
       "\n",
       "    .dataframe tbody tr th {\n",
       "        vertical-align: top;\n",
       "    }\n",
       "\n",
       "    .dataframe thead th {\n",
       "        text-align: right;\n",
       "    }\n",
       "</style>\n",
       "<table border=\"1\" class=\"dataframe\">\n",
       "  <thead>\n",
       "    <tr style=\"text-align: right;\">\n",
       "      <th></th>\n",
       "      <th>FID_initia</th>\n",
       "      <th>group_id</th>\n",
       "      <th>lon</th>\n",
       "      <th>lat</th>\n",
       "      <th>depth</th>\n",
       "      <th>FID_hydro_</th>\n",
       "      <th>HYDRO_P_</th>\n",
       "      <th>UIDENT</th>\n",
       "      <th>TYPE</th>\n",
       "      <th>COUNTRY</th>\n",
       "      <th>NAMEEN</th>\n",
       "      <th>NAMESP</th>\n",
       "      <th>NAMEFR</th>\n",
       "      <th>geometry</th>\n",
       "    </tr>\n",
       "  </thead>\n",
       "  <tbody>\n",
       "    <tr>\n",
       "      <th>0</th>\n",
       "      <td>18205</td>\n",
       "      <td>124.0</td>\n",
       "      <td>277.574766</td>\n",
       "      <td>43.019242</td>\n",
       "      <td>0.0</td>\n",
       "      <td>0</td>\n",
       "      <td>3261</td>\n",
       "      <td>552202</td>\n",
       "      <td>16</td>\n",
       "      <td>USA</td>\n",
       "      <td>Lake Huron</td>\n",
       "      <td>Lake Huron/Lac Huron</td>\n",
       "      <td>Lac Huron</td>\n",
       "      <td>POINT (-82.42523 43.01924)</td>\n",
       "    </tr>\n",
       "    <tr>\n",
       "      <th>1</th>\n",
       "      <td>18216</td>\n",
       "      <td>124.0</td>\n",
       "      <td>277.573338</td>\n",
       "      <td>43.020670</td>\n",
       "      <td>0.0</td>\n",
       "      <td>0</td>\n",
       "      <td>3261</td>\n",
       "      <td>552202</td>\n",
       "      <td>16</td>\n",
       "      <td>USA</td>\n",
       "      <td>Lake Huron</td>\n",
       "      <td>Lake Huron/Lac Huron</td>\n",
       "      <td>Lac Huron</td>\n",
       "      <td>POINT (-82.42666 43.02067)</td>\n",
       "    </tr>\n",
       "    <tr>\n",
       "      <th>2</th>\n",
       "      <td>18217</td>\n",
       "      <td>124.0</td>\n",
       "      <td>277.574766</td>\n",
       "      <td>43.020670</td>\n",
       "      <td>0.0</td>\n",
       "      <td>0</td>\n",
       "      <td>3261</td>\n",
       "      <td>552202</td>\n",
       "      <td>16</td>\n",
       "      <td>USA</td>\n",
       "      <td>Lake Huron</td>\n",
       "      <td>Lake Huron/Lac Huron</td>\n",
       "      <td>Lac Huron</td>\n",
       "      <td>POINT (-82.42523 43.02067)</td>\n",
       "    </tr>\n",
       "    <tr>\n",
       "      <th>3</th>\n",
       "      <td>18218</td>\n",
       "      <td>124.0</td>\n",
       "      <td>277.576195</td>\n",
       "      <td>43.020670</td>\n",
       "      <td>0.0</td>\n",
       "      <td>0</td>\n",
       "      <td>3261</td>\n",
       "      <td>552202</td>\n",
       "      <td>16</td>\n",
       "      <td>USA</td>\n",
       "      <td>Lake Huron</td>\n",
       "      <td>Lake Huron/Lac Huron</td>\n",
       "      <td>Lac Huron</td>\n",
       "      <td>POINT (-82.42381 43.02067)</td>\n",
       "    </tr>\n",
       "    <tr>\n",
       "      <th>4</th>\n",
       "      <td>18228</td>\n",
       "      <td>124.0</td>\n",
       "      <td>277.571909</td>\n",
       "      <td>43.022099</td>\n",
       "      <td>0.0</td>\n",
       "      <td>0</td>\n",
       "      <td>3261</td>\n",
       "      <td>552202</td>\n",
       "      <td>16</td>\n",
       "      <td>USA</td>\n",
       "      <td>Lake Huron</td>\n",
       "      <td>Lake Huron/Lac Huron</td>\n",
       "      <td>Lac Huron</td>\n",
       "      <td>POINT (-82.42809 43.02210)</td>\n",
       "    </tr>\n",
       "  </tbody>\n",
       "</table>\n",
       "</div>"
      ],
      "text/plain": [
       "   FID_initia  group_id         lon        lat  depth  FID_hydro_  HYDRO_P_  \\\n",
       "0       18205     124.0  277.574766  43.019242    0.0           0      3261   \n",
       "1       18216     124.0  277.573338  43.020670    0.0           0      3261   \n",
       "2       18217     124.0  277.574766  43.020670    0.0           0      3261   \n",
       "3       18218     124.0  277.576195  43.020670    0.0           0      3261   \n",
       "4       18228     124.0  277.571909  43.022099    0.0           0      3261   \n",
       "\n",
       "   UIDENT  TYPE COUNTRY      NAMEEN                NAMESP     NAMEFR  \\\n",
       "0  552202    16     USA  Lake Huron  Lake Huron/Lac Huron  Lac Huron   \n",
       "1  552202    16     USA  Lake Huron  Lake Huron/Lac Huron  Lac Huron   \n",
       "2  552202    16     USA  Lake Huron  Lake Huron/Lac Huron  Lac Huron   \n",
       "3  552202    16     USA  Lake Huron  Lake Huron/Lac Huron  Lac Huron   \n",
       "4  552202    16     USA  Lake Huron  Lake Huron/Lac Huron  Lac Huron   \n",
       "\n",
       "                     geometry  \n",
       "0  POINT (-82.42523 43.01924)  \n",
       "1  POINT (-82.42666 43.02067)  \n",
       "2  POINT (-82.42523 43.02067)  \n",
       "3  POINT (-82.42381 43.02067)  \n",
       "4  POINT (-82.42809 43.02210)  "
      ]
     },
     "execution_count": 23,
     "metadata": {},
     "output_type": "execute_result"
    }
   ],
   "source": [
    "# read the release zone shapefile that intersect with Lake Huron\n",
    "release_zone_intersect = gpd.read_file(release_zone_intersect)\n",
    "release_zone_intersect.head()"
   ]
  },
  {
   "cell_type": "code",
   "execution_count": null,
   "metadata": {},
   "outputs": [
    {
     "name": "stdout",
     "output_type": "stream",
     "text": [
      "# Total particles: 8889\n"
     ]
    },
    {
     "data": {
      "text/html": [
       "<div>\n",
       "<style scoped>\n",
       "    .dataframe tbody tr th:only-of-type {\n",
       "        vertical-align: middle;\n",
       "    }\n",
       "\n",
       "    .dataframe tbody tr th {\n",
       "        vertical-align: top;\n",
       "    }\n",
       "\n",
       "    .dataframe thead th {\n",
       "        text-align: right;\n",
       "    }\n",
       "</style>\n",
       "<table border=\"1\" class=\"dataframe\">\n",
       "  <thead>\n",
       "    <tr style=\"text-align: right;\">\n",
       "      <th></th>\n",
       "      <th>group_id</th>\n",
       "      <th>lon</th>\n",
       "      <th>lat</th>\n",
       "      <th>depth</th>\n",
       "    </tr>\n",
       "  </thead>\n",
       "  <tbody>\n",
       "    <tr>\n",
       "      <th>8888</th>\n",
       "      <td>0</td>\n",
       "      <td>275.334153</td>\n",
       "      <td>45.755069</td>\n",
       "      <td>0</td>\n",
       "    </tr>\n",
       "    <tr>\n",
       "      <th>8831</th>\n",
       "      <td>0</td>\n",
       "      <td>275.338439</td>\n",
       "      <td>45.746498</td>\n",
       "      <td>0</td>\n",
       "    </tr>\n",
       "    <tr>\n",
       "      <th>8832</th>\n",
       "      <td>0</td>\n",
       "      <td>275.339868</td>\n",
       "      <td>45.746498</td>\n",
       "      <td>0</td>\n",
       "    </tr>\n",
       "    <tr>\n",
       "      <th>8833</th>\n",
       "      <td>0</td>\n",
       "      <td>275.341296</td>\n",
       "      <td>45.746498</td>\n",
       "      <td>0</td>\n",
       "    </tr>\n",
       "    <tr>\n",
       "      <th>8834</th>\n",
       "      <td>0</td>\n",
       "      <td>275.342725</td>\n",
       "      <td>45.746498</td>\n",
       "      <td>0</td>\n",
       "    </tr>\n",
       "  </tbody>\n",
       "</table>\n",
       "</div>"
      ],
      "text/plain": [
       "      group_id         lon        lat  depth\n",
       "8888         0  275.334153  45.755069      0\n",
       "8831         0  275.338439  45.746498      0\n",
       "8832         0  275.339868  45.746498      0\n",
       "8833         0  275.341296  45.746498      0\n",
       "8834         0  275.342725  45.746498      0"
      ]
     },
     "execution_count": 24,
     "metadata": {},
     "output_type": "execute_result"
    }
   ],
   "source": [
    "# keep only the group_id, lon, lat, and depth columns\n",
    "release_zone_intersect = release_zone_intersect[['group_id', 'lon', 'lat', 'depth']]\n",
    "# sort the data from group_id\n",
    "release_zone_intersect = release_zone_intersect.sort_values(by=[watershed_num])\n",
    "# if df[lon] and df[lat] are greater than 10 digits round them to 10 digits\n",
    "release_zone_intersect['lon'] = release_zone_intersect['lon'].round(10)\n",
    "release_zone_intersect['lat'] = release_zone_intersect['lat'].round(10)\n",
    "# group_id to integer\n",
    "release_zone_intersect['group_id'] = release_zone_intersect['group_id'].astype(int)\n",
    "# depth integer\n",
    "release_zone_intersect['depth'] = release_zone_intersect['depth'].astype(int)\n",
    "# Calculate the total number of particles\n",
    "n_particles_target = release_zone_intersect['group_id'].count()\n",
    "\n",
    "# Display `n_particles_target` as part of the header information\n",
    "print(f\"# Total particles: {n_particles_target}\")\n",
    "release_zone_intersect.head()"
   ]
  },
  {
   "cell_type": "markdown",
   "metadata": {},
   "source": [
    "# Save outputs"
   ]
  },
  {
   "cell_type": "code",
   "execution_count": 25,
   "metadata": {},
   "outputs": [],
   "source": [
    "# Write only the total number of particles as the header and data without column names\n",
    "with open(output_file_initial_releasezone_multigroup, 'w') as file:\n",
    "    # Write the total number of particles as the header\n",
    "    file.write(f\"{n_particles_target}\\n\")\n",
    "    # Write the data without headers\n",
    "    release_zone_intersect.to_csv(file,sep=' ' ,index=False, header=False)"
   ]
  }
 ],
 "metadata": {
  "kernelspec": {
   "display_name": "pylag",
   "language": "python",
   "name": "python3"
  },
  "language_info": {
   "codemirror_mode": {
    "name": "ipython",
    "version": 3
   },
   "file_extension": ".py",
   "mimetype": "text/x-python",
   "name": "python",
   "nbconvert_exporter": "python",
   "pygments_lexer": "ipython3",
   "version": "3.11.10"
  }
 },
 "nbformat": 4,
 "nbformat_minor": 2
}

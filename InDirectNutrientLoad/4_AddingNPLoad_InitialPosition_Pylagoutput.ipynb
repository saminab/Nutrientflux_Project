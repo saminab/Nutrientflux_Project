{
 "cells": [
  {
   "cell_type": "markdown",
   "id": "d4a07efe",
   "metadata": {},
   "source": [
    "# Adding Nutrint Load to Initial particle positions and Pylag outputs"
   ]
  },
  {
   "cell_type": "markdown",
   "id": "16578193",
   "metadata": {},
   "source": [
    "### Notebook Overview\n",
    "\n",
    "This notebook processes nutrient flux data from stream watersheds and integrates it with particle tracking outputs.\n",
    "\n",
    "---\n",
    "\n",
    "#### 1. Read Zonal Statistics for Stream Watersheds\n",
    "\n",
    "We begin by reading the zonal statistics output, which represents the nutrient flux (Total Nitrogen - **TN** and Total Phosphorus - **TP**) from each stream watershed to Lake Huron. These nutrient values are then associated with their corresponding `group_id` to facilitate linkage with particle tracking results.\n",
    "\n",
    "---\n",
    "\n",
    "#### 2. Integrate Nutrient Loads with Particle Tracking Outputs\n",
    "\n",
    "Next, we add TN and TP values to the particle tracking dataset by:\n",
    "\n",
    "- Counting the number of unique `group_id` entries (i.e., the number of particles released from each stream watershed).\n",
    "- Dividing the total TN and TP values by the number of particles released **and** the number of unique days in each release month.\n",
    "\n",
    "For example, for `release_month = 202301`:\n",
    "\n",
    "$TN_{\\text{gram per particle per day}} = \\dfrac{Total N for the group_id}{\\text{number of particles in Jan 2023}} *1000$\n",
    "\n",
    "This allows for a per-particle representation of nutrient loads, supporting fine-scale spatial analysis of nutrient delivery to the lake.\n"
   ]
  },
  {
   "cell_type": "markdown",
   "id": "88ef5c7a",
   "metadata": {},
   "source": [
    "# Imports"
   ]
  },
  {
   "cell_type": "code",
   "execution_count": 1,
   "id": "e7b46e49",
   "metadata": {},
   "outputs": [],
   "source": [
    "# some histogram ananlysis tools\n",
    "import numpy as np\n",
    "import pandas as pd\n",
    "import os\n",
    "import matplotlib.pyplot as plt\n",
    "import seaborn as sns\n",
    "# reas the first file from the file\n",
    "import xarray as xr\n",
    "import pandas as pd\n",
    "import re\n",
    "from collections import defaultdict\n",
    "import glob"
   ]
  },
  {
   "cell_type": "markdown",
   "id": "f0bb35c5",
   "metadata": {},
   "source": [
    "# Inputs"
   ]
  },
  {
   "cell_type": "code",
   "execution_count": 2,
   "id": "cc009d7b",
   "metadata": {},
   "outputs": [],
   "source": [
    "# read the initial points from a file\n",
    "path = '/home/abolmaal/modelling/FVCOM/Huron/input/initial_position'\n",
    "initial_positions_file = os.path.join(path, 'initial_positions_releasezone_intersection_multigroup_midplume_lastrevised.dat')"
   ]
  },
  {
   "cell_type": "markdown",
   "id": "8163ac36",
   "metadata": {},
   "source": [
    "# Output"
   ]
  },
  {
   "cell_type": "code",
   "execution_count": 3,
   "id": "1b4fb554",
   "metadata": {},
   "outputs": [],
   "source": [
    "out_path = '/home/abolmaal/modelling/FVCOM/Huron/InDirectNP_load'"
   ]
  },
  {
   "cell_type": "markdown",
   "id": "c45871ca",
   "metadata": {},
   "source": [
    "# Functions "
   ]
  },
  {
   "cell_type": "code",
   "execution_count": 4,
   "id": "1d639ee9",
   "metadata": {},
   "outputs": [
    {
     "data": {
      "application/vnd.microsoft.datawrangler.viewer.v0+json": {
       "columns": [
        {
         "name": "index",
         "rawType": "int64",
         "type": "integer"
        },
        {
         "name": "group_id",
         "rawType": "int64",
         "type": "integer"
        },
        {
         "name": "lon",
         "rawType": "float64",
         "type": "float"
        },
        {
         "name": "lat",
         "rawType": "float64",
         "type": "float"
        },
        {
         "name": "depth",
         "rawType": "float64",
         "type": "float"
        }
       ],
       "ref": "44ce3e49-6ca4-4cfb-a97e-6aa69881f6fe",
       "rows": [
        [
         "1",
         "0",
         "275.3339",
         "45.7428",
         "0.0"
        ],
        [
         "2",
         "0",
         "275.3351",
         "45.7428",
         "0.0"
        ],
        [
         "3",
         "0",
         "275.3363",
         "45.7428",
         "0.0"
        ],
        [
         "4",
         "0",
         "275.3375",
         "45.7428",
         "0.0"
        ],
        [
         "5",
         "0",
         "275.3387",
         "45.7428",
         "0.0"
        ]
       ],
       "shape": {
        "columns": 4,
        "rows": 5
       }
      },
      "text/html": [
       "<div>\n",
       "<style scoped>\n",
       "    .dataframe tbody tr th:only-of-type {\n",
       "        vertical-align: middle;\n",
       "    }\n",
       "\n",
       "    .dataframe tbody tr th {\n",
       "        vertical-align: top;\n",
       "    }\n",
       "\n",
       "    .dataframe thead th {\n",
       "        text-align: right;\n",
       "    }\n",
       "</style>\n",
       "<table border=\"1\" class=\"dataframe\">\n",
       "  <thead>\n",
       "    <tr style=\"text-align: right;\">\n",
       "      <th></th>\n",
       "      <th>group_id</th>\n",
       "      <th>lon</th>\n",
       "      <th>lat</th>\n",
       "      <th>depth</th>\n",
       "    </tr>\n",
       "  </thead>\n",
       "  <tbody>\n",
       "    <tr>\n",
       "      <th>1</th>\n",
       "      <td>0</td>\n",
       "      <td>275.3339</td>\n",
       "      <td>45.7428</td>\n",
       "      <td>0.0</td>\n",
       "    </tr>\n",
       "    <tr>\n",
       "      <th>2</th>\n",
       "      <td>0</td>\n",
       "      <td>275.3351</td>\n",
       "      <td>45.7428</td>\n",
       "      <td>0.0</td>\n",
       "    </tr>\n",
       "    <tr>\n",
       "      <th>3</th>\n",
       "      <td>0</td>\n",
       "      <td>275.3363</td>\n",
       "      <td>45.7428</td>\n",
       "      <td>0.0</td>\n",
       "    </tr>\n",
       "    <tr>\n",
       "      <th>4</th>\n",
       "      <td>0</td>\n",
       "      <td>275.3375</td>\n",
       "      <td>45.7428</td>\n",
       "      <td>0.0</td>\n",
       "    </tr>\n",
       "    <tr>\n",
       "      <th>5</th>\n",
       "      <td>0</td>\n",
       "      <td>275.3387</td>\n",
       "      <td>45.7428</td>\n",
       "      <td>0.0</td>\n",
       "    </tr>\n",
       "  </tbody>\n",
       "</table>\n",
       "</div>"
      ],
      "text/plain": [
       "   group_id       lon      lat  depth\n",
       "1         0  275.3339  45.7428    0.0\n",
       "2         0  275.3351  45.7428    0.0\n",
       "3         0  275.3363  45.7428    0.0\n",
       "4         0  275.3375  45.7428    0.0\n",
       "5         0  275.3387  45.7428    0.0"
      ]
     },
     "execution_count": 4,
     "metadata": {},
     "output_type": "execute_result"
    }
   ],
   "source": [
    "# read the initial_positions file\n",
    "Initial_position = pd.read_csv(initial_positions_file, sep=' ',header=None, names=['group_id', 'lon', 'lat', 'depth'])\n",
    "# drop the first row\n",
    "Initial_position = Initial_position.drop(0, axis=0)\n",
    "Initial_position.head()"
   ]
  },
  {
   "cell_type": "code",
   "execution_count": 5,
   "id": "32c7abd8",
   "metadata": {},
   "outputs": [],
   "source": [
    "# Step 1: Count occurrences of each unique group_id\n",
    "# Step 2: Combine 'group_id' and 'group_number' with leading zeros\n",
    "# Step 3 : Add a column call particle id  with Combine 'group_id' and 'group_number'\n",
    "# Step 1: Add a particle index within each group_id\n",
    "Initial_position['particle_index'] = Initial_position.groupby('group_id').cumcount()\n",
    "\n",
    "# Step 2: Create particle_id as group_id (no padding) + particle_index (zero-padded to 2 digits)\n",
    "Initial_position['particle_id'] = Initial_position.apply(\n",
    "    lambda row: f\"{int(row['group_id'])}{int(row['particle_index']):02d}\", axis=1\n",
    ")"
   ]
  },
  {
   "cell_type": "code",
   "execution_count": 6,
   "id": "f908ff26",
   "metadata": {},
   "outputs": [
    {
     "name": "stdout",
     "output_type": "stream",
     "text": [
      "Number of unique group_ids: 114\n"
     ]
    }
   ],
   "source": [
    "# count the number of unique group_id in the intersection_df\n",
    "unique_group_ids = Initial_position['group_id'].unique()\n",
    "print(f\"Number of unique group_ids: {len(unique_group_ids)}\")"
   ]
  },
  {
   "cell_type": "code",
   "execution_count": 7,
   "id": "9f4fd112",
   "metadata": {},
   "outputs": [
    {
     "data": {
      "application/vnd.microsoft.datawrangler.viewer.v0+json": {
       "columns": [
        {
         "name": "index",
         "rawType": "int64",
         "type": "integer"
        },
        {
         "name": "group_id",
         "rawType": "int64",
         "type": "integer"
        },
        {
         "name": "particle_id",
         "rawType": "object",
         "type": "string"
        },
        {
         "name": "lon",
         "rawType": "float64",
         "type": "float"
        },
        {
         "name": "lat",
         "rawType": "float64",
         "type": "float"
        },
        {
         "name": "depth",
         "rawType": "float64",
         "type": "float"
        }
       ],
       "ref": "6ce156bd-7439-4ca3-94e4-1dc2e542e5d1",
       "rows": [
        [
         "1",
         "0",
         "000",
         "275.3339",
         "45.7428",
         "0.0"
        ],
        [
         "2",
         "0",
         "001",
         "275.3351",
         "45.7428",
         "0.0"
        ],
        [
         "3",
         "0",
         "002",
         "275.3363",
         "45.7428",
         "0.0"
        ],
        [
         "4",
         "0",
         "003",
         "275.3375",
         "45.7428",
         "0.0"
        ],
        [
         "5",
         "0",
         "004",
         "275.3387",
         "45.7428",
         "0.0"
        ]
       ],
       "shape": {
        "columns": 5,
        "rows": 5
       }
      },
      "text/html": [
       "<div>\n",
       "<style scoped>\n",
       "    .dataframe tbody tr th:only-of-type {\n",
       "        vertical-align: middle;\n",
       "    }\n",
       "\n",
       "    .dataframe tbody tr th {\n",
       "        vertical-align: top;\n",
       "    }\n",
       "\n",
       "    .dataframe thead th {\n",
       "        text-align: right;\n",
       "    }\n",
       "</style>\n",
       "<table border=\"1\" class=\"dataframe\">\n",
       "  <thead>\n",
       "    <tr style=\"text-align: right;\">\n",
       "      <th></th>\n",
       "      <th>group_id</th>\n",
       "      <th>particle_id</th>\n",
       "      <th>lon</th>\n",
       "      <th>lat</th>\n",
       "      <th>depth</th>\n",
       "    </tr>\n",
       "  </thead>\n",
       "  <tbody>\n",
       "    <tr>\n",
       "      <th>1</th>\n",
       "      <td>0</td>\n",
       "      <td>000</td>\n",
       "      <td>275.3339</td>\n",
       "      <td>45.7428</td>\n",
       "      <td>0.0</td>\n",
       "    </tr>\n",
       "    <tr>\n",
       "      <th>2</th>\n",
       "      <td>0</td>\n",
       "      <td>001</td>\n",
       "      <td>275.3351</td>\n",
       "      <td>45.7428</td>\n",
       "      <td>0.0</td>\n",
       "    </tr>\n",
       "    <tr>\n",
       "      <th>3</th>\n",
       "      <td>0</td>\n",
       "      <td>002</td>\n",
       "      <td>275.3363</td>\n",
       "      <td>45.7428</td>\n",
       "      <td>0.0</td>\n",
       "    </tr>\n",
       "    <tr>\n",
       "      <th>4</th>\n",
       "      <td>0</td>\n",
       "      <td>003</td>\n",
       "      <td>275.3375</td>\n",
       "      <td>45.7428</td>\n",
       "      <td>0.0</td>\n",
       "    </tr>\n",
       "    <tr>\n",
       "      <th>5</th>\n",
       "      <td>0</td>\n",
       "      <td>004</td>\n",
       "      <td>275.3387</td>\n",
       "      <td>45.7428</td>\n",
       "      <td>0.0</td>\n",
       "    </tr>\n",
       "  </tbody>\n",
       "</table>\n",
       "</div>"
      ],
      "text/plain": [
       "   group_id particle_id       lon      lat  depth\n",
       "1         0         000  275.3339  45.7428    0.0\n",
       "2         0         001  275.3351  45.7428    0.0\n",
       "3         0         002  275.3363  45.7428    0.0\n",
       "4         0         003  275.3375  45.7428    0.0\n",
       "5         0         004  275.3387  45.7428    0.0"
      ]
     },
     "execution_count": 7,
     "metadata": {},
     "output_type": "execute_result"
    }
   ],
   "source": [
    "# Reorder columns as requested\n",
    "Initial_position = Initial_position[['group_id', 'particle_id', 'lon', 'lat', 'depth']]\n",
    "\n",
    "Initial_position.head()"
   ]
  },
  {
   "cell_type": "markdown",
   "id": "b33c7a85",
   "metadata": {},
   "source": [
    "# Adding TN TP from Zonal Stats to the initial file "
   ]
  },
  {
   "cell_type": "code",
   "execution_count": 8,
   "id": "877013d9",
   "metadata": {},
   "outputs": [],
   "source": [
    "DirectNPcoast = pd.read_csv('/mnt/d/Users/abolmaal/Arcgis/NASAOceanProject/ZonalStats/DirectTNTP_StreamWatresheds.csv')"
   ]
  },
  {
   "cell_type": "code",
   "execution_count": 9,
   "id": "6c50346d",
   "metadata": {},
   "outputs": [
    {
     "data": {
      "text/plain": [
       "Index(['Group_id', 'Shape_Area', 'StreamDirectTP_kgday',\n",
       "       'StreamDirectTN_kgday'],\n",
       "      dtype='object')"
      ]
     },
     "execution_count": 9,
     "metadata": {},
     "output_type": "execute_result"
    }
   ],
   "source": [
    "DirectNPcoast.columns"
   ]
  },
  {
   "cell_type": "code",
   "execution_count": 10,
   "id": "10f41b82",
   "metadata": {},
   "outputs": [
    {
     "data": {
      "application/vnd.microsoft.datawrangler.viewer.v0+json": {
       "columns": [
        {
         "name": "index",
         "rawType": "int64",
         "type": "integer"
        },
        {
         "name": "Group_id",
         "rawType": "int64",
         "type": "integer"
        },
        {
         "name": "Shape_Area",
         "rawType": "float64",
         "type": "float"
        },
        {
         "name": "StreamDirectTP_kgday",
         "rawType": "float64",
         "type": "float"
        },
        {
         "name": "StreamDirectTN_kgday",
         "rawType": "float64",
         "type": "float"
        },
        {
         "name": "StreamDirectTN_gramday",
         "rawType": "float64",
         "type": "float"
        },
        {
         "name": "StreamDirectTP_gramday",
         "rawType": "float64",
         "type": "float"
        }
       ],
       "ref": "8be73892-de80-4f01-a972-193663071070",
       "rows": [
        [
         "0",
         "0",
         "26081928.5215",
         "0.974675289111927",
         "13.48080936492622",
         "13480.80936492622",
         "974.675289111927"
        ],
        [
         "1",
         "1",
         "69150271.4359",
         "2.0009360246176557",
         "51.87855550472977",
         "51878.55550472977",
         "2000.9360246176557"
        ],
        [
         "2",
         "2",
         "170371127.01",
         "4.179389247467957",
         "87.79304285825073",
         "87793.04285825073",
         "4179.389247467957"
        ],
        [
         "3",
         "3",
         "94254255.4891",
         "3.5981979117759475",
         "54.99679188474942",
         "54996.79188474942",
         "3598.1979117759474"
        ],
        [
         "4",
         "4",
         "37729946.5304",
         "1.326998049575194",
         "27.25056783468252",
         "27250.56783468252",
         "1326.998049575194"
        ],
        [
         "5",
         "9",
         "82768965.7249",
         "2.5587266711045222",
         "66.57852305991024",
         "66578.52305991024",
         "2558.726671104522"
        ],
        [
         "6",
         "10",
         "114011332.526",
         "3.2581408524301816",
         "113.29998118317616",
         "113299.98118317616",
         "3258.1408524301814"
        ],
        [
         "7",
         "11",
         "48835227.5479",
         "1.4872642907548623",
         "34.23286139004992",
         "34232.86139004992",
         "1487.2642907548623"
        ],
        [
         "8",
         "13",
         "122669939.676",
         "4.894141190070511",
         "71.99287750819019",
         "71992.87750819018",
         "4894.141190070511"
        ],
        [
         "9",
         "14",
         "168522500.965",
         "5.043811599640316",
         "132.08031469743483",
         "132080.31469743483",
         "5043.811599640316"
        ],
        [
         "10",
         "15",
         "378825640.706",
         "11.104845338773908",
         "277.6316426750329",
         "277631.6426750329",
         "11104.845338773908"
        ],
        [
         "11",
         "16",
         "3862098535.71",
         "76.8500047901055",
         "2320.9587923110257",
         "2320958.792311026",
         "76850.00479010551"
        ],
        [
         "12",
         "17",
         "126923176.903",
         "4.226983254250636",
         "115.42763053099458",
         "115427.63053099457",
         "4226.9832542506365"
        ],
        [
         "13",
         "18",
         "152686421.896",
         "3.508592250758738",
         "128.82546984983497",
         "128825.46984983498",
         "3508.592250758738"
        ],
        [
         "14",
         "20",
         "3310146477.54",
         "83.86343191114022",
         "2492.502071118491",
         "2492502.0711184912",
         "83863.43191114023"
        ],
        [
         "15",
         "23",
         "385488653.639",
         "15.10592360738882",
         "386.4205142129213",
         "386420.5142129213",
         "15105.92360738882"
        ],
        [
         "16",
         "24",
         "5286929706.64",
         "95.87290729478052",
         "3020.2187116238774",
         "3020218.7116238773",
         "95872.90729478051"
        ],
        [
         "17",
         "25",
         "6521959.89024",
         "0.2617603496073571",
         "3.993725896492835",
         "3993.725896492835",
         "261.7603496073571"
        ],
        [
         "18",
         "26",
         "357702575.131",
         "14.06838260158912",
         "393.6244184949827",
         "393624.4184949827",
         "14068.382601589119"
        ],
        [
         "19",
         "27",
         "11735374.2391",
         "0.512962219954716",
         "13.323405480376085",
         "13323.405480376085",
         "512.962219954716"
        ],
        [
         "20",
         "28",
         "10576332.2575",
         "0.7531905104260658",
         "35.09104102849962",
         "35091.04102849962",
         "753.1905104260658"
        ],
        [
         "21",
         "29",
         "4967295.02373",
         "0.3264392703677003",
         "3.821916199667613",
         "3821.916199667613",
         "326.4392703677003"
        ],
        [
         "22",
         "30",
         "7902589.4752",
         "0.6173427899266241",
         "31.048154019517828",
         "31048.154019517828",
         "617.342789926624"
        ],
        [
         "23",
         "31",
         "9415495.00387",
         "0.8899427178221219",
         "37.90063295478465",
         "37900.63295478465",
         "889.9427178221218"
        ],
        [
         "24",
         "32",
         "7651322.12223",
         "0.8485265699855522",
         "17.313636773134924",
         "17313.636773134924",
         "848.5265699855522"
        ],
        [
         "25",
         "33",
         "747191527.966",
         "35.824807303828514",
         "1261.497810568672",
         "1261497.8105686721",
         "35824.807303828515"
        ],
        [
         "26",
         "34",
         "40153326.5227",
         "7.226255173831308",
         "193.63755480851967",
         "193637.55480851966",
         "7226.255173831308"
        ],
        [
         "27",
         "35",
         "1482043.74846",
         "0.2058948502090061",
         "5.929590299347183",
         "5929.590299347183",
         "205.8948502090061"
        ],
        [
         "28",
         "36",
         "6717542.03064",
         "0.4828728103002506",
         "11.32899058623297",
         "11328.99058623297",
         "482.8728103002506"
        ],
        [
         "29",
         "38",
         "1005667753.4",
         "43.73616753062285",
         "1235.746301272239",
         "1235746.3012722388",
         "43736.16753062285"
        ],
        [
         "30",
         "39",
         "27353.2248816",
         "0.0032150000333786",
         "0.0169799998402595",
         "16.9799998402595",
         "3.2150000333786"
        ],
        [
         "31",
         "40",
         "13551511.0833",
         "0.4956566692289924",
         "17.873191693972323",
         "17873.191693972323",
         "495.65666922899237"
        ],
        [
         "32",
         "41",
         "2303366.4258",
         "0.1211025996526587",
         "5.327678012661636",
         "5327.678012661636",
         "121.1025996526587"
        ],
        [
         "33",
         "42",
         "58798442.8175",
         "6.847898704159888",
         "293.7476375378609",
         "293747.6375378609",
         "6847.898704159888"
        ],
        [
         "34",
         "43",
         "2871675.12419",
         "0.2187049785861745",
         "8.928737000562247",
         "8928.737000562247",
         "218.7049785861745"
        ],
        [
         "35",
         "44",
         "32699925.1459",
         "3.828006132251175",
         "152.4248627507549",
         "152424.8627507549",
         "3828.006132251175"
        ],
        [
         "36",
         "45",
         "11354135.4602",
         "0.9146922997751972",
         "41.63499500381296",
         "41634.99500381296",
         "914.6922997751972"
        ],
        [
         "37",
         "46",
         "1164320.53756",
         "0.0385958497936371",
         "1.1268039953429252",
         "1126.8039953429252",
         "38.5958497936371"
        ],
        [
         "38",
         "48",
         "5290470.66959",
         "0.8344501018873408",
         "33.039219003170714",
         "33039.219003170714",
         "834.4501018873408"
        ],
        [
         "39",
         "49",
         "59215251.2968",
         "4.813356941407629",
         "215.95626800441795",
         "215956.26800441794",
         "4813.356941407629"
        ],
        [
         "40",
         "50",
         "5546800.38757",
         "0.5444313301886723",
         "20.2426590048708",
         "20242.6590048708",
         "544.4313301886723"
        ],
        [
         "41",
         "51",
         "608871.654082",
         "0.0515121496173378",
         "2.7371300160884866",
         "2737.1300160884866",
         "51.5121496173378"
        ],
        [
         "42",
         "52",
         "3526221.63978",
         "0.2811428005807103",
         "11.61296000645962",
         "11612.96000645962",
         "281.1428005807103"
        ],
        [
         "43",
         "53",
         "900.000000033",
         "0.0003174000012222",
         "0.0058840001001954",
         "5.8840001001954",
         "0.31740000122219997"
        ],
        [
         "44",
         "55",
         "1832991.69047",
         "0.4995029996207451",
         "13.185543044470252",
         "13185.543044470252",
         "499.50299962074513"
        ],
        [
         "45",
         "56",
         "11592972.8495",
         "1.2309760893622297",
         "53.77161995368082",
         "53771.61995368082",
         "1230.9760893622297"
        ],
        [
         "46",
         "57",
         "241113625.373",
         "11.43366326141948",
         "432.8730486595263",
         "432873.04865952634",
         "11433.66326141948"
        ],
        [
         "47",
         "58",
         "9365094.3582",
         "0.4443079903285249",
         "21.72353415309045",
         "21723.53415309045",
         "444.3079903285249"
        ],
        [
         "48",
         "59",
         "11340486.9248",
         "1.3520887982449492",
         "56.38323502801363",
         "56383.23502801363",
         "1352.0887982449492"
        ],
        [
         "49",
         "60",
         "18286507.7303",
         "1.516695341379093",
         "72.73416797723618",
         "72734.16797723618",
         "1516.695341379093"
        ]
       ],
       "shape": {
        "columns": 6,
        "rows": 145
       }
      },
      "text/html": [
       "<div>\n",
       "<style scoped>\n",
       "    .dataframe tbody tr th:only-of-type {\n",
       "        vertical-align: middle;\n",
       "    }\n",
       "\n",
       "    .dataframe tbody tr th {\n",
       "        vertical-align: top;\n",
       "    }\n",
       "\n",
       "    .dataframe thead th {\n",
       "        text-align: right;\n",
       "    }\n",
       "</style>\n",
       "<table border=\"1\" class=\"dataframe\">\n",
       "  <thead>\n",
       "    <tr style=\"text-align: right;\">\n",
       "      <th></th>\n",
       "      <th>Group_id</th>\n",
       "      <th>Shape_Area</th>\n",
       "      <th>StreamDirectTP_kgday</th>\n",
       "      <th>StreamDirectTN_kgday</th>\n",
       "      <th>StreamDirectTN_gramday</th>\n",
       "      <th>StreamDirectTP_gramday</th>\n",
       "    </tr>\n",
       "  </thead>\n",
       "  <tbody>\n",
       "    <tr>\n",
       "      <th>0</th>\n",
       "      <td>0</td>\n",
       "      <td>2.608193e+07</td>\n",
       "      <td>0.974675</td>\n",
       "      <td>13.480809</td>\n",
       "      <td>1.348081e+04</td>\n",
       "      <td>974.675289</td>\n",
       "    </tr>\n",
       "    <tr>\n",
       "      <th>1</th>\n",
       "      <td>1</td>\n",
       "      <td>6.915027e+07</td>\n",
       "      <td>2.000936</td>\n",
       "      <td>51.878556</td>\n",
       "      <td>5.187856e+04</td>\n",
       "      <td>2000.936025</td>\n",
       "    </tr>\n",
       "    <tr>\n",
       "      <th>2</th>\n",
       "      <td>2</td>\n",
       "      <td>1.703711e+08</td>\n",
       "      <td>4.179389</td>\n",
       "      <td>87.793043</td>\n",
       "      <td>8.779304e+04</td>\n",
       "      <td>4179.389247</td>\n",
       "    </tr>\n",
       "    <tr>\n",
       "      <th>3</th>\n",
       "      <td>3</td>\n",
       "      <td>9.425426e+07</td>\n",
       "      <td>3.598198</td>\n",
       "      <td>54.996792</td>\n",
       "      <td>5.499679e+04</td>\n",
       "      <td>3598.197912</td>\n",
       "    </tr>\n",
       "    <tr>\n",
       "      <th>4</th>\n",
       "      <td>4</td>\n",
       "      <td>3.772995e+07</td>\n",
       "      <td>1.326998</td>\n",
       "      <td>27.250568</td>\n",
       "      <td>2.725057e+04</td>\n",
       "      <td>1326.998050</td>\n",
       "    </tr>\n",
       "    <tr>\n",
       "      <th>...</th>\n",
       "      <td>...</td>\n",
       "      <td>...</td>\n",
       "      <td>...</td>\n",
       "      <td>...</td>\n",
       "      <td>...</td>\n",
       "      <td>...</td>\n",
       "    </tr>\n",
       "    <tr>\n",
       "      <th>140</th>\n",
       "      <td>170</td>\n",
       "      <td>1.961733e+07</td>\n",
       "      <td>4.299652</td>\n",
       "      <td>63.984811</td>\n",
       "      <td>6.398481e+04</td>\n",
       "      <td>4299.652109</td>\n",
       "    </tr>\n",
       "    <tr>\n",
       "      <th>141</th>\n",
       "      <td>171</td>\n",
       "      <td>1.228468e+03</td>\n",
       "      <td>0.000563</td>\n",
       "      <td>0.013980</td>\n",
       "      <td>1.398000e+01</td>\n",
       "      <td>0.563200</td>\n",
       "    </tr>\n",
       "    <tr>\n",
       "      <th>142</th>\n",
       "      <td>173</td>\n",
       "      <td>1.396735e+07</td>\n",
       "      <td>4.034916</td>\n",
       "      <td>23.636322</td>\n",
       "      <td>2.363632e+04</td>\n",
       "      <td>4034.915994</td>\n",
       "    </tr>\n",
       "    <tr>\n",
       "      <th>143</th>\n",
       "      <td>174</td>\n",
       "      <td>7.877722e+06</td>\n",
       "      <td>2.496025</td>\n",
       "      <td>14.078233</td>\n",
       "      <td>1.407823e+04</td>\n",
       "      <td>2496.024996</td>\n",
       "    </tr>\n",
       "    <tr>\n",
       "      <th>144</th>\n",
       "      <td>176</td>\n",
       "      <td>1.975048e+09</td>\n",
       "      <td>277.777747</td>\n",
       "      <td>4608.331785</td>\n",
       "      <td>4.608332e+06</td>\n",
       "      <td>277777.747389</td>\n",
       "    </tr>\n",
       "  </tbody>\n",
       "</table>\n",
       "<p>145 rows × 6 columns</p>\n",
       "</div>"
      ],
      "text/plain": [
       "     Group_id    Shape_Area  StreamDirectTP_kgday  StreamDirectTN_kgday  \\\n",
       "0           0  2.608193e+07              0.974675             13.480809   \n",
       "1           1  6.915027e+07              2.000936             51.878556   \n",
       "2           2  1.703711e+08              4.179389             87.793043   \n",
       "3           3  9.425426e+07              3.598198             54.996792   \n",
       "4           4  3.772995e+07              1.326998             27.250568   \n",
       "..        ...           ...                   ...                   ...   \n",
       "140       170  1.961733e+07              4.299652             63.984811   \n",
       "141       171  1.228468e+03              0.000563              0.013980   \n",
       "142       173  1.396735e+07              4.034916             23.636322   \n",
       "143       174  7.877722e+06              2.496025             14.078233   \n",
       "144       176  1.975048e+09            277.777747           4608.331785   \n",
       "\n",
       "     StreamDirectTN_gramday  StreamDirectTP_gramday  \n",
       "0              1.348081e+04              974.675289  \n",
       "1              5.187856e+04             2000.936025  \n",
       "2              8.779304e+04             4179.389247  \n",
       "3              5.499679e+04             3598.197912  \n",
       "4              2.725057e+04             1326.998050  \n",
       "..                      ...                     ...  \n",
       "140            6.398481e+04             4299.652109  \n",
       "141            1.398000e+01                0.563200  \n",
       "142            2.363632e+04             4034.915994  \n",
       "143            1.407823e+04             2496.024996  \n",
       "144            4.608332e+06           277777.747389  \n",
       "\n",
       "[145 rows x 6 columns]"
      ]
     },
     "execution_count": 10,
     "metadata": {},
     "output_type": "execute_result"
    }
   ],
   "source": [
    "# add two columns to the DirectNPcoast dataframe called 'StreamDirectTN_gramyr,' and 'StreamDirectTP_gramyr'\n",
    "DirectNPcoast['StreamDirectTN_gramday'] = DirectNPcoast['StreamDirectTN_kgday'] * 1000 \n",
    "DirectNPcoast['StreamDirectTP_gramday'] = DirectNPcoast['StreamDirectTP_kgday'] * 1000 \n",
    "DirectNPcoast"
   ]
  },
  {
   "cell_type": "code",
   "execution_count": 11,
   "id": "4344690e",
   "metadata": {},
   "outputs": [
    {
     "name": "stdout",
     "output_type": "stream",
     "text": [
      "Minimum DirectTP value: 0.0003174000012222 in group(s): [53]\n",
      "Maximum DirectTP value: 996.7834509699624 in group(s): [162]\n",
      "Minimum DirectTN value: 0.0058840001001954 in group(s): [53]\n",
      "Maximum DirectTN value: 28752.26332026508 in group(s): [162]\n"
     ]
    }
   ],
   "source": [
    "# in DirectNPcoast show which Group_ids has the min adn max values in the column 'DirectTP_StreamWatresheds' and DirectTN_kgday\n",
    "min_directTP = DirectNPcoast['StreamDirectTP_kgday'].min()\n",
    "max_directTP = DirectNPcoast['StreamDirectTP_kgday'].max()\n",
    "min_directTN = DirectNPcoast['StreamDirectTN_kgday'].min()\n",
    "max_directTN = DirectNPcoast['StreamDirectTN_kgday'].max()\n",
    "\n",
    "min_directTP_group = DirectNPcoast[DirectNPcoast['StreamDirectTP_kgday'] == min_directTP]['Group_id']\n",
    "max_directTP_group = DirectNPcoast[DirectNPcoast['StreamDirectTP_kgday'] == max_directTP]['Group_id']\n",
    "min_directTN_group = DirectNPcoast[DirectNPcoast['StreamDirectTN_kgday'] == min_directTN]['Group_id']\n",
    "max_directTN_group = DirectNPcoast[DirectNPcoast['StreamDirectTN_kgday'] == max_directTN]['Group_id']\n",
    "\n",
    "print(f\"Minimum DirectTP value: {min_directTP} in group(s): {min_directTP_group.values}\")\n",
    "print(f\"Maximum DirectTP value: {max_directTP} in group(s): {max_directTP_group.values}\")\n",
    "print(f\"Minimum DirectTN value: {min_directTN} in group(s): {min_directTN_group.values}\")\n",
    "print(f\"Maximum DirectTN value: {max_directTN} in group(s): {max_directTN_group.values}\")"
   ]
  },
  {
   "cell_type": "code",
   "execution_count": 12,
   "id": "6ec05ce3",
   "metadata": {},
   "outputs": [
    {
     "name": "stdout",
     "output_type": "stream",
     "text": [
      "Number of unique Stream watersheds: 145\n"
     ]
    }
   ],
   "source": [
    "# count the nember of unique StWater_id in the data \n",
    "unique_stwater_ids = DirectNPcoast['Group_id'].nunique()\n",
    "print(f\"Number of unique Stream watersheds: {unique_stwater_ids}\")"
   ]
  },
  {
   "cell_type": "markdown",
   "id": "a5453646",
   "metadata": {},
   "source": [
    "## Merging Direct NP to coast with Initial position"
   ]
  },
  {
   "cell_type": "code",
   "execution_count": 13,
   "id": "cf2ea9e8",
   "metadata": {},
   "outputs": [],
   "source": [
    "df = Initial_position\n",
    "df1 = Initial_position\n",
    "df2 = DirectNPcoast\n"
   ]
  },
  {
   "cell_type": "code",
   "execution_count": 14,
   "id": "2282ace0",
   "metadata": {},
   "outputs": [],
   "source": [
    "def expand_and_merge_by_group_id_with_split_loads(df1, df2, group_col='group_id', split_cols=None):\n",
    "    \"\"\"\n",
    "    Expands df2 rows based on group_id counts in df1, evenly distributes load values,\n",
    "    and merges with df1.\n",
    "\n",
    "    Parameters:\n",
    "    - df1: DataFrame with many rows per group_id (e.g., particles)\n",
    "    - df2: DataFrame with one row per group_id (e.g., watershed-level values)\n",
    "    - group_col: Column name for group_id\n",
    "    - split_cols: List of columns in df2 to distribute evenly across group_id count\n",
    "\n",
    "    Returns:\n",
    "    - merged_df: df1 with split load values and particle_id assigned\n",
    "    \"\"\"\n",
    "\n",
    "    if split_cols is None:\n",
    "        split_cols = ['StreamDirectTN_kgday', 'StreamDirectTP_kgday',\n",
    "                      'StreamDirectTN_gramday', 'StreamDirectTP_gramday']\n",
    "\n",
    "    # Standardize group_id column in df2\n",
    "    df2 = df2.rename(columns={col: group_col for col in df2.columns if col.lower() == group_col.lower() or col.lower() == 'group_id'})\n",
    "\n",
    "    # Step 1: Count group_id occurrences in df1\n",
    "    group_counts = df1[group_col].value_counts().rename_axis(group_col).reset_index(name='count')\n",
    "\n",
    "    # Step 2: Merge count into df2\n",
    "    df2_expanded = df2.merge(group_counts, on=group_col, how='inner')\n",
    "\n",
    "    # Step 3: Divide selected columns by count to spread evenly across particles\n",
    "    for col in split_cols:\n",
    "        if col in df2_expanded.columns:\n",
    "            df2_expanded[col] = df2_expanded[col] / df2_expanded['count']\n",
    "\n",
    "    # Step 4: Repeat df2 rows based on count\n",
    "    df2_repeated = df2_expanded.loc[df2_expanded.index.repeat(df2_expanded['count'])].reset_index(drop=True)\n",
    "\n",
    "    # Step 5: Align df1 to match repeated structure\n",
    "    df1 = df1[df1[group_col].isin(df2_repeated[group_col])].reset_index(drop=True)\n",
    "    df2_repeated = df2_repeated.drop(columns='count').reset_index(drop=True)\n",
    "\n",
    "    # Add particle_index within each group_id\n",
    "    df1['particle_index'] = df1.groupby(group_col).cumcount()\n",
    "\n",
    "    # Create unique particle_id\n",
    "    df1['particle_id'] = df1.apply(\n",
    "        lambda row: f\"{int(row[group_col]):03d}{int(row['particle_index']):02d}\", axis=1\n",
    "    ).astype(str)\n",
    "\n",
    "    # Drop group_col from df2 before merging\n",
    "    df2_repeated = df2_repeated.drop(columns=group_col)\n",
    "\n",
    "    # Step 6: Concatenate\n",
    "    merged_df = pd.concat([df1, df2_repeated], axis=1)\n",
    "\n",
    "    return merged_df\n"
   ]
  },
  {
   "cell_type": "code",
   "execution_count": 15,
   "id": "dd9aae4d",
   "metadata": {},
   "outputs": [],
   "source": [
    "split_columns = [\n",
    "    'StreamDirectTN_kgday',\n",
    "    'StreamDirectTP_kgday',\n",
    "    'StreamDirectTN_gramday',\n",
    "    'StreamDirectTP_gramday'\n",
    "]\n",
    "\n",
    "merged_df = expand_and_merge_by_group_id_with_split_loads(Initial_position, DirectNPcoast, split_cols=split_columns)\n"
   ]
  },
  {
   "cell_type": "code",
   "execution_count": 16,
   "id": "d7754a88",
   "metadata": {},
   "outputs": [
    {
     "data": {
      "application/vnd.microsoft.datawrangler.viewer.v0+json": {
       "columns": [
        {
         "name": "index",
         "rawType": "int64",
         "type": "integer"
        },
        {
         "name": "group_id",
         "rawType": "int64",
         "type": "integer"
        },
        {
         "name": "particle_id",
         "rawType": "object",
         "type": "string"
        },
        {
         "name": "lon",
         "rawType": "float64",
         "type": "float"
        },
        {
         "name": "lat",
         "rawType": "float64",
         "type": "float"
        },
        {
         "name": "depth",
         "rawType": "float64",
         "type": "float"
        },
        {
         "name": "particle_index",
         "rawType": "int64",
         "type": "integer"
        },
        {
         "name": "Shape_Area",
         "rawType": "float64",
         "type": "float"
        },
        {
         "name": "StreamDirectTP_kgday",
         "rawType": "float64",
         "type": "float"
        },
        {
         "name": "StreamDirectTN_kgday",
         "rawType": "float64",
         "type": "float"
        },
        {
         "name": "StreamDirectTN_gramday",
         "rawType": "float64",
         "type": "float"
        },
        {
         "name": "StreamDirectTP_gramday",
         "rawType": "float64",
         "type": "float"
        }
       ],
       "ref": "c421c3b1-6f2d-4071-8736-34d11704e29a",
       "rows": [
        [
         "0",
         "0",
         "00000",
         "275.3339",
         "45.7428",
         "0.0",
         "0",
         "26081928.5215",
         "0.01299567052149236",
         "0.17974412486568292",
         "179.74412486568292",
         "12.99567052149236"
        ],
        [
         "1",
         "0",
         "00001",
         "275.3351",
         "45.7428",
         "0.0",
         "1",
         "26081928.5215",
         "0.01299567052149236",
         "0.17974412486568292",
         "179.74412486568292",
         "12.99567052149236"
        ],
        [
         "2",
         "0",
         "00002",
         "275.3363",
         "45.7428",
         "0.0",
         "2",
         "26081928.5215",
         "0.01299567052149236",
         "0.17974412486568292",
         "179.74412486568292",
         "12.99567052149236"
        ],
        [
         "3",
         "0",
         "00003",
         "275.3375",
         "45.7428",
         "0.0",
         "3",
         "26081928.5215",
         "0.01299567052149236",
         "0.17974412486568292",
         "179.74412486568292",
         "12.99567052149236"
        ],
        [
         "4",
         "0",
         "00004",
         "275.3387",
         "45.7428",
         "0.0",
         "4",
         "26081928.5215",
         "0.01299567052149236",
         "0.17974412486568292",
         "179.74412486568292",
         "12.99567052149236"
        ]
       ],
       "shape": {
        "columns": 11,
        "rows": 5
       }
      },
      "text/html": [
       "<div>\n",
       "<style scoped>\n",
       "    .dataframe tbody tr th:only-of-type {\n",
       "        vertical-align: middle;\n",
       "    }\n",
       "\n",
       "    .dataframe tbody tr th {\n",
       "        vertical-align: top;\n",
       "    }\n",
       "\n",
       "    .dataframe thead th {\n",
       "        text-align: right;\n",
       "    }\n",
       "</style>\n",
       "<table border=\"1\" class=\"dataframe\">\n",
       "  <thead>\n",
       "    <tr style=\"text-align: right;\">\n",
       "      <th></th>\n",
       "      <th>group_id</th>\n",
       "      <th>particle_id</th>\n",
       "      <th>lon</th>\n",
       "      <th>lat</th>\n",
       "      <th>depth</th>\n",
       "      <th>particle_index</th>\n",
       "      <th>Shape_Area</th>\n",
       "      <th>StreamDirectTP_kgday</th>\n",
       "      <th>StreamDirectTN_kgday</th>\n",
       "      <th>StreamDirectTN_gramday</th>\n",
       "      <th>StreamDirectTP_gramday</th>\n",
       "    </tr>\n",
       "  </thead>\n",
       "  <tbody>\n",
       "    <tr>\n",
       "      <th>0</th>\n",
       "      <td>0</td>\n",
       "      <td>00000</td>\n",
       "      <td>275.3339</td>\n",
       "      <td>45.7428</td>\n",
       "      <td>0.0</td>\n",
       "      <td>0</td>\n",
       "      <td>2.608193e+07</td>\n",
       "      <td>0.012996</td>\n",
       "      <td>0.179744</td>\n",
       "      <td>179.744125</td>\n",
       "      <td>12.995671</td>\n",
       "    </tr>\n",
       "    <tr>\n",
       "      <th>1</th>\n",
       "      <td>0</td>\n",
       "      <td>00001</td>\n",
       "      <td>275.3351</td>\n",
       "      <td>45.7428</td>\n",
       "      <td>0.0</td>\n",
       "      <td>1</td>\n",
       "      <td>2.608193e+07</td>\n",
       "      <td>0.012996</td>\n",
       "      <td>0.179744</td>\n",
       "      <td>179.744125</td>\n",
       "      <td>12.995671</td>\n",
       "    </tr>\n",
       "    <tr>\n",
       "      <th>2</th>\n",
       "      <td>0</td>\n",
       "      <td>00002</td>\n",
       "      <td>275.3363</td>\n",
       "      <td>45.7428</td>\n",
       "      <td>0.0</td>\n",
       "      <td>2</td>\n",
       "      <td>2.608193e+07</td>\n",
       "      <td>0.012996</td>\n",
       "      <td>0.179744</td>\n",
       "      <td>179.744125</td>\n",
       "      <td>12.995671</td>\n",
       "    </tr>\n",
       "    <tr>\n",
       "      <th>3</th>\n",
       "      <td>0</td>\n",
       "      <td>00003</td>\n",
       "      <td>275.3375</td>\n",
       "      <td>45.7428</td>\n",
       "      <td>0.0</td>\n",
       "      <td>3</td>\n",
       "      <td>2.608193e+07</td>\n",
       "      <td>0.012996</td>\n",
       "      <td>0.179744</td>\n",
       "      <td>179.744125</td>\n",
       "      <td>12.995671</td>\n",
       "    </tr>\n",
       "    <tr>\n",
       "      <th>4</th>\n",
       "      <td>0</td>\n",
       "      <td>00004</td>\n",
       "      <td>275.3387</td>\n",
       "      <td>45.7428</td>\n",
       "      <td>0.0</td>\n",
       "      <td>4</td>\n",
       "      <td>2.608193e+07</td>\n",
       "      <td>0.012996</td>\n",
       "      <td>0.179744</td>\n",
       "      <td>179.744125</td>\n",
       "      <td>12.995671</td>\n",
       "    </tr>\n",
       "  </tbody>\n",
       "</table>\n",
       "</div>"
      ],
      "text/plain": [
       "   group_id particle_id       lon      lat  depth  particle_index  \\\n",
       "0         0       00000  275.3339  45.7428    0.0               0   \n",
       "1         0       00001  275.3351  45.7428    0.0               1   \n",
       "2         0       00002  275.3363  45.7428    0.0               2   \n",
       "3         0       00003  275.3375  45.7428    0.0               3   \n",
       "4         0       00004  275.3387  45.7428    0.0               4   \n",
       "\n",
       "     Shape_Area  StreamDirectTP_kgday  StreamDirectTN_kgday  \\\n",
       "0  2.608193e+07              0.012996              0.179744   \n",
       "1  2.608193e+07              0.012996              0.179744   \n",
       "2  2.608193e+07              0.012996              0.179744   \n",
       "3  2.608193e+07              0.012996              0.179744   \n",
       "4  2.608193e+07              0.012996              0.179744   \n",
       "\n",
       "   StreamDirectTN_gramday  StreamDirectTP_gramday  \n",
       "0              179.744125               12.995671  \n",
       "1              179.744125               12.995671  \n",
       "2              179.744125               12.995671  \n",
       "3              179.744125               12.995671  \n",
       "4              179.744125               12.995671  "
      ]
     },
     "execution_count": 16,
     "metadata": {},
     "output_type": "execute_result"
    }
   ],
   "source": [
    "merged_df.head()"
   ]
  },
  {
   "cell_type": "code",
   "execution_count": 17,
   "id": "b0a8c5b3",
   "metadata": {},
   "outputs": [
    {
     "name": "stdout",
     "output_type": "stream",
     "text": [
      "     group_id  count\n",
      "0           0     75\n",
      "1         116     75\n",
      "2         113     75\n",
      "3         112     75\n",
      "4         111     75\n",
      "..        ...    ...\n",
      "109        50     75\n",
      "110        49     75\n",
      "111        48     75\n",
      "112        45     75\n",
      "113       162     75\n",
      "\n",
      "[114 rows x 2 columns]\n"
     ]
    }
   ],
   "source": [
    "# Step 1: Count how many times each group_id occurs in df\n",
    "group_counts = Initial_position['group_id'].value_counts().rename_axis('group_id').reset_index(name='count')\n",
    "print(group_counts)"
   ]
  },
  {
   "cell_type": "code",
   "execution_count": 18,
   "id": "36bf0d43",
   "metadata": {},
   "outputs": [],
   "source": [
    "# drop the column 'StreamDirectTN_kgday' and 'StreamDirectTP_kgday'\n",
    "merged_df = merged_df.drop(columns=['StreamDirectTN_kgday', 'StreamDirectTP_kgday'])\n",
    "\n",
    "# save the merged DataFrame to a CSV file\n",
    "output_file = os.path.join(out_path, 'initial_positions_NP.csv')\n",
    "merged_df.to_csv(output_file,index=False)"
   ]
  },
  {
   "cell_type": "markdown",
   "id": "f017b946",
   "metadata": {},
   "source": [
    "# Addin this to Pylag Out puts"
   ]
  },
  {
   "cell_type": "code",
   "execution_count": 19,
   "id": "749b8918",
   "metadata": {},
   "outputs": [],
   "source": [
    "# Define the function to sort the files based on the time\n",
    "def sort_key(file):\n",
    "    filename = os.path.basename(file)\n",
    "    try:\n",
    "        # Extract the number after the double underscores and before the `.nc` extension\n",
    "        number = int(filename.split('_')[-1].split('.')[0])\n",
    "        return number\n",
    "    except (IndexError, ValueError):\n",
    "        # Handle filenames that do not match the pattern by returning a high number to place them last\n",
    "        return float('inf')"
   ]
  },
  {
   "cell_type": "code",
   "execution_count": 20,
   "id": "c9891523",
   "metadata": {},
   "outputs": [],
   "source": [
    "# Set the directory of the FVCOM model outputs\n",
    "FVCOM_dir = '/home/abolmaal/modelling/FVCOM/Huron/output'\n",
    "# read the updated NetCDF file\n",
    "updated_files = glob.glob(FVCOM_dir + \"/updated_FVCOM_Huron_2323_*.nc\")\n",
    "updated_files.sort(key=sort_key)"
   ]
  },
  {
   "cell_type": "code",
   "execution_count": null,
   "id": "d2c4acdb",
   "metadata": {},
   "outputs": [],
   "source": [
    "ds = xr.open_dataset(updated_files[0])\n",
    "# Convert the NetCDF 'time' variable to pandas datetime format\n",
    "time_vals = pd.to_datetime(ds['time'].values)\n",
    "df_time = pd.DataFrame({'time': time_vals})\n",
    "# Extract string-format date and compute unique day counts per month\n",
    "df_time['date'] = df_time['time'].dt.strftime('%Y-%m-%d')\n",
    "df_time['month'] = df_time['time'].dt.to_period('M')\n",
    "unique_days_per_month = df_time.groupby('month')['date'].nunique().reset_index()\n",
    "# Total number of unique days in the file (used in mass calculation)\n",
    "total_days = unique_days_per_month['date'].sum()"
   ]
  },
  {
   "cell_type": "code",
   "execution_count": null,
   "id": "5837dc47",
   "metadata": {},
   "outputs": [],
   "source": [
    "ds"
   ]
  },
  {
   "cell_type": "code",
   "execution_count": null,
   "id": "1e964ee4",
   "metadata": {},
   "outputs": [],
   "source": [
    "print(f\"Total number of unique days in the file: {total_days}\")"
   ]
  },
  {
   "cell_type": "markdown",
   "id": "0bd7e526",
   "metadata": {},
   "source": [
    "# Adding TN and TP tp particle tracking outputs "
   ]
  },
  {
   "cell_type": "markdown",
   "id": "7d045153",
   "metadata": {},
   "source": [
    "✅ Remarks:\n",
    "\n",
    "This function allows you to assign nutrient loads from stream watersheds to individual particles, ensuring that:\n",
    "\n",
    "The load is divided fairly across the number of particles for each group.\n",
    "\n",
    "The final output includes TN/TP flux and mass per particle.\n",
    "\n",
    "The file is updated and saved with new nutrient tracking fields."
   ]
  },
  {
   "cell_type": "code",
   "execution_count": 23,
   "id": "a81a9a50",
   "metadata": {},
   "outputs": [],
   "source": [
    "def update_nc_with_mass_flux(nc_file, merge_df, output_path):\n",
    "    \"\"\"\n",
    "    Processes a single NetCDF particle tracking file:\n",
    "    - Reads the file and extracts 'group_id' and 'particle_id'\n",
    "    - Merges TN and TP load data per 'group_id' from `merge_df`\n",
    "    - Assigns the same group-level values directly to each particle\n",
    "    - Saves the updated NetCDF file with 'StreamTN_kgdayparticle' and 'StreamTP_kgdayparticle'\n",
    "      (drops group-level columns before saving)\n",
    "    \"\"\"\n",
    "\n",
    "    # Load the NetCDF file\n",
    "    ds = xr.open_dataset(nc_file)\n",
    "\n",
    "    # Convert time to datetime and count unique days\n",
    "    time_vals = pd.to_datetime(ds['time'].values)\n",
    "    unique_days = pd.to_datetime(time_vals).normalize().nunique()\n",
    "\n",
    "    # Convert NetCDF to DataFrame\n",
    "    df = ds[['group_id', 'particle_id']].to_dataframe().reset_index()\n",
    "\n",
    "    # Merge in nutrient flux values\n",
    "    flux_subset = merge_df[['group_id', 'StreamDirectTN_gramday', 'StreamDirectTP_gramday']].drop_duplicates()\n",
    "    df = df.merge(flux_subset, on='group_id', how='inner')\n",
    "\n",
    "    # Assign values directly (no division)\n",
    "    df['StreamTN_gramdayparticle'] = df['StreamDirectTN_gramday']\n",
    "    df['StreamTP_gramdayparticle'] = df['StreamDirectTP_gramday']\n",
    "\n",
    "    # Sanity check\n",
    "    assert len(df) == ds.sizes['particles'], \"Mismatch between particle count in NetCDF and DataFrame.\"\n",
    "\n",
    "    # Add only the per-particle values\n",
    "    ds['StreamTN_gramdayparticle'] = (('particles'), df['StreamTN_gramdayparticle'].values)\n",
    "    ds['StreamTP_gramdayparticle'] = (('particles'), df['StreamTP_gramdayparticle'].values)\n",
    "\n",
    "    # Drop group-level columns before saving\n",
    "    for var in ['StreamDirectTN_gramday', 'StreamDirectTP_gramday']:\n",
    "        if var in ds.variables:\n",
    "            ds = ds.drop_vars(var)\n",
    "\n",
    "    # Save output\n",
    "    filename = os.path.basename(nc_file)\n",
    "    updated_file = os.path.join(output_path, f\"particleload_{filename}\")\n",
    "    ds.to_netcdf(updated_file)\n",
    "    print(f\"✅ File saved: {updated_file}\")"
   ]
  },
  {
   "cell_type": "code",
   "execution_count": 24,
   "id": "fa3b750f",
   "metadata": {},
   "outputs": [
    {
     "name": "stdout",
     "output_type": "stream",
     "text": [
      "✅ File saved: /home/abolmaal/modelling/FVCOM/Huron/output/particleload_updated_FVCOM_Huron_2323_JanFeb_1.nc\n",
      "✅ File saved: /home/abolmaal/modelling/FVCOM/Huron/output/particleload_updated_FVCOM_Huron_2323_FebMar_2.nc\n",
      "✅ File saved: /home/abolmaal/modelling/FVCOM/Huron/output/particleload_updated_FVCOM_Huron_2323_MarApr_3.nc\n",
      "✅ File saved: /home/abolmaal/modelling/FVCOM/Huron/output/particleload_updated_FVCOM_Huron_2323_AprMay_4.nc\n",
      "✅ File saved: /home/abolmaal/modelling/FVCOM/Huron/output/particleload_updated_FVCOM_Huron_2323_MayJun_5.nc\n",
      "✅ File saved: /home/abolmaal/modelling/FVCOM/Huron/output/particleload_updated_FVCOM_Huron_2323_JunJul_6.nc\n",
      "✅ File saved: /home/abolmaal/modelling/FVCOM/Huron/output/particleload_updated_FVCOM_Huron_2323_JulAug_7.nc\n",
      "✅ File saved: /home/abolmaal/modelling/FVCOM/Huron/output/particleload_updated_FVCOM_Huron_2323_AugSep_8.nc\n",
      "✅ File saved: /home/abolmaal/modelling/FVCOM/Huron/output/particleload_updated_FVCOM_Huron_2323_SepOct_9.nc\n",
      "✅ File saved: /home/abolmaal/modelling/FVCOM/Huron/output/particleload_updated_FVCOM_Huron_2323_OctNov_10.nc\n",
      "✅ File saved: /home/abolmaal/modelling/FVCOM/Huron/output/particleload_updated_FVCOM_Huron_2323_NovDec_11.nc\n",
      "✅ File saved: /home/abolmaal/modelling/FVCOM/Huron/output/particleload_updated_FVCOM_Huron_2323_DecJan_12.nc\n"
     ]
    }
   ],
   "source": [
    "for nc in updated_files:  # list of your NetCDF files\n",
    "    update_nc_with_mass_flux(nc, merged_df, FVCOM_dir)"
   ]
  },
  {
   "cell_type": "code",
   "execution_count": 25,
   "id": "8631ad52",
   "metadata": {},
   "outputs": [],
   "source": [
    "mass_updated = glob.glob(FVCOM_dir + \"/particleload_updated_FVCOM_Huron_2323_*.nc\")\n",
    "mass_updated.sort(key=sort_key)\n"
   ]
  },
  {
   "cell_type": "code",
   "execution_count": 26,
   "id": "30780c27",
   "metadata": {},
   "outputs": [],
   "source": [
    "# Open the dataset\n",
    "ds = xr.open_dataset(mass_updated[0])"
   ]
  },
  {
   "cell_type": "code",
   "execution_count": 27,
   "id": "8f877dcb",
   "metadata": {},
   "outputs": [
    {
     "data": {
      "text/html": [
       "<div><svg style=\"position: absolute; width: 0; height: 0; overflow: hidden\">\n",
       "<defs>\n",
       "<symbol id=\"icon-database\" viewBox=\"0 0 32 32\">\n",
       "<path d=\"M16 0c-8.837 0-16 2.239-16 5v4c0 2.761 7.163 5 16 5s16-2.239 16-5v-4c0-2.761-7.163-5-16-5z\"></path>\n",
       "<path d=\"M16 17c-8.837 0-16-2.239-16-5v6c0 2.761 7.163 5 16 5s16-2.239 16-5v-6c0 2.761-7.163 5-16 5z\"></path>\n",
       "<path d=\"M16 26c-8.837 0-16-2.239-16-5v6c0 2.761 7.163 5 16 5s16-2.239 16-5v-6c0 2.761-7.163 5-16 5z\"></path>\n",
       "</symbol>\n",
       "<symbol id=\"icon-file-text2\" viewBox=\"0 0 32 32\">\n",
       "<path d=\"M28.681 7.159c-0.694-0.947-1.662-2.053-2.724-3.116s-2.169-2.030-3.116-2.724c-1.612-1.182-2.393-1.319-2.841-1.319h-15.5c-1.378 0-2.5 1.121-2.5 2.5v27c0 1.378 1.122 2.5 2.5 2.5h23c1.378 0 2.5-1.122 2.5-2.5v-19.5c0-0.448-0.137-1.23-1.319-2.841zM24.543 5.457c0.959 0.959 1.712 1.825 2.268 2.543h-4.811v-4.811c0.718 0.556 1.584 1.309 2.543 2.268zM28 29.5c0 0.271-0.229 0.5-0.5 0.5h-23c-0.271 0-0.5-0.229-0.5-0.5v-27c0-0.271 0.229-0.5 0.5-0.5 0 0 15.499-0 15.5 0v7c0 0.552 0.448 1 1 1h7v19.5z\"></path>\n",
       "<path d=\"M23 26h-14c-0.552 0-1-0.448-1-1s0.448-1 1-1h14c0.552 0 1 0.448 1 1s-0.448 1-1 1z\"></path>\n",
       "<path d=\"M23 22h-14c-0.552 0-1-0.448-1-1s0.448-1 1-1h14c0.552 0 1 0.448 1 1s-0.448 1-1 1z\"></path>\n",
       "<path d=\"M23 18h-14c-0.552 0-1-0.448-1-1s0.448-1 1-1h14c0.552 0 1 0.448 1 1s-0.448 1-1 1z\"></path>\n",
       "</symbol>\n",
       "</defs>\n",
       "</svg>\n",
       "<style>/* CSS stylesheet for displaying xarray objects in jupyterlab.\n",
       " *\n",
       " */\n",
       "\n",
       ":root {\n",
       "  --xr-font-color0: var(--jp-content-font-color0, rgba(0, 0, 0, 1));\n",
       "  --xr-font-color2: var(--jp-content-font-color2, rgba(0, 0, 0, 0.54));\n",
       "  --xr-font-color3: var(--jp-content-font-color3, rgba(0, 0, 0, 0.38));\n",
       "  --xr-border-color: var(--jp-border-color2, #e0e0e0);\n",
       "  --xr-disabled-color: var(--jp-layout-color3, #bdbdbd);\n",
       "  --xr-background-color: var(--jp-layout-color0, white);\n",
       "  --xr-background-color-row-even: var(--jp-layout-color1, white);\n",
       "  --xr-background-color-row-odd: var(--jp-layout-color2, #eeeeee);\n",
       "}\n",
       "\n",
       "html[theme=\"dark\"],\n",
       "html[data-theme=\"dark\"],\n",
       "body[data-theme=\"dark\"],\n",
       "body.vscode-dark {\n",
       "  --xr-font-color0: rgba(255, 255, 255, 1);\n",
       "  --xr-font-color2: rgba(255, 255, 255, 0.54);\n",
       "  --xr-font-color3: rgba(255, 255, 255, 0.38);\n",
       "  --xr-border-color: #1f1f1f;\n",
       "  --xr-disabled-color: #515151;\n",
       "  --xr-background-color: #111111;\n",
       "  --xr-background-color-row-even: #111111;\n",
       "  --xr-background-color-row-odd: #313131;\n",
       "}\n",
       "\n",
       ".xr-wrap {\n",
       "  display: block !important;\n",
       "  min-width: 300px;\n",
       "  max-width: 700px;\n",
       "}\n",
       "\n",
       ".xr-text-repr-fallback {\n",
       "  /* fallback to plain text repr when CSS is not injected (untrusted notebook) */\n",
       "  display: none;\n",
       "}\n",
       "\n",
       ".xr-header {\n",
       "  padding-top: 6px;\n",
       "  padding-bottom: 6px;\n",
       "  margin-bottom: 4px;\n",
       "  border-bottom: solid 1px var(--xr-border-color);\n",
       "}\n",
       "\n",
       ".xr-header > div,\n",
       ".xr-header > ul {\n",
       "  display: inline;\n",
       "  margin-top: 0;\n",
       "  margin-bottom: 0;\n",
       "}\n",
       "\n",
       ".xr-obj-type,\n",
       ".xr-array-name {\n",
       "  margin-left: 2px;\n",
       "  margin-right: 10px;\n",
       "}\n",
       "\n",
       ".xr-obj-type {\n",
       "  color: var(--xr-font-color2);\n",
       "}\n",
       "\n",
       ".xr-sections {\n",
       "  padding-left: 0 !important;\n",
       "  display: grid;\n",
       "  grid-template-columns: 150px auto auto 1fr 0 20px 0 20px;\n",
       "}\n",
       "\n",
       ".xr-section-item {\n",
       "  display: contents;\n",
       "}\n",
       "\n",
       ".xr-section-item input {\n",
       "  display: inline-block;\n",
       "  opacity: 0;\n",
       "  height: 0;\n",
       "}\n",
       "\n",
       ".xr-section-item input + label {\n",
       "  color: var(--xr-disabled-color);\n",
       "}\n",
       "\n",
       ".xr-section-item input:enabled + label {\n",
       "  cursor: pointer;\n",
       "  color: var(--xr-font-color2);\n",
       "}\n",
       "\n",
       ".xr-section-item input:focus + label {\n",
       "  border: 2px solid var(--xr-font-color0);\n",
       "}\n",
       "\n",
       ".xr-section-item input:enabled + label:hover {\n",
       "  color: var(--xr-font-color0);\n",
       "}\n",
       "\n",
       ".xr-section-summary {\n",
       "  grid-column: 1;\n",
       "  color: var(--xr-font-color2);\n",
       "  font-weight: 500;\n",
       "}\n",
       "\n",
       ".xr-section-summary > span {\n",
       "  display: inline-block;\n",
       "  padding-left: 0.5em;\n",
       "}\n",
       "\n",
       ".xr-section-summary-in:disabled + label {\n",
       "  color: var(--xr-font-color2);\n",
       "}\n",
       "\n",
       ".xr-section-summary-in + label:before {\n",
       "  display: inline-block;\n",
       "  content: \"►\";\n",
       "  font-size: 11px;\n",
       "  width: 15px;\n",
       "  text-align: center;\n",
       "}\n",
       "\n",
       ".xr-section-summary-in:disabled + label:before {\n",
       "  color: var(--xr-disabled-color);\n",
       "}\n",
       "\n",
       ".xr-section-summary-in:checked + label:before {\n",
       "  content: \"▼\";\n",
       "}\n",
       "\n",
       ".xr-section-summary-in:checked + label > span {\n",
       "  display: none;\n",
       "}\n",
       "\n",
       ".xr-section-summary,\n",
       ".xr-section-inline-details {\n",
       "  padding-top: 4px;\n",
       "  padding-bottom: 4px;\n",
       "}\n",
       "\n",
       ".xr-section-inline-details {\n",
       "  grid-column: 2 / -1;\n",
       "}\n",
       "\n",
       ".xr-section-details {\n",
       "  display: none;\n",
       "  grid-column: 1 / -1;\n",
       "  margin-bottom: 5px;\n",
       "}\n",
       "\n",
       ".xr-section-summary-in:checked ~ .xr-section-details {\n",
       "  display: contents;\n",
       "}\n",
       "\n",
       ".xr-array-wrap {\n",
       "  grid-column: 1 / -1;\n",
       "  display: grid;\n",
       "  grid-template-columns: 20px auto;\n",
       "}\n",
       "\n",
       ".xr-array-wrap > label {\n",
       "  grid-column: 1;\n",
       "  vertical-align: top;\n",
       "}\n",
       "\n",
       ".xr-preview {\n",
       "  color: var(--xr-font-color3);\n",
       "}\n",
       "\n",
       ".xr-array-preview,\n",
       ".xr-array-data {\n",
       "  padding: 0 5px !important;\n",
       "  grid-column: 2;\n",
       "}\n",
       "\n",
       ".xr-array-data,\n",
       ".xr-array-in:checked ~ .xr-array-preview {\n",
       "  display: none;\n",
       "}\n",
       "\n",
       ".xr-array-in:checked ~ .xr-array-data,\n",
       ".xr-array-preview {\n",
       "  display: inline-block;\n",
       "}\n",
       "\n",
       ".xr-dim-list {\n",
       "  display: inline-block !important;\n",
       "  list-style: none;\n",
       "  padding: 0 !important;\n",
       "  margin: 0;\n",
       "}\n",
       "\n",
       ".xr-dim-list li {\n",
       "  display: inline-block;\n",
       "  padding: 0;\n",
       "  margin: 0;\n",
       "}\n",
       "\n",
       ".xr-dim-list:before {\n",
       "  content: \"(\";\n",
       "}\n",
       "\n",
       ".xr-dim-list:after {\n",
       "  content: \")\";\n",
       "}\n",
       "\n",
       ".xr-dim-list li:not(:last-child):after {\n",
       "  content: \",\";\n",
       "  padding-right: 5px;\n",
       "}\n",
       "\n",
       ".xr-has-index {\n",
       "  font-weight: bold;\n",
       "}\n",
       "\n",
       ".xr-var-list,\n",
       ".xr-var-item {\n",
       "  display: contents;\n",
       "}\n",
       "\n",
       ".xr-var-item > div,\n",
       ".xr-var-item label,\n",
       ".xr-var-item > .xr-var-name span {\n",
       "  background-color: var(--xr-background-color-row-even);\n",
       "  margin-bottom: 0;\n",
       "}\n",
       "\n",
       ".xr-var-item > .xr-var-name:hover span {\n",
       "  padding-right: 5px;\n",
       "}\n",
       "\n",
       ".xr-var-list > li:nth-child(odd) > div,\n",
       ".xr-var-list > li:nth-child(odd) > label,\n",
       ".xr-var-list > li:nth-child(odd) > .xr-var-name span {\n",
       "  background-color: var(--xr-background-color-row-odd);\n",
       "}\n",
       "\n",
       ".xr-var-name {\n",
       "  grid-column: 1;\n",
       "}\n",
       "\n",
       ".xr-var-dims {\n",
       "  grid-column: 2;\n",
       "}\n",
       "\n",
       ".xr-var-dtype {\n",
       "  grid-column: 3;\n",
       "  text-align: right;\n",
       "  color: var(--xr-font-color2);\n",
       "}\n",
       "\n",
       ".xr-var-preview {\n",
       "  grid-column: 4;\n",
       "}\n",
       "\n",
       ".xr-index-preview {\n",
       "  grid-column: 2 / 5;\n",
       "  color: var(--xr-font-color2);\n",
       "}\n",
       "\n",
       ".xr-var-name,\n",
       ".xr-var-dims,\n",
       ".xr-var-dtype,\n",
       ".xr-preview,\n",
       ".xr-attrs dt {\n",
       "  white-space: nowrap;\n",
       "  overflow: hidden;\n",
       "  text-overflow: ellipsis;\n",
       "  padding-right: 10px;\n",
       "}\n",
       "\n",
       ".xr-var-name:hover,\n",
       ".xr-var-dims:hover,\n",
       ".xr-var-dtype:hover,\n",
       ".xr-attrs dt:hover {\n",
       "  overflow: visible;\n",
       "  width: auto;\n",
       "  z-index: 1;\n",
       "}\n",
       "\n",
       ".xr-var-attrs,\n",
       ".xr-var-data,\n",
       ".xr-index-data {\n",
       "  display: none;\n",
       "  background-color: var(--xr-background-color) !important;\n",
       "  padding-bottom: 5px !important;\n",
       "}\n",
       "\n",
       ".xr-var-attrs-in:checked ~ .xr-var-attrs,\n",
       ".xr-var-data-in:checked ~ .xr-var-data,\n",
       ".xr-index-data-in:checked ~ .xr-index-data {\n",
       "  display: block;\n",
       "}\n",
       "\n",
       ".xr-var-data > table {\n",
       "  float: right;\n",
       "}\n",
       "\n",
       ".xr-var-name span,\n",
       ".xr-var-data,\n",
       ".xr-index-name div,\n",
       ".xr-index-data,\n",
       ".xr-attrs {\n",
       "  padding-left: 25px !important;\n",
       "}\n",
       "\n",
       ".xr-attrs,\n",
       ".xr-var-attrs,\n",
       ".xr-var-data,\n",
       ".xr-index-data {\n",
       "  grid-column: 1 / -1;\n",
       "}\n",
       "\n",
       "dl.xr-attrs {\n",
       "  padding: 0;\n",
       "  margin: 0;\n",
       "  display: grid;\n",
       "  grid-template-columns: 125px auto;\n",
       "}\n",
       "\n",
       ".xr-attrs dt,\n",
       ".xr-attrs dd {\n",
       "  padding: 0;\n",
       "  margin: 0;\n",
       "  float: left;\n",
       "  padding-right: 10px;\n",
       "  width: auto;\n",
       "}\n",
       "\n",
       ".xr-attrs dt {\n",
       "  font-weight: normal;\n",
       "  grid-column: 1;\n",
       "}\n",
       "\n",
       ".xr-attrs dt:hover span {\n",
       "  display: inline-block;\n",
       "  background: var(--xr-background-color);\n",
       "  padding-right: 10px;\n",
       "}\n",
       "\n",
       ".xr-attrs dd {\n",
       "  grid-column: 2;\n",
       "  white-space: pre-wrap;\n",
       "  word-break: break-all;\n",
       "}\n",
       "\n",
       ".xr-icon-database,\n",
       ".xr-icon-file-text2,\n",
       ".xr-no-icon {\n",
       "  display: inline-block;\n",
       "  vertical-align: middle;\n",
       "  width: 1em;\n",
       "  height: 1.5em !important;\n",
       "  stroke-width: 0;\n",
       "  stroke: currentColor;\n",
       "  fill: currentColor;\n",
       "}\n",
       "</style><pre class='xr-text-repr-fallback'>&lt;xarray.Dataset&gt; Size: 82MB\n",
       "Dimensions:                   (time: 237, particles: 8550)\n",
       "Coordinates:\n",
       "  * time                      (time) datetime64[ns] 2kB 2023-01-01 ... 2023-0...\n",
       "Dimensions without coordinates: particles\n",
       "Data variables: (12/14)\n",
       "    group_id                  (particles) int32 34kB ...\n",
       "    longitude                 (time, particles) float32 8MB ...\n",
       "    latitude                  (time, particles) float32 8MB ...\n",
       "    depth                     (time, particles) float32 8MB ...\n",
       "    host_fvcom                (time, particles) int32 8MB ...\n",
       "    error_status              (time, particles) int32 8MB ...\n",
       "    ...                        ...\n",
       "    land_boundary_encounters  (time, particles) int32 8MB ...\n",
       "    thetao                    (time, particles) float32 8MB ...\n",
       "    so                        (time, particles) float32 8MB ...\n",
       "    particle_id               (particles) &lt;U9 308kB ...\n",
       "    StreamTN_gramdayparticle  (particles) float64 68kB ...\n",
       "    StreamTP_gramdayparticle  (particles) float64 68kB ...\n",
       "Attributes:\n",
       "    title:    PyLag -- Plymouth Marine Laboratory</pre><div class='xr-wrap' style='display:none'><div class='xr-header'><div class='xr-obj-type'>xarray.Dataset</div></div><ul class='xr-sections'><li class='xr-section-item'><input id='section-9e969966-eb4e-46ad-8deb-b20f05cce986' class='xr-section-summary-in' type='checkbox' disabled ><label for='section-9e969966-eb4e-46ad-8deb-b20f05cce986' class='xr-section-summary'  title='Expand/collapse section'>Dimensions:</label><div class='xr-section-inline-details'><ul class='xr-dim-list'><li><span class='xr-has-index'>time</span>: 237</li><li><span>particles</span>: 8550</li></ul></div><div class='xr-section-details'></div></li><li class='xr-section-item'><input id='section-f7315ed9-6dfd-4313-b9d5-98a2372d973b' class='xr-section-summary-in' type='checkbox'  checked><label for='section-f7315ed9-6dfd-4313-b9d5-98a2372d973b' class='xr-section-summary' >Coordinates: <span>(1)</span></label><div class='xr-section-inline-details'></div><div class='xr-section-details'><ul class='xr-var-list'><li class='xr-var-item'><div class='xr-var-name'><span class='xr-has-index'>time</span></div><div class='xr-var-dims'>(time)</div><div class='xr-var-dtype'>datetime64[ns]</div><div class='xr-var-preview xr-preview'>2023-01-01 ... 2023-03-01</div><input id='attrs-730866c0-589c-4a6d-b806-60a8166e49f7' class='xr-var-attrs-in' type='checkbox' ><label for='attrs-730866c0-589c-4a6d-b806-60a8166e49f7' title='Show/Hide attributes'><svg class='icon xr-icon-file-text2'><use xlink:href='#icon-file-text2'></use></svg></label><input id='data-970e094e-3ffb-4114-a0d5-64c31c215493' class='xr-var-data-in' type='checkbox'><label for='data-970e094e-3ffb-4114-a0d5-64c31c215493' title='Show/Hide data repr'><svg class='icon xr-icon-database'><use xlink:href='#icon-database'></use></svg></label><div class='xr-var-attrs'><dl class='xr-attrs'><dt><span>long_name :</span></dt><dd>Time</dd></dl></div><div class='xr-var-data'><pre>array([&#x27;2023-01-01T00:00:00.000000000&#x27;, &#x27;2023-01-01T06:00:00.000000000&#x27;,\n",
       "       &#x27;2023-01-01T12:00:00.000000000&#x27;, ..., &#x27;2023-02-28T12:00:00.000000000&#x27;,\n",
       "       &#x27;2023-02-28T18:00:00.000000000&#x27;, &#x27;2023-03-01T00:00:00.000000000&#x27;],\n",
       "      dtype=&#x27;datetime64[ns]&#x27;)</pre></div></li></ul></div></li><li class='xr-section-item'><input id='section-c1ee1427-80f6-43c2-b71e-988ad6e2a188' class='xr-section-summary-in' type='checkbox'  checked><label for='section-c1ee1427-80f6-43c2-b71e-988ad6e2a188' class='xr-section-summary' >Data variables: <span>(14)</span></label><div class='xr-section-inline-details'></div><div class='xr-section-details'><ul class='xr-var-list'><li class='xr-var-item'><div class='xr-var-name'><span>group_id</span></div><div class='xr-var-dims'>(particles)</div><div class='xr-var-dtype'>int32</div><div class='xr-var-preview xr-preview'>...</div><input id='attrs-a157dfb1-48a5-41d2-b683-973677021f3e' class='xr-var-attrs-in' type='checkbox' ><label for='attrs-a157dfb1-48a5-41d2-b683-973677021f3e' title='Show/Hide attributes'><svg class='icon xr-icon-file-text2'><use xlink:href='#icon-file-text2'></use></svg></label><input id='data-eeeff648-351f-44f5-99fd-1d0567e419d5' class='xr-var-data-in' type='checkbox'><label for='data-eeeff648-351f-44f5-99fd-1d0567e419d5' title='Show/Hide data repr'><svg class='icon xr-icon-database'><use xlink:href='#icon-database'></use></svg></label><div class='xr-var-attrs'><dl class='xr-attrs'><dt><span>long_name :</span></dt><dd>Particle group ID</dd></dl></div><div class='xr-var-data'><pre>[8550 values with dtype=int32]</pre></div></li><li class='xr-var-item'><div class='xr-var-name'><span>longitude</span></div><div class='xr-var-dims'>(time, particles)</div><div class='xr-var-dtype'>float32</div><div class='xr-var-preview xr-preview'>...</div><input id='attrs-7f896b71-1f53-40c9-a49b-204dcbd05644' class='xr-var-attrs-in' type='checkbox' ><label for='attrs-7f896b71-1f53-40c9-a49b-204dcbd05644' title='Show/Hide attributes'><svg class='icon xr-icon-file-text2'><use xlink:href='#icon-file-text2'></use></svg></label><input id='data-34618af6-08a5-41d3-aa6d-bdf80784aa5f' class='xr-var-data-in' type='checkbox'><label for='data-34618af6-08a5-41d3-aa6d-bdf80784aa5f' title='Show/Hide data repr'><svg class='icon xr-icon-database'><use xlink:href='#icon-database'></use></svg></label><div class='xr-var-attrs'><dl class='xr-attrs'><dt><span>units :</span></dt><dd>degrees_east</dd><dt><span>long_name :</span></dt><dd>longitude</dd></dl></div><div class='xr-var-data'><pre>[2026350 values with dtype=float32]</pre></div></li><li class='xr-var-item'><div class='xr-var-name'><span>latitude</span></div><div class='xr-var-dims'>(time, particles)</div><div class='xr-var-dtype'>float32</div><div class='xr-var-preview xr-preview'>...</div><input id='attrs-de6573a1-e38b-4a54-856e-761a392a0d89' class='xr-var-attrs-in' type='checkbox' ><label for='attrs-de6573a1-e38b-4a54-856e-761a392a0d89' title='Show/Hide attributes'><svg class='icon xr-icon-file-text2'><use xlink:href='#icon-file-text2'></use></svg></label><input id='data-61fc7b89-89c2-4d57-ba5e-812037be9fbe' class='xr-var-data-in' type='checkbox'><label for='data-61fc7b89-89c2-4d57-ba5e-812037be9fbe' title='Show/Hide data repr'><svg class='icon xr-icon-database'><use xlink:href='#icon-database'></use></svg></label><div class='xr-var-attrs'><dl class='xr-attrs'><dt><span>units :</span></dt><dd>degrees_north</dd><dt><span>long_name :</span></dt><dd>latitude</dd></dl></div><div class='xr-var-data'><pre>[2026350 values with dtype=float32]</pre></div></li><li class='xr-var-item'><div class='xr-var-name'><span>depth</span></div><div class='xr-var-dims'>(time, particles)</div><div class='xr-var-dtype'>float32</div><div class='xr-var-preview xr-preview'>...</div><input id='attrs-b7aa6a01-f452-4c2c-a215-4274cb1d16de' class='xr-var-attrs-in' type='checkbox' ><label for='attrs-b7aa6a01-f452-4c2c-a215-4274cb1d16de' title='Show/Hide attributes'><svg class='icon xr-icon-file-text2'><use xlink:href='#icon-file-text2'></use></svg></label><input id='data-44b2c222-e4f1-44dc-9366-ec50cb29e2a7' class='xr-var-data-in' type='checkbox'><label for='data-44b2c222-e4f1-44dc-9366-ec50cb29e2a7' title='Show/Hide data repr'><svg class='icon xr-icon-database'><use xlink:href='#icon-database'></use></svg></label><div class='xr-var-attrs'><dl class='xr-attrs'><dt><span>units :</span></dt><dd>m</dd><dt><span>long_name :</span></dt><dd>depth</dd></dl></div><div class='xr-var-data'><pre>[2026350 values with dtype=float32]</pre></div></li><li class='xr-var-item'><div class='xr-var-name'><span>host_fvcom</span></div><div class='xr-var-dims'>(time, particles)</div><div class='xr-var-dtype'>int32</div><div class='xr-var-preview xr-preview'>...</div><input id='attrs-641ebad9-ae25-4d32-a119-b7d68737cedd' class='xr-var-attrs-in' type='checkbox' ><label for='attrs-641ebad9-ae25-4d32-a119-b7d68737cedd' title='Show/Hide attributes'><svg class='icon xr-icon-file-text2'><use xlink:href='#icon-file-text2'></use></svg></label><input id='data-f8b5cf85-12c4-4082-bac5-457e61b0ff92' class='xr-var-data-in' type='checkbox'><label for='data-f8b5cf85-12c4-4082-bac5-457e61b0ff92' title='Show/Hide data repr'><svg class='icon xr-icon-database'><use xlink:href='#icon-database'></use></svg></label><div class='xr-var-attrs'><dl class='xr-attrs'><dt><span>units :</span></dt><dd>None</dd><dt><span>long_name :</span></dt><dd>Host horizontal element on grid fvcom</dd><dt><span>invalid :</span></dt><dd>-999</dd></dl></div><div class='xr-var-data'><pre>[2026350 values with dtype=int32]</pre></div></li><li class='xr-var-item'><div class='xr-var-name'><span>error_status</span></div><div class='xr-var-dims'>(time, particles)</div><div class='xr-var-dtype'>int32</div><div class='xr-var-preview xr-preview'>...</div><input id='attrs-4346cc93-a8fc-46f8-9972-e34abfe6fa47' class='xr-var-attrs-in' type='checkbox' ><label for='attrs-4346cc93-a8fc-46f8-9972-e34abfe6fa47' title='Show/Hide attributes'><svg class='icon xr-icon-file-text2'><use xlink:href='#icon-file-text2'></use></svg></label><input id='data-32d12334-c5cc-4fdf-898e-2a3fb1c4fdd7' class='xr-var-data-in' type='checkbox'><label for='data-32d12334-c5cc-4fdf-898e-2a3fb1c4fdd7' title='Show/Hide data repr'><svg class='icon xr-icon-database'><use xlink:href='#icon-database'></use></svg></label><div class='xr-var-attrs'><dl class='xr-attrs'><dt><span>units :</span></dt><dd>None</dd><dt><span>long_name :</span></dt><dd>Status flag (1 - error state; 0 - ok)</dd></dl></div><div class='xr-var-data'><pre>[2026350 values with dtype=int32]</pre></div></li><li class='xr-var-item'><div class='xr-var-name'><span>in_domain</span></div><div class='xr-var-dims'>(time, particles)</div><div class='xr-var-dtype'>int32</div><div class='xr-var-preview xr-preview'>...</div><input id='attrs-39d56241-ca08-4080-b55c-14ffc5f17a50' class='xr-var-attrs-in' type='checkbox' ><label for='attrs-39d56241-ca08-4080-b55c-14ffc5f17a50' title='Show/Hide attributes'><svg class='icon xr-icon-file-text2'><use xlink:href='#icon-file-text2'></use></svg></label><input id='data-ed937610-5c2f-4493-bfba-b41bb4e86d08' class='xr-var-data-in' type='checkbox'><label for='data-ed937610-5c2f-4493-bfba-b41bb4e86d08' title='Show/Hide data repr'><svg class='icon xr-icon-database'><use xlink:href='#icon-database'></use></svg></label><div class='xr-var-attrs'><dl class='xr-attrs'><dt><span>units :</span></dt><dd>None</dd><dt><span>long_name :</span></dt><dd>In domain flag (1 - yes; 0 - no)</dd></dl></div><div class='xr-var-data'><pre>[2026350 values with dtype=int32]</pre></div></li><li class='xr-var-item'><div class='xr-var-name'><span>is_beached</span></div><div class='xr-var-dims'>(time, particles)</div><div class='xr-var-dtype'>int32</div><div class='xr-var-preview xr-preview'>...</div><input id='attrs-a0dabc4b-5afb-44cb-af97-5b81431ddcfe' class='xr-var-attrs-in' type='checkbox' ><label for='attrs-a0dabc4b-5afb-44cb-af97-5b81431ddcfe' title='Show/Hide attributes'><svg class='icon xr-icon-file-text2'><use xlink:href='#icon-file-text2'></use></svg></label><input id='data-aee76e51-ae0e-4691-81cb-997109f637f0' class='xr-var-data-in' type='checkbox'><label for='data-aee76e51-ae0e-4691-81cb-997109f637f0' title='Show/Hide data repr'><svg class='icon xr-icon-database'><use xlink:href='#icon-database'></use></svg></label><div class='xr-var-attrs'><dl class='xr-attrs'><dt><span>units :</span></dt><dd>None</dd><dt><span>long_name :</span></dt><dd>Is beached (1 - yes; 0 - no)</dd></dl></div><div class='xr-var-data'><pre>[2026350 values with dtype=int32]</pre></div></li><li class='xr-var-item'><div class='xr-var-name'><span>land_boundary_encounters</span></div><div class='xr-var-dims'>(time, particles)</div><div class='xr-var-dtype'>int32</div><div class='xr-var-preview xr-preview'>...</div><input id='attrs-49fcba20-2d91-4e76-8366-05599c278550' class='xr-var-attrs-in' type='checkbox' ><label for='attrs-49fcba20-2d91-4e76-8366-05599c278550' title='Show/Hide attributes'><svg class='icon xr-icon-file-text2'><use xlink:href='#icon-file-text2'></use></svg></label><input id='data-a5e1f394-932f-449e-a961-0b2ea59ab281' class='xr-var-data-in' type='checkbox'><label for='data-a5e1f394-932f-449e-a961-0b2ea59ab281' title='Show/Hide data repr'><svg class='icon xr-icon-database'><use xlink:href='#icon-database'></use></svg></label><div class='xr-var-attrs'><dl class='xr-attrs'><dt><span>units :</span></dt><dd>None</dd><dt><span>long_name :</span></dt><dd>Number of land boundary encounters</dd></dl></div><div class='xr-var-data'><pre>[2026350 values with dtype=int32]</pre></div></li><li class='xr-var-item'><div class='xr-var-name'><span>thetao</span></div><div class='xr-var-dims'>(time, particles)</div><div class='xr-var-dtype'>float32</div><div class='xr-var-preview xr-preview'>...</div><input id='attrs-007a3eed-97de-428f-9319-2a7796e048a9' class='xr-var-attrs-in' type='checkbox' ><label for='attrs-007a3eed-97de-428f-9319-2a7796e048a9' title='Show/Hide attributes'><svg class='icon xr-icon-file-text2'><use xlink:href='#icon-file-text2'></use></svg></label><input id='data-673f394b-e47d-4c15-8308-7e7984736085' class='xr-var-data-in' type='checkbox'><label for='data-673f394b-e47d-4c15-8308-7e7984736085' title='Show/Hide data repr'><svg class='icon xr-icon-database'><use xlink:href='#icon-database'></use></svg></label><div class='xr-var-attrs'><dl class='xr-attrs'><dt><span>units :</span></dt><dd>degC</dd><dt><span>long_name :</span></dt><dd>Sea Water Potential Temperature</dd><dt><span>invalid :</span></dt><dd>1e+20</dd></dl></div><div class='xr-var-data'><pre>[2026350 values with dtype=float32]</pre></div></li><li class='xr-var-item'><div class='xr-var-name'><span>so</span></div><div class='xr-var-dims'>(time, particles)</div><div class='xr-var-dtype'>float32</div><div class='xr-var-preview xr-preview'>...</div><input id='attrs-98f64587-6202-4634-abd6-a04e15d4ba0b' class='xr-var-attrs-in' type='checkbox' ><label for='attrs-98f64587-6202-4634-abd6-a04e15d4ba0b' title='Show/Hide attributes'><svg class='icon xr-icon-file-text2'><use xlink:href='#icon-file-text2'></use></svg></label><input id='data-991ff009-9d64-4f5e-a995-f4fada226536' class='xr-var-data-in' type='checkbox'><label for='data-991ff009-9d64-4f5e-a995-f4fada226536' title='Show/Hide data repr'><svg class='icon xr-icon-database'><use xlink:href='#icon-database'></use></svg></label><div class='xr-var-attrs'><dl class='xr-attrs'><dt><span>units :</span></dt><dd>psu</dd><dt><span>long_name :</span></dt><dd>Sea Water Salinity</dd><dt><span>invalid :</span></dt><dd>1e+20</dd></dl></div><div class='xr-var-data'><pre>[2026350 values with dtype=float32]</pre></div></li><li class='xr-var-item'><div class='xr-var-name'><span>particle_id</span></div><div class='xr-var-dims'>(particles)</div><div class='xr-var-dtype'>&lt;U9</div><div class='xr-var-preview xr-preview'>...</div><input id='attrs-f2a14232-12dc-43ae-94b0-343e284ff007' class='xr-var-attrs-in' type='checkbox' disabled><label for='attrs-f2a14232-12dc-43ae-94b0-343e284ff007' title='Show/Hide attributes'><svg class='icon xr-icon-file-text2'><use xlink:href='#icon-file-text2'></use></svg></label><input id='data-6b9eab2e-8475-4009-815d-a2d116f05ed7' class='xr-var-data-in' type='checkbox'><label for='data-6b9eab2e-8475-4009-815d-a2d116f05ed7' title='Show/Hide data repr'><svg class='icon xr-icon-database'><use xlink:href='#icon-database'></use></svg></label><div class='xr-var-attrs'><dl class='xr-attrs'></dl></div><div class='xr-var-data'><pre>[8550 values with dtype=&lt;U9]</pre></div></li><li class='xr-var-item'><div class='xr-var-name'><span>StreamTN_gramdayparticle</span></div><div class='xr-var-dims'>(particles)</div><div class='xr-var-dtype'>float64</div><div class='xr-var-preview xr-preview'>...</div><input id='attrs-290798e5-a6a8-4c72-bc4d-b79147254100' class='xr-var-attrs-in' type='checkbox' disabled><label for='attrs-290798e5-a6a8-4c72-bc4d-b79147254100' title='Show/Hide attributes'><svg class='icon xr-icon-file-text2'><use xlink:href='#icon-file-text2'></use></svg></label><input id='data-45f75968-b2ee-473b-9fe5-e49c7c3bcdc9' class='xr-var-data-in' type='checkbox'><label for='data-45f75968-b2ee-473b-9fe5-e49c7c3bcdc9' title='Show/Hide data repr'><svg class='icon xr-icon-database'><use xlink:href='#icon-database'></use></svg></label><div class='xr-var-attrs'><dl class='xr-attrs'></dl></div><div class='xr-var-data'><pre>[8550 values with dtype=float64]</pre></div></li><li class='xr-var-item'><div class='xr-var-name'><span>StreamTP_gramdayparticle</span></div><div class='xr-var-dims'>(particles)</div><div class='xr-var-dtype'>float64</div><div class='xr-var-preview xr-preview'>...</div><input id='attrs-762240ce-4c01-4f11-8015-ba54c8e0afe4' class='xr-var-attrs-in' type='checkbox' disabled><label for='attrs-762240ce-4c01-4f11-8015-ba54c8e0afe4' title='Show/Hide attributes'><svg class='icon xr-icon-file-text2'><use xlink:href='#icon-file-text2'></use></svg></label><input id='data-0f423d38-9516-4a6e-b1a6-5a824d255cfa' class='xr-var-data-in' type='checkbox'><label for='data-0f423d38-9516-4a6e-b1a6-5a824d255cfa' title='Show/Hide data repr'><svg class='icon xr-icon-database'><use xlink:href='#icon-database'></use></svg></label><div class='xr-var-attrs'><dl class='xr-attrs'></dl></div><div class='xr-var-data'><pre>[8550 values with dtype=float64]</pre></div></li></ul></div></li><li class='xr-section-item'><input id='section-addd0324-4e51-4ab2-9e19-416430b15c6f' class='xr-section-summary-in' type='checkbox'  ><label for='section-addd0324-4e51-4ab2-9e19-416430b15c6f' class='xr-section-summary' >Indexes: <span>(1)</span></label><div class='xr-section-inline-details'></div><div class='xr-section-details'><ul class='xr-var-list'><li class='xr-var-item'><div class='xr-index-name'><div>time</div></div><div class='xr-index-preview'>PandasIndex</div><input type='checkbox' disabled/><label></label><input id='index-a5141e16-8af4-4242-a4f2-384d57843c48' class='xr-index-data-in' type='checkbox'/><label for='index-a5141e16-8af4-4242-a4f2-384d57843c48' title='Show/Hide index repr'><svg class='icon xr-icon-database'><use xlink:href='#icon-database'></use></svg></label><div class='xr-index-data'><pre>PandasIndex(DatetimeIndex([&#x27;2023-01-01 00:00:00&#x27;, &#x27;2023-01-01 06:00:00&#x27;,\n",
       "               &#x27;2023-01-01 12:00:00&#x27;, &#x27;2023-01-01 18:00:00&#x27;,\n",
       "               &#x27;2023-01-02 00:00:00&#x27;, &#x27;2023-01-02 06:00:00&#x27;,\n",
       "               &#x27;2023-01-02 12:00:00&#x27;, &#x27;2023-01-02 18:00:00&#x27;,\n",
       "               &#x27;2023-01-03 00:00:00&#x27;, &#x27;2023-01-03 06:00:00&#x27;,\n",
       "               ...\n",
       "               &#x27;2023-02-26 18:00:00&#x27;, &#x27;2023-02-27 00:00:00&#x27;,\n",
       "               &#x27;2023-02-27 06:00:00&#x27;, &#x27;2023-02-27 12:00:00&#x27;,\n",
       "               &#x27;2023-02-27 18:00:00&#x27;, &#x27;2023-02-28 00:00:00&#x27;,\n",
       "               &#x27;2023-02-28 06:00:00&#x27;, &#x27;2023-02-28 12:00:00&#x27;,\n",
       "               &#x27;2023-02-28 18:00:00&#x27;, &#x27;2023-03-01 00:00:00&#x27;],\n",
       "              dtype=&#x27;datetime64[ns]&#x27;, name=&#x27;time&#x27;, length=237, freq=None))</pre></div></li></ul></div></li><li class='xr-section-item'><input id='section-0df5c864-c74c-4e42-8cbd-ca63b9aa9516' class='xr-section-summary-in' type='checkbox'  checked><label for='section-0df5c864-c74c-4e42-8cbd-ca63b9aa9516' class='xr-section-summary' >Attributes: <span>(1)</span></label><div class='xr-section-inline-details'></div><div class='xr-section-details'><dl class='xr-attrs'><dt><span>title :</span></dt><dd>PyLag -- Plymouth Marine Laboratory</dd></dl></div></li></ul></div></div>"
      ],
      "text/plain": [
       "<xarray.Dataset> Size: 82MB\n",
       "Dimensions:                   (time: 237, particles: 8550)\n",
       "Coordinates:\n",
       "  * time                      (time) datetime64[ns] 2kB 2023-01-01 ... 2023-0...\n",
       "Dimensions without coordinates: particles\n",
       "Data variables: (12/14)\n",
       "    group_id                  (particles) int32 34kB ...\n",
       "    longitude                 (time, particles) float32 8MB ...\n",
       "    latitude                  (time, particles) float32 8MB ...\n",
       "    depth                     (time, particles) float32 8MB ...\n",
       "    host_fvcom                (time, particles) int32 8MB ...\n",
       "    error_status              (time, particles) int32 8MB ...\n",
       "    ...                        ...\n",
       "    land_boundary_encounters  (time, particles) int32 8MB ...\n",
       "    thetao                    (time, particles) float32 8MB ...\n",
       "    so                        (time, particles) float32 8MB ...\n",
       "    particle_id               (particles) <U9 308kB ...\n",
       "    StreamTN_gramdayparticle  (particles) float64 68kB ...\n",
       "    StreamTP_gramdayparticle  (particles) float64 68kB ...\n",
       "Attributes:\n",
       "    title:    PyLag -- Plymouth Marine Laboratory"
      ]
     },
     "execution_count": 27,
     "metadata": {},
     "output_type": "execute_result"
    }
   ],
   "source": [
    "ds"
   ]
  },
  {
   "cell_type": "code",
   "execution_count": 28,
   "id": "2a26b5c4",
   "metadata": {},
   "outputs": [
    {
     "name": "stdout",
     "output_type": "stream",
     "text": [
      "Number of unique group_id where group_id== 0:      group_id  count\n",
      "0           0  17775\n",
      "1         116  17775\n",
      "2         113  17775\n",
      "3         112  17775\n",
      "4         111  17775\n",
      "..        ...    ...\n",
      "109        50  17775\n",
      "110        49  17775\n",
      "111        48  17775\n",
      "112        45  17775\n",
      "113       162  17775\n",
      "\n",
      "[114 rows x 2 columns]\n",
      "   group_id particle_id  StreamTN_gramdayparticle  StreamTP_gramdayparticle\n",
      "0         0   000002301                179.744125                 12.995671\n",
      "1         0   000012301                179.744125                 12.995671\n",
      "2         0   000022301                179.744125                 12.995671\n",
      "3         0   000032301                179.744125                 12.995671\n",
      "4         0   000042301                179.744125                 12.995671\n"
     ]
    }
   ],
   "source": [
    "# convert ds to pandas DataFrame \n",
    "ds_df = ds.to_dataframe().reset_index()\n",
    "# count the number of occurrences where group_id == 0\n",
    "group_id_counts = ds_df['group_id'].value_counts().reset_index()\n",
    "print(f\"Number of unique group_id where group_id== 0: {group_id_counts}\")\n",
    "# print the particle_id and StreamTN_gramdayparticle\n",
    "print(ds_df[['group_id','particle_id','StreamTN_gramdayparticle', 'StreamTP_gramdayparticle']].head())\n"
   ]
  },
  {
   "cell_type": "code",
   "execution_count": 29,
   "id": "fa09aca0",
   "metadata": {},
   "outputs": [
    {
     "name": "stdout",
     "output_type": "stream",
     "text": [
      "   particles  group_id particle_id  StreamTN_gramdayparticle  \\\n",
      "0          0         0   000002301                179.744125   \n",
      "1          1         0   000012301                179.744125   \n",
      "2          2         0   000022301                179.744125   \n",
      "3          3         0   000032301                179.744125   \n",
      "4          4         0   000042301                179.744125   \n",
      "5          5         0   000052301                179.744125   \n",
      "6          6         0   000062301                179.744125   \n",
      "7          7         0   000072301                179.744125   \n",
      "8          8         0   000082301                179.744125   \n",
      "9          9         0   000092301                179.744125   \n",
      "\n",
      "   StreamTP_gramdayparticle  \n",
      "0                 12.995671  \n",
      "1                 12.995671  \n",
      "2                 12.995671  \n",
      "3                 12.995671  \n",
      "4                 12.995671  \n",
      "5                 12.995671  \n",
      "6                 12.995671  \n",
      "7                 12.995671  \n",
      "8                 12.995671  \n",
      "9                 12.995671  \n"
     ]
    }
   ],
   "source": [
    "# Convert to DataFrame\n",
    "df = ds[['group_id', 'particle_id', 'StreamTN_gramdayparticle', 'StreamTP_gramdayparticle']].to_dataframe().reset_index()\n",
    "\n",
    "# Preview a few rows\n",
    "print(df.head(10))"
   ]
  },
  {
   "cell_type": "code",
   "execution_count": 30,
   "id": "4e88c02a",
   "metadata": {},
   "outputs": [],
   "source": [
    "# save the DataFrame to a CSV file\n",
    "output_file = os.path.join(out_path, 'mass_flux_data.csv')\n",
    "df.to_csv(output_file, index=False)"
   ]
  },
  {
   "cell_type": "code",
   "execution_count": 35,
   "id": "7eaae518",
   "metadata": {},
   "outputs": [
    {
     "name": "stdout",
     "output_type": "stream",
     "text": [
      "[1.79744125e+02 1.79744125e+02 1.79744125e+02 ... 3.83363511e+05\n",
      " 3.83363511e+05 3.83363511e+05]\n"
     ]
    }
   ],
   "source": [
    "# read the nc file\n",
    "ds = xr.open_dataset(mass_updated[0])\n",
    "# reat the variable massParticleTN\n",
    "massParticleTN = ds['StreamTN_gramdayparticle'].values\n",
    "print(massParticleTN)\n",
    "# read the variable StreamDirectTN_kgday\n",
    "#StreamDirectTN_kgday = ds['StreamDirectTN_gramday'].values\n",
    "#StreamDirectTN_kgday\n"
   ]
  },
  {
   "cell_type": "code",
   "execution_count": 37,
   "id": "6a51f3b2",
   "metadata": {},
   "outputs": [
    {
     "data": {
      "application/vnd.microsoft.datawrangler.viewer.v0+json": {
       "columns": [
        {
         "name": "index",
         "rawType": "int64",
         "type": "integer"
        },
        {
         "name": "Group_id",
         "rawType": "int64",
         "type": "integer"
        },
        {
         "name": "Shape_Area",
         "rawType": "float64",
         "type": "float"
        },
        {
         "name": "StreamDirectTP_kgday",
         "rawType": "float64",
         "type": "float"
        },
        {
         "name": "StreamDirectTN_kgday",
         "rawType": "float64",
         "type": "float"
        },
        {
         "name": "StreamDirectTN_gramday",
         "rawType": "float64",
         "type": "float"
        },
        {
         "name": "StreamDirectTP_gramday",
         "rawType": "float64",
         "type": "float"
        }
       ],
       "ref": "f695f624-9960-4ad3-b04c-cdaf9a5bf86e",
       "rows": [
        [
         "0",
         "0",
         "26081928.5215",
         "0.974675289111927",
         "13.48080936492622",
         "13480.80936492622",
         "974.675289111927"
        ],
        [
         "1",
         "1",
         "69150271.4359",
         "2.0009360246176557",
         "51.87855550472977",
         "51878.55550472977",
         "2000.9360246176557"
        ],
        [
         "2",
         "2",
         "170371127.01",
         "4.179389247467957",
         "87.79304285825073",
         "87793.04285825073",
         "4179.389247467957"
        ],
        [
         "3",
         "3",
         "94254255.4891",
         "3.5981979117759475",
         "54.99679188474942",
         "54996.79188474942",
         "3598.1979117759474"
        ],
        [
         "4",
         "4",
         "37729946.5304",
         "1.326998049575194",
         "27.25056783468252",
         "27250.56783468252",
         "1326.998049575194"
        ],
        [
         "5",
         "9",
         "82768965.7249",
         "2.5587266711045222",
         "66.57852305991024",
         "66578.52305991024",
         "2558.726671104522"
        ],
        [
         "6",
         "10",
         "114011332.526",
         "3.2581408524301816",
         "113.29998118317616",
         "113299.98118317616",
         "3258.1408524301814"
        ],
        [
         "7",
         "11",
         "48835227.5479",
         "1.4872642907548623",
         "34.23286139004992",
         "34232.86139004992",
         "1487.2642907548623"
        ],
        [
         "8",
         "13",
         "122669939.676",
         "4.894141190070511",
         "71.99287750819019",
         "71992.87750819018",
         "4894.141190070511"
        ],
        [
         "9",
         "14",
         "168522500.965",
         "5.043811599640316",
         "132.08031469743483",
         "132080.31469743483",
         "5043.811599640316"
        ],
        [
         "10",
         "15",
         "378825640.706",
         "11.104845338773908",
         "277.6316426750329",
         "277631.6426750329",
         "11104.845338773908"
        ],
        [
         "11",
         "16",
         "3862098535.71",
         "76.8500047901055",
         "2320.9587923110257",
         "2320958.792311026",
         "76850.00479010551"
        ],
        [
         "12",
         "17",
         "126923176.903",
         "4.226983254250636",
         "115.42763053099458",
         "115427.63053099457",
         "4226.9832542506365"
        ],
        [
         "13",
         "18",
         "152686421.896",
         "3.508592250758738",
         "128.82546984983497",
         "128825.46984983498",
         "3508.592250758738"
        ],
        [
         "14",
         "20",
         "3310146477.54",
         "83.86343191114022",
         "2492.502071118491",
         "2492502.0711184912",
         "83863.43191114023"
        ],
        [
         "15",
         "23",
         "385488653.639",
         "15.10592360738882",
         "386.4205142129213",
         "386420.5142129213",
         "15105.92360738882"
        ],
        [
         "16",
         "24",
         "5286929706.64",
         "95.87290729478052",
         "3020.2187116238774",
         "3020218.7116238773",
         "95872.90729478051"
        ],
        [
         "17",
         "25",
         "6521959.89024",
         "0.2617603496073571",
         "3.993725896492835",
         "3993.725896492835",
         "261.7603496073571"
        ],
        [
         "18",
         "26",
         "357702575.131",
         "14.06838260158912",
         "393.6244184949827",
         "393624.4184949827",
         "14068.382601589119"
        ],
        [
         "19",
         "27",
         "11735374.2391",
         "0.512962219954716",
         "13.323405480376085",
         "13323.405480376085",
         "512.962219954716"
        ],
        [
         "20",
         "28",
         "10576332.2575",
         "0.7531905104260658",
         "35.09104102849962",
         "35091.04102849962",
         "753.1905104260658"
        ],
        [
         "21",
         "29",
         "4967295.02373",
         "0.3264392703677003",
         "3.821916199667613",
         "3821.916199667613",
         "326.4392703677003"
        ],
        [
         "22",
         "30",
         "7902589.4752",
         "0.6173427899266241",
         "31.048154019517828",
         "31048.154019517828",
         "617.342789926624"
        ],
        [
         "23",
         "31",
         "9415495.00387",
         "0.8899427178221219",
         "37.90063295478465",
         "37900.63295478465",
         "889.9427178221218"
        ],
        [
         "24",
         "32",
         "7651322.12223",
         "0.8485265699855522",
         "17.313636773134924",
         "17313.636773134924",
         "848.5265699855522"
        ],
        [
         "25",
         "33",
         "747191527.966",
         "35.824807303828514",
         "1261.497810568672",
         "1261497.8105686721",
         "35824.807303828515"
        ],
        [
         "26",
         "34",
         "40153326.5227",
         "7.226255173831308",
         "193.63755480851967",
         "193637.55480851966",
         "7226.255173831308"
        ],
        [
         "27",
         "35",
         "1482043.74846",
         "0.2058948502090061",
         "5.929590299347183",
         "5929.590299347183",
         "205.8948502090061"
        ],
        [
         "28",
         "36",
         "6717542.03064",
         "0.4828728103002506",
         "11.32899058623297",
         "11328.99058623297",
         "482.8728103002506"
        ],
        [
         "29",
         "38",
         "1005667753.4",
         "43.73616753062285",
         "1235.746301272239",
         "1235746.3012722388",
         "43736.16753062285"
        ],
        [
         "30",
         "39",
         "27353.2248816",
         "0.0032150000333786",
         "0.0169799998402595",
         "16.9799998402595",
         "3.2150000333786"
        ],
        [
         "31",
         "40",
         "13551511.0833",
         "0.4956566692289924",
         "17.873191693972323",
         "17873.191693972323",
         "495.65666922899237"
        ],
        [
         "32",
         "41",
         "2303366.4258",
         "0.1211025996526587",
         "5.327678012661636",
         "5327.678012661636",
         "121.1025996526587"
        ],
        [
         "33",
         "42",
         "58798442.8175",
         "6.847898704159888",
         "293.7476375378609",
         "293747.6375378609",
         "6847.898704159888"
        ],
        [
         "34",
         "43",
         "2871675.12419",
         "0.2187049785861745",
         "8.928737000562247",
         "8928.737000562247",
         "218.7049785861745"
        ],
        [
         "35",
         "44",
         "32699925.1459",
         "3.828006132251175",
         "152.4248627507549",
         "152424.8627507549",
         "3828.006132251175"
        ],
        [
         "36",
         "45",
         "11354135.4602",
         "0.9146922997751972",
         "41.63499500381296",
         "41634.99500381296",
         "914.6922997751972"
        ],
        [
         "37",
         "46",
         "1164320.53756",
         "0.0385958497936371",
         "1.1268039953429252",
         "1126.8039953429252",
         "38.5958497936371"
        ],
        [
         "38",
         "48",
         "5290470.66959",
         "0.8344501018873408",
         "33.039219003170714",
         "33039.219003170714",
         "834.4501018873408"
        ],
        [
         "39",
         "49",
         "59215251.2968",
         "4.813356941407629",
         "215.95626800441795",
         "215956.26800441794",
         "4813.356941407629"
        ],
        [
         "40",
         "50",
         "5546800.38757",
         "0.5444313301886723",
         "20.2426590048708",
         "20242.6590048708",
         "544.4313301886723"
        ],
        [
         "41",
         "51",
         "608871.654082",
         "0.0515121496173378",
         "2.7371300160884866",
         "2737.1300160884866",
         "51.5121496173378"
        ],
        [
         "42",
         "52",
         "3526221.63978",
         "0.2811428005807103",
         "11.61296000645962",
         "11612.96000645962",
         "281.1428005807103"
        ],
        [
         "43",
         "53",
         "900.000000033",
         "0.0003174000012222",
         "0.0058840001001954",
         "5.8840001001954",
         "0.31740000122219997"
        ],
        [
         "44",
         "55",
         "1832991.69047",
         "0.4995029996207451",
         "13.185543044470252",
         "13185.543044470252",
         "499.50299962074513"
        ],
        [
         "45",
         "56",
         "11592972.8495",
         "1.2309760893622297",
         "53.77161995368082",
         "53771.61995368082",
         "1230.9760893622297"
        ],
        [
         "46",
         "57",
         "241113625.373",
         "11.43366326141948",
         "432.8730486595263",
         "432873.04865952634",
         "11433.66326141948"
        ],
        [
         "47",
         "58",
         "9365094.3582",
         "0.4443079903285249",
         "21.72353415309045",
         "21723.53415309045",
         "444.3079903285249"
        ],
        [
         "48",
         "59",
         "11340486.9248",
         "1.3520887982449492",
         "56.38323502801363",
         "56383.23502801363",
         "1352.0887982449492"
        ],
        [
         "49",
         "60",
         "18286507.7303",
         "1.516695341379093",
         "72.73416797723618",
         "72734.16797723618",
         "1516.695341379093"
        ]
       ],
       "shape": {
        "columns": 6,
        "rows": 145
       }
      },
      "text/html": [
       "<div>\n",
       "<style scoped>\n",
       "    .dataframe tbody tr th:only-of-type {\n",
       "        vertical-align: middle;\n",
       "    }\n",
       "\n",
       "    .dataframe tbody tr th {\n",
       "        vertical-align: top;\n",
       "    }\n",
       "\n",
       "    .dataframe thead th {\n",
       "        text-align: right;\n",
       "    }\n",
       "</style>\n",
       "<table border=\"1\" class=\"dataframe\">\n",
       "  <thead>\n",
       "    <tr style=\"text-align: right;\">\n",
       "      <th></th>\n",
       "      <th>Group_id</th>\n",
       "      <th>Shape_Area</th>\n",
       "      <th>StreamDirectTP_kgday</th>\n",
       "      <th>StreamDirectTN_kgday</th>\n",
       "      <th>StreamDirectTN_gramday</th>\n",
       "      <th>StreamDirectTP_gramday</th>\n",
       "    </tr>\n",
       "  </thead>\n",
       "  <tbody>\n",
       "    <tr>\n",
       "      <th>0</th>\n",
       "      <td>0</td>\n",
       "      <td>2.608193e+07</td>\n",
       "      <td>0.974675</td>\n",
       "      <td>13.480809</td>\n",
       "      <td>1.348081e+04</td>\n",
       "      <td>974.675289</td>\n",
       "    </tr>\n",
       "    <tr>\n",
       "      <th>1</th>\n",
       "      <td>1</td>\n",
       "      <td>6.915027e+07</td>\n",
       "      <td>2.000936</td>\n",
       "      <td>51.878556</td>\n",
       "      <td>5.187856e+04</td>\n",
       "      <td>2000.936025</td>\n",
       "    </tr>\n",
       "    <tr>\n",
       "      <th>2</th>\n",
       "      <td>2</td>\n",
       "      <td>1.703711e+08</td>\n",
       "      <td>4.179389</td>\n",
       "      <td>87.793043</td>\n",
       "      <td>8.779304e+04</td>\n",
       "      <td>4179.389247</td>\n",
       "    </tr>\n",
       "    <tr>\n",
       "      <th>3</th>\n",
       "      <td>3</td>\n",
       "      <td>9.425426e+07</td>\n",
       "      <td>3.598198</td>\n",
       "      <td>54.996792</td>\n",
       "      <td>5.499679e+04</td>\n",
       "      <td>3598.197912</td>\n",
       "    </tr>\n",
       "    <tr>\n",
       "      <th>4</th>\n",
       "      <td>4</td>\n",
       "      <td>3.772995e+07</td>\n",
       "      <td>1.326998</td>\n",
       "      <td>27.250568</td>\n",
       "      <td>2.725057e+04</td>\n",
       "      <td>1326.998050</td>\n",
       "    </tr>\n",
       "    <tr>\n",
       "      <th>...</th>\n",
       "      <td>...</td>\n",
       "      <td>...</td>\n",
       "      <td>...</td>\n",
       "      <td>...</td>\n",
       "      <td>...</td>\n",
       "      <td>...</td>\n",
       "    </tr>\n",
       "    <tr>\n",
       "      <th>140</th>\n",
       "      <td>170</td>\n",
       "      <td>1.961733e+07</td>\n",
       "      <td>4.299652</td>\n",
       "      <td>63.984811</td>\n",
       "      <td>6.398481e+04</td>\n",
       "      <td>4299.652109</td>\n",
       "    </tr>\n",
       "    <tr>\n",
       "      <th>141</th>\n",
       "      <td>171</td>\n",
       "      <td>1.228468e+03</td>\n",
       "      <td>0.000563</td>\n",
       "      <td>0.013980</td>\n",
       "      <td>1.398000e+01</td>\n",
       "      <td>0.563200</td>\n",
       "    </tr>\n",
       "    <tr>\n",
       "      <th>142</th>\n",
       "      <td>173</td>\n",
       "      <td>1.396735e+07</td>\n",
       "      <td>4.034916</td>\n",
       "      <td>23.636322</td>\n",
       "      <td>2.363632e+04</td>\n",
       "      <td>4034.915994</td>\n",
       "    </tr>\n",
       "    <tr>\n",
       "      <th>143</th>\n",
       "      <td>174</td>\n",
       "      <td>7.877722e+06</td>\n",
       "      <td>2.496025</td>\n",
       "      <td>14.078233</td>\n",
       "      <td>1.407823e+04</td>\n",
       "      <td>2496.024996</td>\n",
       "    </tr>\n",
       "    <tr>\n",
       "      <th>144</th>\n",
       "      <td>176</td>\n",
       "      <td>1.975048e+09</td>\n",
       "      <td>277.777747</td>\n",
       "      <td>4608.331785</td>\n",
       "      <td>4.608332e+06</td>\n",
       "      <td>277777.747389</td>\n",
       "    </tr>\n",
       "  </tbody>\n",
       "</table>\n",
       "<p>145 rows × 6 columns</p>\n",
       "</div>"
      ],
      "text/plain": [
       "     Group_id    Shape_Area  StreamDirectTP_kgday  StreamDirectTN_kgday  \\\n",
       "0           0  2.608193e+07              0.974675             13.480809   \n",
       "1           1  6.915027e+07              2.000936             51.878556   \n",
       "2           2  1.703711e+08              4.179389             87.793043   \n",
       "3           3  9.425426e+07              3.598198             54.996792   \n",
       "4           4  3.772995e+07              1.326998             27.250568   \n",
       "..        ...           ...                   ...                   ...   \n",
       "140       170  1.961733e+07              4.299652             63.984811   \n",
       "141       171  1.228468e+03              0.000563              0.013980   \n",
       "142       173  1.396735e+07              4.034916             23.636322   \n",
       "143       174  7.877722e+06              2.496025             14.078233   \n",
       "144       176  1.975048e+09            277.777747           4608.331785   \n",
       "\n",
       "     StreamDirectTN_gramday  StreamDirectTP_gramday  \n",
       "0              1.348081e+04              974.675289  \n",
       "1              5.187856e+04             2000.936025  \n",
       "2              8.779304e+04             4179.389247  \n",
       "3              5.499679e+04             3598.197912  \n",
       "4              2.725057e+04             1326.998050  \n",
       "..                      ...                     ...  \n",
       "140            6.398481e+04             4299.652109  \n",
       "141            1.398000e+01                0.563200  \n",
       "142            2.363632e+04             4034.915994  \n",
       "143            1.407823e+04             2496.024996  \n",
       "144            4.608332e+06           277777.747389  \n",
       "\n",
       "[145 rows x 6 columns]"
      ]
     },
     "execution_count": 37,
     "metadata": {},
     "output_type": "execute_result"
    }
   ],
   "source": [
    "DirectNPcoast"
   ]
  }
 ],
 "metadata": {
  "kernelspec": {
   "display_name": "pylag",
   "language": "python",
   "name": "python3"
  },
  "language_info": {
   "codemirror_mode": {
    "name": "ipython",
    "version": 3
   },
   "file_extension": ".py",
   "mimetype": "text/x-python",
   "name": "python",
   "nbconvert_exporter": "python",
   "pygments_lexer": "ipython3",
   "version": "3.11.10"
  }
 },
 "nbformat": 4,
 "nbformat_minor": 5
}

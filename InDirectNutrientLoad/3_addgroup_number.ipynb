{
 "cells": [
  {
   "cell_type": "markdown",
   "metadata": {},
   "source": [
    "# Introduction "
   ]
  },
  {
   "cell_type": "markdown",
   "metadata": {},
   "source": [
    "- Following Code reads FVCOM particle tracking outputs and get the group_number\n",
    "- Count the number if group_id in each group\n",
    "- Add a new column to the data called group_number and add the number of particle in each group_id \n",
    "- The order is the first number is group_is,second numbers are particle number \n"
   ]
  },
  {
   "cell_type": "markdown",
   "metadata": {},
   "source": [
    "## Imports Libraries"
   ]
  },
  {
   "cell_type": "code",
   "execution_count": 2,
   "metadata": {},
   "outputs": [],
   "source": [
    "# Importing libraries\n",
    "import os\n",
    "import glob\n",
    "import numpy as np\n",
    "import pandas as pd\n",
    "import geopandas as gpd\n",
    "import xarray as xr\n"
   ]
  },
  {
   "cell_type": "markdown",
   "metadata": {},
   "source": [
    "# Input Files"
   ]
  },
  {
   "cell_type": "code",
   "execution_count": null,
   "metadata": {},
   "outputs": [
    {
     "name": "stdout",
     "output_type": "stream",
     "text": [
      "['/home/abolmaal/modelling/FVCOM/Huron/output/Fvcom_Huron_23_Mar__3.nc', '/home/abolmaal/modelling/FVCOM/Huron/output/Fvcom_Huron_23_May__5.nc', '/home/abolmaal/modelling/FVCOM/Huron/output/Fvcom_Huron_23_Jun__6.nc', '/home/abolmaal/modelling/FVCOM/Huron/output/Fvcom_Huron_23_Oct__10.nc', '/home/abolmaal/modelling/FVCOM/Huron/output/Fvcom_Huron_23_Jan__1.nc', '/home/abolmaal/modelling/FVCOM/Huron/output/Fvcom_Huron_23_Sep__9.nc', '/home/abolmaal/modelling/FVCOM/Huron/output/Fvcom_Huron_23_Aug__8.nc', '/home/abolmaal/modelling/FVCOM/Huron/output/Fvcom_Huron_23_Nov__11.nc', '/home/abolmaal/modelling/FVCOM/Huron/output/Fvcom_Huron_23_DecJan_1.nc', '/home/abolmaal/modelling/FVCOM/Huron/output/Fvcom_Huron_23_Feb__2.nc', '/home/abolmaal/modelling/FVCOM/Huron/output/Fvcom_Huron_23_Jul__7.nc']\n"
     ]
    }
   ],
   "source": [
    "# Set the directory of the FVCOM model outputs\n",
    "FVCOM_dir = '/home/abolmaal/modelling/FVCOM/Huron/output'\n",
    "# Set the directory of the FVCOM model outputs\n",
    "files = glob.glob(os.path.join(FVCOM_dir, 'Fvcom_Huron_23_*.nc'))\n"
   ]
  },
  {
   "cell_type": "markdown",
   "metadata": {},
   "source": [
    "# Output Files"
   ]
  },
  {
   "cell_type": "code",
   "execution_count": 14,
   "metadata": {},
   "outputs": [],
   "source": [
    "# OUTPUTS# List of months for generating output filenames\n",
    "months = ['Jan', 'Feb', 'Mar', 'Apr', 'May', 'Jun', 'Jul', 'Aug', 'Sep', 'Oct', 'Nov', 'Dec']\n",
    "\n",
    "\n",
    "# Generate the output filenames based on the months\n",
    "output_files = [\n",
    "    os.path.join(FVCOM_dir, f'updated_Fvcom_Huron_23_{month}__{index+1}.nc')\n",
    "    for index, month in enumerate(months)\n",
    "]\n",
    "# Add the December/January file manually if it's part of the pattern\n",
    "output_files.append(os.path.join(FVCOM_dir, 'updated_Fvcom_Huron_23_DecJan_1.nc'))\n"
   ]
  },
  {
   "cell_type": "code",
   "execution_count": 15,
   "metadata": {},
   "outputs": [
    {
     "name": "stdout",
     "output_type": "stream",
     "text": [
      "/home/abolmaal/modelling/FVCOM/Huron/output/updated_Fvcom_Huron_23_Jan__1.nc\n",
      "/home/abolmaal/modelling/FVCOM/Huron/output/updated_Fvcom_Huron_23_Feb__2.nc\n",
      "/home/abolmaal/modelling/FVCOM/Huron/output/updated_Fvcom_Huron_23_Mar__3.nc\n",
      "/home/abolmaal/modelling/FVCOM/Huron/output/updated_Fvcom_Huron_23_Apr__4.nc\n",
      "/home/abolmaal/modelling/FVCOM/Huron/output/updated_Fvcom_Huron_23_May__5.nc\n",
      "/home/abolmaal/modelling/FVCOM/Huron/output/updated_Fvcom_Huron_23_Jun__6.nc\n",
      "/home/abolmaal/modelling/FVCOM/Huron/output/updated_Fvcom_Huron_23_Jul__7.nc\n",
      "/home/abolmaal/modelling/FVCOM/Huron/output/updated_Fvcom_Huron_23_Aug__8.nc\n",
      "/home/abolmaal/modelling/FVCOM/Huron/output/updated_Fvcom_Huron_23_Sep__9.nc\n",
      "/home/abolmaal/modelling/FVCOM/Huron/output/updated_Fvcom_Huron_23_Oct__10.nc\n",
      "/home/abolmaal/modelling/FVCOM/Huron/output/updated_Fvcom_Huron_23_Nov__11.nc\n",
      "/home/abolmaal/modelling/FVCOM/Huron/output/updated_Fvcom_Huron_23_Dec__12.nc\n",
      "/home/abolmaal/modelling/FVCOM/Huron/output/updated_Fvcom_Huron_23_DecJan_1.nc\n"
     ]
    }
   ],
   "source": [
    "# Output file paths list\n",
    "for file in output_files:\n",
    "    print(file) "
   ]
  },
  {
   "cell_type": "markdown",
   "metadata": {},
   "source": [
    "# Helper Functions "
   ]
  },
  {
   "cell_type": "code",
   "execution_count": null,
   "metadata": {},
   "outputs": [],
   "source": [
    "# # define the function to sort the files based on the time\n",
    "# def sort_key(file):\n",
    "#     filename = os.path.basename(file)\n",
    "#     number = int(filename.split('__')[1].split('.')[0])\n",
    "#     return number"
   ]
  },
  {
   "cell_type": "code",
   "execution_count": 8,
   "metadata": {},
   "outputs": [],
   "source": [
    "# Define the function to sort the files based on the time\n",
    "def sort_key(file):\n",
    "    filename = os.path.basename(file)\n",
    "    try:\n",
    "        # Extract the number after the double underscores and before the `.nc` extension\n",
    "        number = int(filename.split('__')[1].split('.')[0])\n",
    "        return number\n",
    "    except (IndexError, ValueError):\n",
    "        # Handle filenames that do not match the pattern by returning a high number to place them last\n",
    "        return float('inf')"
   ]
  },
  {
   "cell_type": "code",
   "execution_count": null,
   "metadata": {},
   "outputs": [],
   "source": [
    "# Function to load the FVCOM outputs data get group_id column \n",
    "# count the number of particles in each group_id and the add a new column to the netcdf file called group_number \n",
    "# and writes the number of particles in each group_id to the group_number column\n",
    "\n",
    "def write_groupnumber(files, data_dir):\n",
    "    \"\"\"\n",
    "    Updates each NetCDF file by adding a group_number column based on group_id.\n",
    "    The updated NetCDF files are saved with a new filename prefix in the specified directory.\n",
    "    \n",
    "    Parameters:\n",
    "    - files (list of str): List of paths to NetCDF files to be processed.\n",
    "    - data_dir (str): Directory where the updated NetCDF files will be saved.\n",
    "    \"\"\"\n",
    "    for file in files:\n",
    "        # Read the NetCDF file\n",
    "        ds = xr.open_dataset(file)\n",
    "        \n",
    "        # Convert the NetCDF 'group_id' variable to a DataFrame for processing\n",
    "        netcdf_df = ds['group_id'].to_dataframe().reset_index()\n",
    "        \n",
    "        # Step 1: Count occurrences of each unique group_id in the NetCDF file\n",
    "        netcdf_df['group_number'] = netcdf_df.groupby('group_id').cumcount()\n",
    "        \n",
    "        # Step 2: Combine 'group_id' and 'group_number' with leading zeros\n",
    "        netcdf_df['group_number'] = netcdf_df.apply(\n",
    "            lambda row: f\"{int(row['group_id']):02}{row['group_number']:03}\", axis=1\n",
    "        )\n",
    "        \n",
    "        # Step 3: Add the updated group_number column back into the NetCDF dataset\n",
    "        ds['group_number'] = (('particles'), netcdf_df['group_number'].values)\n",
    "        \n",
    "        # Step 4: Save the updated NetCDF file\n",
    "        output_file_path = os.path.join(data_dir, f\"updated_{os.path.basename(file)}\")\n",
    "        ds.to_netcdf(output_file_path)\n",
    "        \n",
    "        print(f\"Updated NetCDF file saved: {output_file_path}\")\n"
   ]
  },
  {
   "cell_type": "markdown",
   "metadata": {},
   "source": [
    "# Main Functions"
   ]
  },
  {
   "cell_type": "code",
   "execution_count": 16,
   "metadata": {},
   "outputs": [
    {
     "name": "stdout",
     "output_type": "stream",
     "text": [
      "['/home/abolmaal/modelling/FVCOM/Huron/output/Fvcom_Huron_23_Jan__1.nc', '/home/abolmaal/modelling/FVCOM/Huron/output/Fvcom_Huron_23_Feb__2.nc', '/home/abolmaal/modelling/FVCOM/Huron/output/Fvcom_Huron_23_Mar__3.nc', '/home/abolmaal/modelling/FVCOM/Huron/output/Fvcom_Huron_23_May__5.nc', '/home/abolmaal/modelling/FVCOM/Huron/output/Fvcom_Huron_23_Jun__6.nc', '/home/abolmaal/modelling/FVCOM/Huron/output/Fvcom_Huron_23_Jul__7.nc', '/home/abolmaal/modelling/FVCOM/Huron/output/Fvcom_Huron_23_Aug__8.nc', '/home/abolmaal/modelling/FVCOM/Huron/output/Fvcom_Huron_23_Sep__9.nc', '/home/abolmaal/modelling/FVCOM/Huron/output/Fvcom_Huron_23_Oct__10.nc', '/home/abolmaal/modelling/FVCOM/Huron/output/Fvcom_Huron_23_Nov__11.nc', '/home/abolmaal/modelling/FVCOM/Huron/output/Fvcom_Huron_23_DecJan_1.nc']\n"
     ]
    }
   ],
   "source": [
    "# Load the FVCOM output files and sort them based on the time\n",
    "files = glob.glob(FVCOM_dir + \"/Fvcom_Huron_23_*.nc\")\n",
    "files.sort(key=sort_key)\n",
    "print(files)\n"
   ]
  },
  {
   "cell_type": "code",
   "execution_count": 11,
   "metadata": {},
   "outputs": [
    {
     "name": "stdout",
     "output_type": "stream",
     "text": [
      "Updated NetCDF file saved: /home/abolmaal/modelling/FVCOM/Huron/output/updated_Fvcom_Huron_23_Jan__1.nc\n",
      "Updated NetCDF file saved: /home/abolmaal/modelling/FVCOM/Huron/output/updated_Fvcom_Huron_23_Feb__2.nc\n",
      "Updated NetCDF file saved: /home/abolmaal/modelling/FVCOM/Huron/output/updated_Fvcom_Huron_23_Mar__3.nc\n",
      "Updated NetCDF file saved: /home/abolmaal/modelling/FVCOM/Huron/output/updated_Fvcom_Huron_23_May__5.nc\n",
      "Updated NetCDF file saved: /home/abolmaal/modelling/FVCOM/Huron/output/updated_Fvcom_Huron_23_Jun__6.nc\n",
      "Updated NetCDF file saved: /home/abolmaal/modelling/FVCOM/Huron/output/updated_Fvcom_Huron_23_Jul__7.nc\n",
      "Updated NetCDF file saved: /home/abolmaal/modelling/FVCOM/Huron/output/updated_Fvcom_Huron_23_Aug__8.nc\n",
      "Updated NetCDF file saved: /home/abolmaal/modelling/FVCOM/Huron/output/updated_Fvcom_Huron_23_Sep__9.nc\n",
      "Updated NetCDF file saved: /home/abolmaal/modelling/FVCOM/Huron/output/updated_Fvcom_Huron_23_Oct__10.nc\n",
      "Updated NetCDF file saved: /home/abolmaal/modelling/FVCOM/Huron/output/updated_Fvcom_Huron_23_Nov__11.nc\n",
      "Updated NetCDF file saved: /home/abolmaal/modelling/FVCOM/Huron/output/updated_Fvcom_Huron_23_DecJan_1.nc\n"
     ]
    }
   ],
   "source": [
    "# Call the function to update the NetCDF files with the group_number column\n",
    "\n",
    "write_groupnumber(files, FVCOM_dir)\n"
   ]
  },
  {
   "cell_type": "code",
   "execution_count": 12,
   "metadata": {},
   "outputs": [
    {
     "name": "stdout",
     "output_type": "stream",
     "text": [
      "['00000' '00001' '00002' ... '147086' '147087' '147088']\n"
     ]
    }
   ],
   "source": [
    "# Make sure the group_number column is added to the NetCDF files and is in right order \n",
    "# read the updated NetCDF file\n",
    "updated_files = glob.glob(FVCOM_dir + \"/updated_Fvcom_Huron_23_*.nc\")\n",
    "updated_files.sort(key=sort_key)\n",
    "#ds = xr.open_mfdataset(updated_files, combine='by_coords')\n",
    "\n",
    "# read the firs file\n",
    "ds = xr.open_dataset(updated_files[0])\n",
    "# print the updated group_number variable values\n",
    "print(ds['group_number'].values)"
   ]
  },
  {
   "cell_type": "code",
   "execution_count": 14,
   "metadata": {},
   "outputs": [
    {
     "name": "stdout",
     "output_type": "stream",
     "text": [
      "First few rows of netcdf_df:\n",
      "   particles  group_id group_number\n",
      "0          0         0        00000\n",
      "1          1         0        00001\n",
      "2          2         0        00002\n",
      "3          3         0        00003\n",
      "4          4         0        00004\n",
      "CSV file saved with formatted group numbers\n"
     ]
    }
   ],
   "source": [
    "# Convert the NetCDF 'group_id' and 'group_number' variables to a DataFrame for processing\n",
    "netcdf_df = ds['group_id'].to_dataframe().reset_index()\n",
    "\n",
    "# Ensure that 'group_number' is extracted and correctly added\n",
    "netcdf_df['group_number'] = ds['group_number'].values\n",
    "\n",
    "# Step 1: Convert 'group_number' to integer if necessary, and format as a 5-digit string with leading zeros\n",
    "netcdf_df['group_number'] = netcdf_df['group_number'].apply(lambda x: f\"{int(x):05}\")\n",
    "\n",
    "# Step 2: Print values for debugging\n",
    "print(\"First few rows of netcdf_df:\")\n",
    "print(netcdf_df.head())\n",
    "\n",
    "# Step 3: Select relevant columns for saving to CSV\n",
    "netcdf_df = netcdf_df[['group_id', 'group_number']]\n",
    "\n",
    "# Save the result as a CSV file\n",
    "netcdf_df.to_csv(os.path.join(FVCOM_dir, 'group_id_group_number.csv'), index=False)\n",
    "\n",
    "print(\"CSV file saved with formatted group numbers\")\n",
    "\n"
   ]
  }
 ],
 "metadata": {
  "kernelspec": {
   "display_name": "pylag",
   "language": "python",
   "name": "python3"
  },
  "language_info": {
   "codemirror_mode": {
    "name": "ipython",
    "version": 3
   },
   "file_extension": ".py",
   "mimetype": "text/x-python",
   "name": "python",
   "nbconvert_exporter": "python",
   "pygments_lexer": "ipython3",
   "version": "3.11.10"
  }
 },
 "nbformat": 4,
 "nbformat_minor": 2
}

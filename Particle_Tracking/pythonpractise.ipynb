{
 "cells": [
  {
   "cell_type": "markdown",
   "id": "e34c4824-c369-449f-8b85-fca4da9c07ec",
   "metadata": {},
   "source": [
    "while loop "
   ]
  },
  {
   "cell_type": "code",
   "execution_count": 1,
   "id": "e277707f-7484-4fd4-990e-ac8c75d1b9dc",
   "metadata": {},
   "outputs": [
    {
     "name": "stdout",
     "output_type": "stream",
     "text": [
      "1\n",
      "2\n",
      "3\n",
      "4\n",
      "5\n"
     ]
    }
   ],
   "source": [
    "i = 1\n",
    "while i < 6:\n",
    "    print(i)\n",
    "    i += 1"
   ]
  },
  {
   "cell_type": "code",
   "execution_count": 2,
   "id": "7a4e5d18-9071-4c87-b9c8-2da7645c851e",
   "metadata": {},
   "outputs": [
    {
     "name": "stdout",
     "output_type": "stream",
     "text": [
      "1\n",
      "2\n",
      "3\n"
     ]
    }
   ],
   "source": [
    "i = 1\n",
    "while i < 6 :\n",
    "    print(i)\n",
    "    if i == 3:\n",
    "        break\n",
    "    i +=1"
   ]
  },
  {
   "cell_type": "code",
   "execution_count": null,
   "id": "69c8d2d9-9e75-421b-a6e5-47e285266794",
   "metadata": {},
   "outputs": [],
   "source": [
    "v0 = 47\n",
    "g = 9.8\n",
    "h0=1.75\n",
    "t = 0\n",
    "h = []\n",
    "max_h = []\n",
    "time = []\n",
    "\n",
    "while t <= 10:\n",
    "    ht = h0 +v0*t - 0.5*g*t**2\n",
    "    ht = round(ht,2)"
   ]
  }
 ],
 "metadata": {
  "kernelspec": {
   "display_name": "Python 3 (ipykernel)",
   "language": "python",
   "name": "python3"
  },
  "language_info": {
   "codemirror_mode": {
    "name": "ipython",
    "version": 3
   },
   "file_extension": ".py",
   "mimetype": "text/x-python",
   "name": "python",
   "nbconvert_exporter": "python",
   "pygments_lexer": "ipython3",
   "version": "3.11.5"
  }
 },
 "nbformat": 4,
 "nbformat_minor": 5
}

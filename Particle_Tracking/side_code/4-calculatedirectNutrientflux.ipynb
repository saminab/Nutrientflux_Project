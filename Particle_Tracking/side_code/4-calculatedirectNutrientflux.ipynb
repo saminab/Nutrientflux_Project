{
 "cells": [
  {
   "cell_type": "markdown",
   "metadata": {},
   "source": [
    "#### extract pixel values from a raster where it intersects with points in a shapefile and save these values as a new column in the shapefile, you can use the rasterio and geopandas libraries. Here’s a step-by-step guide to achieve this:"
   ]
  },
  {
   "cell_type": "markdown",
   "metadata": {},
   "source": [
    "Step-by-Step Guide\n",
    "\n",
    "1- Read the shapefile and raster file.\n",
    "\n",
    "2- Reproject the shapefile to match the raster's CRS.\n",
    "\n",
    "3- Extract pixel values from the raster for each point in the shapefile.\n",
    "\n",
    "4- Save the extracted values as a new column in the shapefile."
   ]
  },
  {
   "cell_type": "code",
   "execution_count": 1,
   "metadata": {},
   "outputs": [],
   "source": [
    "import geopandas as gpd\n",
    "import rasterio\n",
    "from rasterio.features import geometry_window\n",
    "from shapely.geometry import Point\n",
    "import pandas as pd\n",
    "import matplotlib.pyplot as plt\n"
   ]
  },
  {
   "cell_type": "code",
   "execution_count": 2,
   "metadata": {},
   "outputs": [],
   "source": [
    "path_to_data = '/home/abolmaal/data/FVCOME_OUTPUT/Simulations/Huron/results/shapefiles/initial_position/WatershedPourPoints_LH.shp'\n",
    "# tiff file path is the following \\\\wsl.localhost\\Samin_Ubuntu\\home\\abolmaal\\data\\FVCOME_OUTPUT\\Simulations\\Huron\\data\\Luwen_Nutrient\n",
    "path_to_raster = '/home/abolmaal/data/FVCOME_OUTPUT/Simulations/Huron/data/Luwen_Nutrient/TP_Annual_delTotal_header_kgcellday.tif'"
   ]
  },
  {
   "cell_type": "code",
   "execution_count": 3,
   "metadata": {},
   "outputs": [],
   "source": [
    "# load the shapefile\n",
    "initial_points = gpd.read_file(path_to_data)\n",
    "# Check if the GeoDataFrame has a CRS, if not set it\n",
    "if initial_points.crs is None:\n",
    "    initial_points.set_crs(epsg=3174, inplace=True)  # Set to WGS84 (or the CRS that matches your data)\n"
   ]
  },
  {
   "cell_type": "code",
   "execution_count": 4,
   "metadata": {},
   "outputs": [],
   "source": [
    "# Ensure the shapefile is in the same CRS as the raster\n",
    "with rasterio.open(path_to_raster) as src:\n",
    "    if initial_points.crs != src.crs:\n",
    "        initial_points = initial_points.to_crs(src.crs)\n",
    "    \n",
    "    transform = src.transform\n",
    "    data = src.read(1)  # Read the first band\n",
    "    raster_bounds = src.bounds  # Get raster boun"
   ]
  },
  {
   "cell_type": "code",
   "execution_count": null,
   "metadata": {},
   "outputs": [],
   "source": [
    "# Ensure the shapefile is in the same CRS as the raster\n",
    "with rasterio.open(path_to_raster) as src:\n",
    "    if initial_points.crs != src.crs:\n",
    "        initial_points = initial_points.to_crs(src.crs)\n",
    "    \n",
    "    transform = src.transform\n",
    "    data = src.read(1)  # Read the first band\n",
    "    raster_bounds = src.bounds  # Get raster bounds\n",
    "\n",
    "# Function to get raster value at a given geometry point\n",
    "def extract_point_value(point, data, transform, bounds):\n",
    "    if point.x < bounds.left or point.x > bounds.right or point.y < bounds.bottom or point.y > bounds.top:\n",
    "        return np.nan  # Point is outside the raster bounds\n",
    "    row, col = ~transform * (point.x, point.y)\n",
    "    row, col = int(row), int(col)\n",
    "    try:\n",
    "        return data[row, col]\n",
    "    except IndexError:\n",
    "        return np.nan  # Handle cases where the calculated indices are out of bounds\n"
   ]
  },
  {
   "cell_type": "code",
   "execution_count": null,
   "metadata": {},
   "outputs": [],
   "source": []
  }
 ],
 "metadata": {
  "kernelspec": {
   "display_name": "pylag",
   "language": "python",
   "name": "python3"
  },
  "language_info": {
   "codemirror_mode": {
    "name": "ipython",
    "version": 3
   },
   "file_extension": ".py",
   "mimetype": "text/x-python",
   "name": "python",
   "nbconvert_exporter": "python",
   "pygments_lexer": "ipython3",
   "version": "3.11.9"
  }
 },
 "nbformat": 4,
 "nbformat_minor": 2
}

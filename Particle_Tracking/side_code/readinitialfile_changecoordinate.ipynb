{
 "cells": [
  {
   "cell_type": "markdown",
   "id": "622ef59a-d9b5-4e6b-a0b3-3c6f43de0fa5",
   "metadata": {},
   "source": [
    "## Change Longitude Values to 360 gedree to be able to read for PyLag"
   ]
  },
  {
   "cell_type": "markdown",
   "id": "34095837",
   "metadata": {},
   "source": [
    "#### Read the watershed pour points extracted from Arc, rename columns, and save them in a order"
   ]
  },
  {
   "cell_type": "markdown",
   "id": "f749f22e",
   "metadata": {},
   "source": [
    "### Required imports"
   ]
  },
  {
   "cell_type": "code",
   "execution_count": 13,
   "id": "8a847ef8-7dac-4858-a4cd-f92857a399af",
   "metadata": {},
   "outputs": [],
   "source": [
    "import math\n",
    "import numpy as np\n",
    "import pandas as pd"
   ]
  },
  {
   "cell_type": "code",
   "execution_count": 14,
   "id": "0bc77863",
   "metadata": {},
   "outputs": [
    {
     "data": {
      "text/html": [
       "<div>\n",
       "<style scoped>\n",
       "    .dataframe tbody tr th:only-of-type {\n",
       "        vertical-align: middle;\n",
       "    }\n",
       "\n",
       "    .dataframe tbody tr th {\n",
       "        vertical-align: top;\n",
       "    }\n",
       "\n",
       "    .dataframe thead th {\n",
       "        text-align: right;\n",
       "    }\n",
       "</style>\n",
       "<table border=\"1\" class=\"dataframe\">\n",
       "  <thead>\n",
       "    <tr style=\"text-align: right;\">\n",
       "      <th></th>\n",
       "      <th>FID</th>\n",
       "      <th>pointid</th>\n",
       "      <th>gridcode</th>\n",
       "      <th>Group_id</th>\n",
       "      <th>POINT_X</th>\n",
       "      <th>POINT_Y</th>\n",
       "    </tr>\n",
       "  </thead>\n",
       "  <tbody>\n",
       "    <tr>\n",
       "      <th>0</th>\n",
       "      <td>0</td>\n",
       "      <td>270</td>\n",
       "      <td>559</td>\n",
       "      <td>0</td>\n",
       "      <td>-84.665841</td>\n",
       "      <td>45.745061</td>\n",
       "    </tr>\n",
       "    <tr>\n",
       "      <th>1</th>\n",
       "      <td>1</td>\n",
       "      <td>272</td>\n",
       "      <td>435</td>\n",
       "      <td>1</td>\n",
       "      <td>-84.828741</td>\n",
       "      <td>45.749943</td>\n",
       "    </tr>\n",
       "    <tr>\n",
       "      <th>2</th>\n",
       "      <td>2</td>\n",
       "      <td>276</td>\n",
       "      <td>557</td>\n",
       "      <td>2</td>\n",
       "      <td>-84.486036</td>\n",
       "      <td>45.663177</td>\n",
       "    </tr>\n",
       "    <tr>\n",
       "      <th>3</th>\n",
       "      <td>3</td>\n",
       "      <td>277</td>\n",
       "      <td>560</td>\n",
       "      <td>3</td>\n",
       "      <td>-84.234358</td>\n",
       "      <td>45.637350</td>\n",
       "    </tr>\n",
       "    <tr>\n",
       "      <th>4</th>\n",
       "      <td>4</td>\n",
       "      <td>278</td>\n",
       "      <td>585</td>\n",
       "      <td>4</td>\n",
       "      <td>-84.464815</td>\n",
       "      <td>45.655921</td>\n",
       "    </tr>\n",
       "    <tr>\n",
       "      <th>...</th>\n",
       "      <td>...</td>\n",
       "      <td>...</td>\n",
       "      <td>...</td>\n",
       "      <td>...</td>\n",
       "      <td>...</td>\n",
       "      <td>...</td>\n",
       "    </tr>\n",
       "    <tr>\n",
       "      <th>127</th>\n",
       "      <td>127</td>\n",
       "      <td>0</td>\n",
       "      <td>720</td>\n",
       "      <td>128</td>\n",
       "      <td>-83.425968</td>\n",
       "      <td>45.061532</td>\n",
       "    </tr>\n",
       "    <tr>\n",
       "      <th>128</th>\n",
       "      <td>128</td>\n",
       "      <td>0</td>\n",
       "      <td>721</td>\n",
       "      <td>129</td>\n",
       "      <td>-84.078374</td>\n",
       "      <td>45.487312</td>\n",
       "    </tr>\n",
       "    <tr>\n",
       "      <th>129</th>\n",
       "      <td>129</td>\n",
       "      <td>0</td>\n",
       "      <td>741</td>\n",
       "      <td>130</td>\n",
       "      <td>-83.396562</td>\n",
       "      <td>43.818410</td>\n",
       "    </tr>\n",
       "    <tr>\n",
       "      <th>130</th>\n",
       "      <td>130</td>\n",
       "      <td>0</td>\n",
       "      <td>748</td>\n",
       "      <td>135</td>\n",
       "      <td>-82.406943</td>\n",
       "      <td>43.030980</td>\n",
       "    </tr>\n",
       "    <tr>\n",
       "      <th>131</th>\n",
       "      <td>131</td>\n",
       "      <td>0</td>\n",
       "      <td>0</td>\n",
       "      <td>147</td>\n",
       "      <td>-83.465788</td>\n",
       "      <td>43.738634</td>\n",
       "    </tr>\n",
       "  </tbody>\n",
       "</table>\n",
       "<p>132 rows × 6 columns</p>\n",
       "</div>"
      ],
      "text/plain": [
       "     FID  pointid  gridcode  Group_id    POINT_X    POINT_Y\n",
       "0      0      270       559         0 -84.665841  45.745061\n",
       "1      1      272       435         1 -84.828741  45.749943\n",
       "2      2      276       557         2 -84.486036  45.663177\n",
       "3      3      277       560         3 -84.234358  45.637350\n",
       "4      4      278       585         4 -84.464815  45.655921\n",
       "..   ...      ...       ...       ...        ...        ...\n",
       "127  127        0       720       128 -83.425968  45.061532\n",
       "128  128        0       721       129 -84.078374  45.487312\n",
       "129  129        0       741       130 -83.396562  43.818410\n",
       "130  130        0       748       135 -82.406943  43.030980\n",
       "131  131        0         0       147 -83.465788  43.738634\n",
       "\n",
       "[132 rows x 6 columns]"
      ]
     },
     "execution_count": 14,
     "metadata": {},
     "output_type": "execute_result"
    }
   ],
   "source": [
    "# read the csv file into a pandas dataframe and read the columns of lat lon and group_id\n",
    "\n",
    "df = pd.read_csv('/home/samin/data/FVCOME_OUTPUT/simulations/Huron/input/initial_position/WatershedPourPoints_LH_copy_new.csv')\n",
    "df\n",
    "#"
   ]
  },
  {
   "cell_type": "markdown",
   "id": "5271de1e-4d23-4784-ab93-32459c93761f",
   "metadata": {},
   "source": [
    "# Rename col 0 to lon and col 1 to lat"
   ]
  },
  {
   "cell_type": "code",
   "execution_count": 41,
   "id": "e658d7f3-bd60-4723-9b0f-65b798a56603",
   "metadata": {},
   "outputs": [],
   "source": [
    "df.rename(columns={0:\"group_id\", 2:\"lon\",1:\"lat\",3:\"depth\"}, inplace=True)"
   ]
  },
  {
   "cell_type": "code",
   "execution_count": 15,
   "id": "a103bc58",
   "metadata": {},
   "outputs": [],
   "source": [
    "# create a new dataframe with the columns of lat lon and group_id, depth adn these coulms are equal to the value of the columns in the original dataframe\n",
    "df_new = pd.DataFrame(columns=['lat', 'lon', 'group_id', 'depth'])\n",
    "df_new['lat'] = df['POINT_Y']\n",
    "df_new['lon'] = df['POINT_X']\n",
    "df_new['group_id'] = df['Group_id']\n",
    "df_new['depth'] = 0.0\n"
   ]
  },
  {
   "cell_type": "code",
   "execution_count": 21,
   "id": "6dd5a568-e6e4-42bc-ba6c-0a969bbda114",
   "metadata": {},
   "outputs": [
    {
     "name": "stdout",
     "output_type": "stream",
     "text": [
      "lat          45.749943\n",
      "lon         277.593057\n",
      "group_id    147.000000\n",
      "depth         0.000000\n",
      "dtype: float64\n"
     ]
    }
   ],
   "source": [
    "print(df_new.max())"
   ]
  },
  {
   "cell_type": "markdown",
   "id": "38eea187-4479-4743-b293-80d0dab1ba61",
   "metadata": {},
   "source": [
    "# Relocate the first column with 360 coordinates"
   ]
  },
  {
   "cell_type": "code",
   "execution_count": 17,
   "id": "be0499b1-1bd0-4803-ba2b-ddac4da34edc",
   "metadata": {},
   "outputs": [
    {
     "data": {
      "text/html": [
       "<div>\n",
       "<style scoped>\n",
       "    .dataframe tbody tr th:only-of-type {\n",
       "        vertical-align: middle;\n",
       "    }\n",
       "\n",
       "    .dataframe tbody tr th {\n",
       "        vertical-align: top;\n",
       "    }\n",
       "\n",
       "    .dataframe thead th {\n",
       "        text-align: right;\n",
       "    }\n",
       "</style>\n",
       "<table border=\"1\" class=\"dataframe\">\n",
       "  <thead>\n",
       "    <tr style=\"text-align: right;\">\n",
       "      <th></th>\n",
       "      <th>lat</th>\n",
       "      <th>lon</th>\n",
       "      <th>group_id</th>\n",
       "      <th>depth</th>\n",
       "    </tr>\n",
       "  </thead>\n",
       "  <tbody>\n",
       "    <tr>\n",
       "      <th>0</th>\n",
       "      <td>45.745061</td>\n",
       "      <td>275.334159</td>\n",
       "      <td>0</td>\n",
       "      <td>0.0</td>\n",
       "    </tr>\n",
       "    <tr>\n",
       "      <th>1</th>\n",
       "      <td>45.749943</td>\n",
       "      <td>275.171259</td>\n",
       "      <td>1</td>\n",
       "      <td>0.0</td>\n",
       "    </tr>\n",
       "    <tr>\n",
       "      <th>2</th>\n",
       "      <td>45.663177</td>\n",
       "      <td>275.513964</td>\n",
       "      <td>2</td>\n",
       "      <td>0.0</td>\n",
       "    </tr>\n",
       "    <tr>\n",
       "      <th>3</th>\n",
       "      <td>45.637350</td>\n",
       "      <td>275.765642</td>\n",
       "      <td>3</td>\n",
       "      <td>0.0</td>\n",
       "    </tr>\n",
       "    <tr>\n",
       "      <th>4</th>\n",
       "      <td>45.655921</td>\n",
       "      <td>275.535185</td>\n",
       "      <td>4</td>\n",
       "      <td>0.0</td>\n",
       "    </tr>\n",
       "    <tr>\n",
       "      <th>...</th>\n",
       "      <td>...</td>\n",
       "      <td>...</td>\n",
       "      <td>...</td>\n",
       "      <td>...</td>\n",
       "    </tr>\n",
       "    <tr>\n",
       "      <th>127</th>\n",
       "      <td>45.061532</td>\n",
       "      <td>276.574032</td>\n",
       "      <td>128</td>\n",
       "      <td>0.0</td>\n",
       "    </tr>\n",
       "    <tr>\n",
       "      <th>128</th>\n",
       "      <td>45.487312</td>\n",
       "      <td>275.921626</td>\n",
       "      <td>129</td>\n",
       "      <td>0.0</td>\n",
       "    </tr>\n",
       "    <tr>\n",
       "      <th>129</th>\n",
       "      <td>43.818410</td>\n",
       "      <td>276.603438</td>\n",
       "      <td>130</td>\n",
       "      <td>0.0</td>\n",
       "    </tr>\n",
       "    <tr>\n",
       "      <th>130</th>\n",
       "      <td>43.030980</td>\n",
       "      <td>277.593057</td>\n",
       "      <td>135</td>\n",
       "      <td>0.0</td>\n",
       "    </tr>\n",
       "    <tr>\n",
       "      <th>131</th>\n",
       "      <td>43.738634</td>\n",
       "      <td>276.534212</td>\n",
       "      <td>147</td>\n",
       "      <td>0.0</td>\n",
       "    </tr>\n",
       "  </tbody>\n",
       "</table>\n",
       "<p>132 rows × 4 columns</p>\n",
       "</div>"
      ],
      "text/plain": [
       "           lat         lon  group_id  depth\n",
       "0    45.745061  275.334159         0    0.0\n",
       "1    45.749943  275.171259         1    0.0\n",
       "2    45.663177  275.513964         2    0.0\n",
       "3    45.637350  275.765642         3    0.0\n",
       "4    45.655921  275.535185         4    0.0\n",
       "..         ...         ...       ...    ...\n",
       "127  45.061532  276.574032       128    0.0\n",
       "128  45.487312  275.921626       129    0.0\n",
       "129  43.818410  276.603438       130    0.0\n",
       "130  43.030980  277.593057       135    0.0\n",
       "131  43.738634  276.534212       147    0.0\n",
       "\n",
       "[132 rows x 4 columns]"
      ]
     },
     "execution_count": 17,
     "metadata": {},
     "output_type": "execute_result"
    }
   ],
   "source": [
    "#relocate the first column with 360 coordinates\n",
    "df_new[\"lon\"] = df_new[\"lon\"] + 360\n",
    "df_new"
   ]
  },
  {
   "cell_type": "markdown",
   "id": "e544b716-0ea1-49cd-83d0-615d5e874108",
   "metadata": {},
   "source": [
    "# add two new coloumns"
   ]
  },
  {
   "cell_type": "code",
   "execution_count": 57,
   "id": "8f2cd947-c15c-4f0a-801b-27eaaf3bcb86",
   "metadata": {},
   "outputs": [],
   "source": [
    "df[\"depth\"] = 0.0\n",
    "#df[\"group_id\"] = 1"
   ]
  },
  {
   "cell_type": "markdown",
   "id": "2688122a-45f0-4bff-8631-4b3e7d5d7215",
   "metadata": {},
   "source": [
    "# specify the output directory to save the data"
   ]
  },
  {
   "cell_type": "code",
   "execution_count": 18,
   "id": "fa26e441-1f05-4e39-b056-0eb4d2628a76",
   "metadata": {},
   "outputs": [],
   "source": [
    "#out_path = '/home/samin/data/FVCOME_OUTPUT/simulations/horon/input/converted_senseflux_intersectpoint_500m_offshore.dat'\n",
    "out_path = '/home/samin/data/FVCOME_OUTPUT/simulations/Huron/input/initial_position/watershed_initial_positions_huron.dat'"
   ]
  },
  {
   "cell_type": "markdown",
   "id": "e9d22e1e-0442-4e9c-87b9-8bdb9fb13883",
   "metadata": {},
   "source": [
    "# Specify the order of columns and save them "
   ]
  },
  {
   "cell_type": "code",
   "execution_count": 19,
   "id": "367f4dc8-3a1f-4992-909d-69f51f51493c",
   "metadata": {},
   "outputs": [],
   "source": [
    "out_col_order = [\"group_id\", \"lon\",\"lat\", \"depth\"]\n",
    "df_new.loc[:, out_col_order].to_csv(out_path, sep = ' ', index = False, header=False)"
   ]
  },
  {
   "cell_type": "code",
   "execution_count": 20,
   "id": "76d77824",
   "metadata": {},
   "outputs": [
    {
     "data": {
      "image/png": "[encoded data removed]",
      "text/plain": [
       "<Figure size 640x480 with 1 Axes>"
      ]
     },
     "metadata": {},
     "output_type": "display_data"
    }
   ],
   "source": [
    "# plot lon and lat\n",
    "import matplotlib.pyplot as plt\n",
    "plt.scatter(df_new['lon'], df_new['lat'])\n",
    "plt.show()"
   ]
  }
 ],
 "metadata": {
  "kernelspec": {
   "display_name": "Python 3 (ipykernel)",
   "language": "python",
   "name": "python3"
  },
  "language_info": {
   "codemirror_mode": {
    "name": "ipython",
    "version": 3
   },
   "file_extension": ".py",
   "mimetype": "text/x-python",
   "name": "python",
   "nbconvert_exporter": "python",
   "pygments_lexer": "ipython3",
   "version": "3.11.5"
  }
 },
 "nbformat": 4,
 "nbformat_minor": 5
}

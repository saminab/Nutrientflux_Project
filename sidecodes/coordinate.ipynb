{
 "cells": [
  {
   "cell_type": "markdown",
   "id": "a658bcfa",
   "metadata": {},
   "source": [
    "## Introduction\n",
    "once we Create pour points in Arc gis their longitudes is in 180 degree but in Pylag it reads the 360 degrees so the following code convert latitude in 360 degree\n",
    "and Create the initial position files in the order that is acceptable in the initial position of Pylag."
   ]
  },
  {
   "cell_type": "markdown",
   "id": "622ef59a-d9b5-4e6b-a0b3-3c6f43de0fa5",
   "metadata": {},
   "source": [
    "## Required imports"
   ]
  },
  {
   "cell_type": "code",
   "execution_count": 2,
   "id": "8a847ef8-7dac-4858-a4cd-f92857a399af",
   "metadata": {},
   "outputs": [],
   "source": [
    "import math\n",
    "import numpy as np\n",
    "import pandas as pd"
   ]
  },
  {
   "cell_type": "code",
   "execution_count": 1,
   "id": "2f551785",
   "metadata": {},
   "outputs": [],
   "source": [
    "import matplotlib.pyplot as plt\n",
    "import seaborn as sns"
   ]
  },
  {
   "cell_type": "code",
   "execution_count": 2,
   "id": "c6c573ad-dfd4-47ed-95c8-8cb392573049",
   "metadata": {},
   "outputs": [],
   "source": [
    "#path to the data that extraxte from ArcGis shape file, \n",
    "#intersection points along lake Huron\n",
    "#path = \"/home/samin/data/FVCOME_OUTPUT/senseflux_intersectpoint_500m_offshore.dat\"\n",
    "#path = \"/home/samin/data/FVCOME_OUTPUT/senseflux_intersectpoint_1km_offshore.dat\"\n",
    "#path = \"/home/samin/data/FVCOME_OUTPUT/nodes/senseflux_intersectpoint_1km_offshore_updated.dat\"\n",
    "#path = \"/home/samin/data/FVCOME_OUTPUT/nodes/GLB_Bdry_buff10km_dem_fil_flowacc_con300_raster_lh_shore_NOAA70k_intersection_table.csv\"\n",
    "path = \"/home/abolmaal/data/FVCOME_OUTPUT/Simulations/Huron/input/initial_position/WatershedPourPoints_LH_copy.csv\""
   ]
  },
  {
   "cell_type": "code",
   "execution_count": 6,
   "id": "123071dc",
   "metadata": {},
   "outputs": [
    {
     "name": "stdout",
     "output_type": "stream",
     "text": [
      "     FID  pointid  gridcode  Group_id        lon        lat\n",
      "0      0      270       559         0 -84.665841  45.745061\n",
      "1      1      272       435         1 -84.828741  45.749943\n",
      "2      2      276       557         2 -84.486036  45.663177\n",
      "3      3      277       560         3 -84.234358  45.637350\n",
      "4      4      278       585         4 -84.464815  45.655921\n",
      "..   ...      ...       ...       ...        ...        ...\n",
      "127  127        0       720       128 -83.425968  45.061532\n",
      "128  128        0       721       129 -84.078374  45.487312\n",
      "129  129        0       741       130 -83.396562  43.818410\n",
      "130  130        0       748       135 -82.406943  43.030980\n",
      "131  131        0         0       147 -83.465788  43.738634\n",
      "\n",
      "[132 rows x 6 columns]\n"
     ]
    }
   ],
   "source": [
    "\n",
    "# Specify the file path\n",
    "#file_path = '/home/samin/data/FVCOME_OUTPUT/nodes/GLB_Bdry_buff10km_dem_fil_flowacc_con300_raster_lh_shore_NOAA70k_intersection_table.csv'\n",
    "file_path = \"/home/abolmaal/data/FVCOME_OUTPUT/Simulations/Huron/input/initial_position/WatershedPourPoints_LH_copy.csv\"\n",
    "# Read the CSV file into a pandas DataFrame\n",
    "df = pd.read_csv(file_path)\n",
    "\n",
    "# Display the DataFrame\n",
    "print(df)\n"
   ]
  },
  {
   "cell_type": "code",
   "execution_count": 7,
   "id": "d754d550",
   "metadata": {},
   "outputs": [
    {
     "name": "stdout",
     "output_type": "stream",
     "text": [
      "     Group_id        lon        lat\n",
      "0           0 -84.665841  45.745061\n",
      "1           1 -84.828741  45.749943\n",
      "2           2 -84.486036  45.663177\n",
      "3           3 -84.234358  45.637350\n",
      "4           4 -84.464815  45.655921\n",
      "..        ...        ...        ...\n",
      "127       128 -83.425968  45.061532\n",
      "128       129 -84.078374  45.487312\n",
      "129       130 -83.396562  43.818410\n",
      "130       135 -82.406943  43.030980\n",
      "131       147 -83.465788  43.738634\n",
      "\n",
      "[132 rows x 3 columns]\n"
     ]
    }
   ],
   "source": [
    "# EXTRACT POINT_X, POINT_Y, and Group_ID columns\n",
    "# rename POINT_X to lon and POINT_Y to lat\n",
    "\n",
    "df_extracted = df[[ 'Group_id','lon', 'lat']].copy()\n",
    "print (df_extracted)"
   ]
  },
  {
   "cell_type": "markdown",
   "id": "114f76d3",
   "metadata": {},
   "source": [
    "# Create Initial Position file"
   ]
  },
  {
   "cell_type": "markdown",
   "id": "885a3aa0",
   "metadata": {},
   "source": [
    "### Release Zone"
   ]
  },
  {
   "cell_type": "code",
   "execution_count": 5,
   "id": "edb51005",
   "metadata": {},
   "outputs": [],
   "source": [
    "import numpy as np\n",
    "from matplotlib import pyplot as plt\n",
    "import cartopy.feature as cfeature\n",
    "import cartopy.crs as ccrs\n",
    "from cartopy.mpl.gridliner import LONGITUDE_FORMATTER, LATITUDE_FORMATTER\n",
    "\n",
    "from pylag.processing.coordinate import utm_from_lonlat, lonlat_from_utm\n",
    "from pylag.processing.release_zone import create_release_zones_along_cord\n",
    "from pylag.processing.plot import create_figure\n"
   ]
  },
  {
   "cell_type": "markdown",
   "id": "5271de1e-4d23-4784-ab93-32459c93761f",
   "metadata": {},
   "source": [
    "# Rename col 0 to lon and col 1 to lat"
   ]
  },
  {
   "cell_type": "code",
   "execution_count": 9,
   "id": "e658d7f3-bd60-4723-9b0f-65b798a56603",
   "metadata": {},
   "outputs": [],
   "source": [
    "df.rename(columns={0:\"lon\", 1:\"lat\"}, inplace=True)"
   ]
  },
  {
   "cell_type": "code",
   "execution_count": 10,
   "id": "6dd5a568-e6e4-42bc-ba6c-0a969bbda114",
   "metadata": {},
   "outputs": [
    {
     "name": "stdout",
     "output_type": "stream",
     "text": [
      "lon   -82.431921\n",
      "lat    45.780149\n",
      "dtype: float64\n"
     ]
    }
   ],
   "source": [
    "print(df.max())"
   ]
  },
  {
   "cell_type": "markdown",
   "id": "38eea187-4479-4743-b293-80d0dab1ba61",
   "metadata": {},
   "source": [
    "# Relocate the first column with 360 coordinates"
   ]
  },
  {
   "cell_type": "code",
   "execution_count": 8,
   "id": "be0499b1-1bd0-4803-ba2b-ddac4da34edc",
   "metadata": {},
   "outputs": [
    {
     "name": "stdout",
     "output_type": "stream",
     "text": [
      "     Group_id         lon        lat\n",
      "0           0  275.334159  45.745061\n",
      "1           1  275.171259  45.749943\n",
      "2           2  275.513964  45.663177\n",
      "3           3  275.765642  45.637350\n",
      "4           4  275.535185  45.655921\n",
      "..        ...         ...        ...\n",
      "127       128  276.574032  45.061532\n",
      "128       129  275.921626  45.487312\n",
      "129       130  276.603438  43.818410\n",
      "130       135  277.593057  43.030980\n",
      "131       147  276.534212  43.738634\n",
      "\n",
      "[132 rows x 3 columns]\n"
     ]
    }
   ],
   "source": [
    "#relocate the first column with 360 coordinates\n",
    "df_extracted[\"lon\"] = df_extracted[\"lon\"] % 360\n",
    "print(df_extracted)"
   ]
  },
  {
   "cell_type": "code",
   "execution_count": 9,
   "id": "518cb824",
   "metadata": {},
   "outputs": [
    {
     "data": {
      "text/html": [
       "<div>\n",
       "<style scoped>\n",
       "    .dataframe tbody tr th:only-of-type {\n",
       "        vertical-align: middle;\n",
       "    }\n",
       "\n",
       "    .dataframe tbody tr th {\n",
       "        vertical-align: top;\n",
       "    }\n",
       "\n",
       "    .dataframe thead th {\n",
       "        text-align: right;\n",
       "    }\n",
       "</style>\n",
       "<table border=\"1\" class=\"dataframe\">\n",
       "  <thead>\n",
       "    <tr style=\"text-align: right;\">\n",
       "      <th></th>\n",
       "      <th>Group_ID</th>\n",
       "      <th>lon</th>\n",
       "      <th>lat</th>\n",
       "    </tr>\n",
       "  </thead>\n",
       "  <tbody>\n",
       "    <tr>\n",
       "      <th>0</th>\n",
       "      <td>1</td>\n",
       "      <td>275.276222</td>\n",
       "      <td>45.780149</td>\n",
       "    </tr>\n",
       "    <tr>\n",
       "      <th>1</th>\n",
       "      <td>2</td>\n",
       "      <td>275.279741</td>\n",
       "      <td>45.765519</td>\n",
       "    </tr>\n",
       "    <tr>\n",
       "      <th>2</th>\n",
       "      <td>3</td>\n",
       "      <td>275.333867</td>\n",
       "      <td>45.744976</td>\n",
       "    </tr>\n",
       "    <tr>\n",
       "      <th>3</th>\n",
       "      <td>4</td>\n",
       "      <td>275.350543</td>\n",
       "      <td>45.742696</td>\n",
       "    </tr>\n",
       "    <tr>\n",
       "      <th>4</th>\n",
       "      <td>5</td>\n",
       "      <td>275.401315</td>\n",
       "      <td>45.718945</td>\n",
       "    </tr>\n",
       "    <tr>\n",
       "      <th>...</th>\n",
       "      <td>...</td>\n",
       "      <td>...</td>\n",
       "      <td>...</td>\n",
       "    </tr>\n",
       "    <tr>\n",
       "      <th>209</th>\n",
       "      <td>302</td>\n",
       "      <td>277.470095</td>\n",
       "      <td>43.330875</td>\n",
       "    </tr>\n",
       "    <tr>\n",
       "      <th>210</th>\n",
       "      <td>303</td>\n",
       "      <td>277.568079</td>\n",
       "      <td>43.025005</td>\n",
       "    </tr>\n",
       "    <tr>\n",
       "      <th>211</th>\n",
       "      <td>304</td>\n",
       "      <td>277.577755</td>\n",
       "      <td>43.008666</td>\n",
       "    </tr>\n",
       "    <tr>\n",
       "      <th>212</th>\n",
       "      <td>54</td>\n",
       "      <td>276.591454</td>\n",
       "      <td>45.066514</td>\n",
       "    </tr>\n",
       "    <tr>\n",
       "      <th>213</th>\n",
       "      <td>302</td>\n",
       "      <td>277.470095</td>\n",
       "      <td>43.330875</td>\n",
       "    </tr>\n",
       "  </tbody>\n",
       "</table>\n",
       "<p>214 rows × 3 columns</p>\n",
       "</div>"
      ],
      "text/plain": [
       "     Group_ID         lon        lat\n",
       "0           1  275.276222  45.780149\n",
       "1           2  275.279741  45.765519\n",
       "2           3  275.333867  45.744976\n",
       "3           4  275.350543  45.742696\n",
       "4           5  275.401315  45.718945\n",
       "..        ...         ...        ...\n",
       "209       302  277.470095  43.330875\n",
       "210       303  277.568079  43.025005\n",
       "211       304  277.577755  43.008666\n",
       "212        54  276.591454  45.066514\n",
       "213       302  277.470095  43.330875\n",
       "\n",
       "[214 rows x 3 columns]"
      ]
     },
     "execution_count": 9,
     "metadata": {},
     "output_type": "execute_result"
    }
   ],
   "source": [
    "# relocate lon coloumn with 360 degree\n",
    "df_extracted[\"lon\"] = df_extracted[\"lon\"] % 360\n",
    "df_extracted"
   ]
  },
  {
   "cell_type": "code",
   "execution_count": 4,
   "id": "95ef5007-c13e-4af6-b2eb-db3d13636eb5",
   "metadata": {},
   "outputs": [],
   "source": [
    "#relocate the first column with 360 coordinates\n",
    "#df.iloc[:,0] = df.iloc[:,0] % 360"
   ]
  },
  {
   "cell_type": "markdown",
   "id": "e544b716-0ea1-49cd-83d0-615d5e874108",
   "metadata": {},
   "source": [
    "# add two new coloumns"
   ]
  },
  {
   "cell_type": "code",
   "execution_count": 10,
   "id": "8f2cd947-c15c-4f0a-801b-27eaaf3bcb86",
   "metadata": {},
   "outputs": [
    {
     "data": {
      "text/html": [
       "<div>\n",
       "<style scoped>\n",
       "    .dataframe tbody tr th:only-of-type {\n",
       "        vertical-align: middle;\n",
       "    }\n",
       "\n",
       "    .dataframe tbody tr th {\n",
       "        vertical-align: top;\n",
       "    }\n",
       "\n",
       "    .dataframe thead th {\n",
       "        text-align: right;\n",
       "    }\n",
       "</style>\n",
       "<table border=\"1\" class=\"dataframe\">\n",
       "  <thead>\n",
       "    <tr style=\"text-align: right;\">\n",
       "      <th></th>\n",
       "      <th>Group_id</th>\n",
       "      <th>lon</th>\n",
       "      <th>lat</th>\n",
       "      <th>depth</th>\n",
       "    </tr>\n",
       "  </thead>\n",
       "  <tbody>\n",
       "    <tr>\n",
       "      <th>0</th>\n",
       "      <td>0</td>\n",
       "      <td>275.334159</td>\n",
       "      <td>45.745061</td>\n",
       "      <td>0.0</td>\n",
       "    </tr>\n",
       "    <tr>\n",
       "      <th>1</th>\n",
       "      <td>1</td>\n",
       "      <td>275.171259</td>\n",
       "      <td>45.749943</td>\n",
       "      <td>0.0</td>\n",
       "    </tr>\n",
       "    <tr>\n",
       "      <th>2</th>\n",
       "      <td>2</td>\n",
       "      <td>275.513964</td>\n",
       "      <td>45.663177</td>\n",
       "      <td>0.0</td>\n",
       "    </tr>\n",
       "    <tr>\n",
       "      <th>3</th>\n",
       "      <td>3</td>\n",
       "      <td>275.765642</td>\n",
       "      <td>45.637350</td>\n",
       "      <td>0.0</td>\n",
       "    </tr>\n",
       "    <tr>\n",
       "      <th>4</th>\n",
       "      <td>4</td>\n",
       "      <td>275.535185</td>\n",
       "      <td>45.655921</td>\n",
       "      <td>0.0</td>\n",
       "    </tr>\n",
       "    <tr>\n",
       "      <th>...</th>\n",
       "      <td>...</td>\n",
       "      <td>...</td>\n",
       "      <td>...</td>\n",
       "      <td>...</td>\n",
       "    </tr>\n",
       "    <tr>\n",
       "      <th>127</th>\n",
       "      <td>128</td>\n",
       "      <td>276.574032</td>\n",
       "      <td>45.061532</td>\n",
       "      <td>0.0</td>\n",
       "    </tr>\n",
       "    <tr>\n",
       "      <th>128</th>\n",
       "      <td>129</td>\n",
       "      <td>275.921626</td>\n",
       "      <td>45.487312</td>\n",
       "      <td>0.0</td>\n",
       "    </tr>\n",
       "    <tr>\n",
       "      <th>129</th>\n",
       "      <td>130</td>\n",
       "      <td>276.603438</td>\n",
       "      <td>43.818410</td>\n",
       "      <td>0.0</td>\n",
       "    </tr>\n",
       "    <tr>\n",
       "      <th>130</th>\n",
       "      <td>135</td>\n",
       "      <td>277.593057</td>\n",
       "      <td>43.030980</td>\n",
       "      <td>0.0</td>\n",
       "    </tr>\n",
       "    <tr>\n",
       "      <th>131</th>\n",
       "      <td>147</td>\n",
       "      <td>276.534212</td>\n",
       "      <td>43.738634</td>\n",
       "      <td>0.0</td>\n",
       "    </tr>\n",
       "  </tbody>\n",
       "</table>\n",
       "<p>132 rows × 4 columns</p>\n",
       "</div>"
      ],
      "text/plain": [
       "     Group_id         lon        lat  depth\n",
       "0           0  275.334159  45.745061    0.0\n",
       "1           1  275.171259  45.749943    0.0\n",
       "2           2  275.513964  45.663177    0.0\n",
       "3           3  275.765642  45.637350    0.0\n",
       "4           4  275.535185  45.655921    0.0\n",
       "..        ...         ...        ...    ...\n",
       "127       128  276.574032  45.061532    0.0\n",
       "128       129  275.921626  45.487312    0.0\n",
       "129       130  276.603438  43.818410    0.0\n",
       "130       135  277.593057  43.030980    0.0\n",
       "131       147  276.534212  43.738634    0.0\n",
       "\n",
       "[132 rows x 4 columns]"
      ]
     },
     "execution_count": 10,
     "metadata": {},
     "output_type": "execute_result"
    }
   ],
   "source": [
    "df_extracted[\"depth\"] = 0.0\n",
    "df_extracted\n",
    "#df[\"group_id\"] = 1"
   ]
  },
  {
   "cell_type": "code",
   "execution_count": 10,
   "id": "896e4256",
   "metadata": {},
   "outputs": [],
   "source": [
    "df_extracted[\"depth\"] = 0.0"
   ]
  },
  {
   "cell_type": "markdown",
   "id": "2688122a-45f0-4bff-8631-4b3e7d5d7215",
   "metadata": {},
   "source": [
    "# specify the output directory to save the data"
   ]
  },
  {
   "cell_type": "code",
   "execution_count": 15,
   "id": "fa26e441-1f05-4e39-b056-0eb4d2628a76",
   "metadata": {},
   "outputs": [],
   "source": [
    "#out_path = '/home/samin/data/FVCOME_OUTPUT/simulations/horon/input/converted_senseflux_intersectpoint_500m_offshore.dat'\n",
    "out_path = '/home/abolmaal/data/FVCOME_OUTPUT/Simulations/Huron/input/initial_position/WatershedPourPoints_LH_copy_multigroup.dat'"
   ]
  },
  {
   "cell_type": "code",
   "execution_count": 18,
   "id": "4cddc729",
   "metadata": {},
   "outputs": [],
   "source": [
    "out_path = '/home/abolmaal/data/FVCOME_OUTPUT/nodes/GLB_Bdry_buff10km_dem_fil_flowacc_con300_raster_lh_shore_NOAA70k_intersection_table.dat'"
   ]
  },
  {
   "cell_type": "markdown",
   "id": "e9d22e1e-0442-4e9c-87b9-8bdb9fb13883",
   "metadata": {},
   "source": [
    "# Specify the order of columns and save them "
   ]
  },
  {
   "cell_type": "code",
   "execution_count": 24,
   "id": "367f4dc8-3a1f-4992-909d-69f51f51493c",
   "metadata": {},
   "outputs": [],
   "source": [
    "# out_col_order = [\"group_id\", \"lon\",\"lat\", \"depth\"]\n",
    "# df.loc[:, out_col_order].to_csv(out_path, sep = ' ', index = False, header=False)"
   ]
  },
  {
   "cell_type": "code",
   "execution_count": 16,
   "id": "621f7f1f",
   "metadata": {},
   "outputs": [],
   "source": [
    "out_col_order = [\"Group_id\", \"lon\",\"lat\", \"depth\"]\n",
    "df_extracted.loc[:, out_col_order].to_csv(out_path, sep = ' ', index = False, header=False)\n"
   ]
  }
 ],
 "metadata": {
  "kernelspec": {
   "display_name": "Python 3 (ipykernel)",
   "language": "python",
   "name": "python3"
  },
  "language_info": {
   "codemirror_mode": {
    "name": "ipython",
    "version": 3
   },
   "file_extension": ".py",
   "mimetype": "text/x-python",
   "name": "python",
   "nbconvert_exporter": "python",
   "pygments_lexer": "ipython3",
   "version": "3.11.9"
  }
 },
 "nbformat": 4,
 "nbformat_minor": 5
}

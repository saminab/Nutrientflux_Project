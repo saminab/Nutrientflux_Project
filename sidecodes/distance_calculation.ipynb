{
 "cells": [
  {
   "cell_type": "code",
   "execution_count": 1,
   "metadata": {},
   "outputs": [],
   "source": [
    "#Imports\n",
    "import netCDF4 as nc\n",
    "import pandas as pd\n",
    "import geopandas as gpd\n",
    "import os\n",
    "from shapely.geometry import Point\n",
    "import matplotlib.pyplot as plt\n",
    "from geopy.distance import geodesic"
   ]
  },
  {
   "cell_type": "code",
   "execution_count": 2,
   "metadata": {},
   "outputs": [],
   "source": [
    "# Function to extract latitude and longitude from a NetCDF file\n",
    "def extract_lat_lon(nc_file):\n",
    "    with nc.Dataset(nc_file) as dataset:\n",
    "        latitude = dataset.variables['latitude'][:]\n",
    "        longitude = dataset.variables['longitude'][:]\n",
    "    return latitude, longitude"
   ]
  },
  {
   "cell_type": "code",
   "execution_count": 3,
   "metadata": {},
   "outputs": [],
   "source": [
    "# Replace 'file1.nc' and 'file2.nc' with the actual file paths\n",
    "data_dir = '/home/samin/data/FVCOME_OUTPUT/simulations/horon/output/moredata/202306/endpoint'\n"
   ]
  },
  {
   "cell_type": "code",
   "execution_count": 4,
   "metadata": {},
   "outputs": [],
   "source": [
    "# Get a list of all NetCDF files in the directory\n",
    "nc_files = [f for f in os.listdir(data_dir) if f.endswith('.nc')]\n",
    "\n",
    "# create an empty DataFrame\n",
    "df_start = pd.DataFrame()\n",
    "\n",
    "# Iterate through each NetCDF file and save latitude and longitude in separate columns\n",
    "for nc_file in sorted(filter(lambda x: x.endswith(\"pylag_1.nc\"), os.listdir(data_dir)), key=lambda x: int(x.split(\".\")[0].split(\"_\")[1])):\n",
    "    file_path = os.path.join(data_dir, nc_file)\n",
    "    latitude, longitude = extract_lat_lon(file_path)\n",
    "\n",
    "    # Flatten latitude and longitude arrays\n",
    "    latitude = latitude.flatten()\n",
    "    longitude = longitude.flatten()\n",
    "\n",
    "    # Create a DataFrame with 'Latitude' and 'Longitude' columns\n",
    "    file_df = pd.DataFrame({'Latitude': latitude, 'Longitude': longitude})\n",
    "\n",
    "    # Add a column for the file name\n",
    "    file_df['File'] = nc_file\n",
    "\n",
    "    # Append the DataFrame to the result DataFrame\n",
    "    df_start = pd.concat([df_start, file_df], ignore_index=True)"
   ]
  },
  {
   "cell_type": "code",
   "execution_count": 5,
   "metadata": {},
   "outputs": [],
   "source": [
    "# Get a list of all NetCDF files in the directory\n",
    "nc_files = [f for f in os.listdir(data_dir) if f.endswith('.nc')]\n",
    "\n",
    "# create an empty DataFrame\n",
    "df_end = pd.DataFrame()\n",
    "\n",
    "# Iterate through each NetCDF file and save latitude and longitude in separate columns\n",
    "for nc_file in sorted(filter(lambda x: x.endswith(\"pylag_100.nc\"), os.listdir(data_dir)), key=lambda x: int(x.split(\".\")[0].split(\"_\")[1])):\n",
    "    file_path = os.path.join(data_dir, nc_file)\n",
    "    latitude, longitude = extract_lat_lon(file_path)\n",
    "\n",
    "    # Flatten latitude and longitude arrays\n",
    "    latitude = latitude.flatten()\n",
    "    longitude = longitude.flatten()\n",
    "\n",
    "    # Create a DataFrame with 'Latitude' and 'Longitude' columns\n",
    "    file_df = pd.DataFrame({'Latitude': latitude, 'Longitude': longitude})\n",
    "\n",
    "    # Add a column for the file name\n",
    "    file_df['File'] = nc_file\n",
    "\n",
    "    # Append the DataFrame to the result DataFrame\n",
    "    df_end = pd.concat([df_end, file_df], ignore_index=True)"
   ]
  },
  {
   "cell_type": "code",
   "execution_count": 13,
   "metadata": {},
   "outputs": [
    {
     "name": "stdout",
     "output_type": "stream",
     "text": [
      "        Latitude   Longitude  distance_to_end\n",
      "0      45.780148  275.276215         0.000000\n",
      "1      45.765518  275.279755         0.000000\n",
      "2      45.744976  275.333862         0.000000\n",
      "3      45.742695  275.350555         0.000000\n",
      "4      45.718945  275.401306         0.000000\n",
      "...          ...         ...              ...\n",
      "67621  43.014374  -82.425224         0.112166\n",
      "67622  43.010429  -82.423492         0.366841\n",
      "67623  43.028111  277.565338         2.394397\n",
      "67624  43.020554  277.570770         0.467602\n",
      "67625  43.000912  -82.423782         0.706779\n",
      "\n",
      "[67626 rows x 3 columns]\n",
      "Minimum Distance: 0.00 kilometers\n",
      "Maximum Distance: 12.83 kilometers\n"
     ]
    },
    {
     "data": {
      "image/png": "[encoded data removed]",
      "text/plain": [
       "<Figure size 640x480 with 1 Axes>"
      ]
     },
     "metadata": {},
     "output_type": "display_data"
    },
    {
     "data": {
      "text/plain": [
       "<Figure size 640x480 with 0 Axes>"
      ]
     },
     "metadata": {},
     "output_type": "display_data"
    }
   ],
   "source": [
    "def calculate_distance(row_start, row_end):\n",
    "    lat_start, lon_start = row_start['Latitude'], row_start['Longitude']\n",
    "    lat_end, lon_end = row_end['Latitude'], row_end['Longitude']\n",
    "    \n",
    "    coord_start = (lat_start, lon_start)\n",
    "    coord_end = (lat_end, lon_end)\n",
    "    \n",
    "    return geodesic(coord_start, coord_end).kilometers\n",
    "\n",
    "# Assuming the GeoDataFrames have the same length\n",
    "if len(df_start) == len(df_end):\n",
    "    # Calculate distances for each pair of corresponding rows\n",
    "    distances = [calculate_distance(df_start.iloc[i], df_end.iloc[i]) for i in range(len(df_start))]\n",
    "\n",
    "    # Add distances to a new column in one of the GeoDataFrames (e.g., df_start)\n",
    "    df_start['distance_to_end'] = distances\n",
    "\n",
    "    # Print or visualize the distances\n",
    "    print(df_start[['Latitude', 'Longitude', 'distance_to_end']])\n",
    "    #Print the minimum and maximum distances\n",
    "    min_distance = min(distances)\n",
    "    max_distance = max(distances)\n",
    "\n",
    "    print(f\"Minimum Distance: {min_distance:.2f} kilometers\")\n",
    "    print(f\"Maximum Distance: {max_distance:.2f} kilometers\")\n",
    "    \n",
    "    # Plotting the GeoDataFrame with distances (optional)\n",
    "    # Creating a list of different colors for each bin\n",
    "    # Plotting the histogram of distances\n",
    "    plt.hist(distances, bins=20, color='blue', edgecolor='black')\n",
    "    plt.xlabel('Distance (kilometers)')\n",
    "    plt.ylabel('Frequency')\n",
    "    plt.yscale('log')\n",
    "    plt.title('Histogram of Distances Between Corresponding pairs')\n",
    "\n",
    "    plt.show()\n",
    "    #fig, ax = plt.subplots()\n",
    "    #plt.plot(distances, marker='o', linestyle='-', color='blue')\n",
    "    #df_start.plot(ax=ax, markersize=10, color='blue', alpha=0.7, label='Start Points')\n",
    "    #df_end.plot(ax=ax, markersize=10, color='red', alpha=0.7, label='End Points')\n",
    "    #ax.legend()\n",
    "    #ax.set_title('Distances between Start and End Points')\n",
    "    #plt.show()\n",
    "    #     name = os.path.join(output_directory, f'figure_{i}.png')\n",
    "    plt.savefig('/home/samin/data/distance3.png')\n",
    "    \n",
    "    plt.show()\n",
    "else:\n",
    "    print(\"Error: GeoDataFrames have different lengths.\")\n"
   ]
  },
  {
   "cell_type": "code",
   "execution_count": null,
   "metadata": {},
   "outputs": [],
   "source": []
  }
 ],
 "metadata": {
  "kernelspec": {
   "display_name": "pylag",
   "language": "python",
   "name": "python3"
  },
  "language_info": {
   "codemirror_mode": {
    "name": "ipython",
    "version": 3
   },
   "file_extension": ".py",
   "mimetype": "text/x-python",
   "name": "python",
   "nbconvert_exporter": "python",
   "pygments_lexer": "ipython3",
   "version": "3.1.undefined"
  }
 },
 "nbformat": 4,
 "nbformat_minor": 2
}

{
 "cells": [
  {
   "cell_type": "code",
   "execution_count": 40,
   "id": "b84edf12-1eea-4498-b9b2-3ebbdfe23a70",
   "metadata": {},
   "outputs": [],
   "source": [
    "import geopandas as gpd\n",
    "path = r\"/home/samin/data/shapefiles/senseflux_intersectpoint_500m_offshore.shp\"\n",
    "gdf = gpd.read_file(path)\n"
   ]
  },
  {
   "cell_type": "code",
   "execution_count": 51,
   "id": "0b4f3ded-e1f8-4eac-8485-5b0384c59388",
   "metadata": {},
   "outputs": [],
   "source": [
    "latlon = ['POINT_X', 'POINT_Y']"
   ]
  },
  {
   "cell_type": "code",
   "execution_count": 54,
   "id": "32761b9f-c39c-4824-afe6-5f2126ad56c7",
   "metadata": {},
   "outputs": [],
   "source": [
    "selected_data = gdf[latlon]"
   ]
  },
  {
   "cell_type": "code",
   "execution_count": 55,
   "id": "b7aa3245-ad5d-4ac4-b9c5-94ce490048f4",
   "metadata": {},
   "outputs": [],
   "source": [
    "output_file = '/home/samin/data/FVCOME_OUTPUT/senseflux_intersectpoint_500m_offshore.dat'"
   ]
  },
  {
   "cell_type": "code",
   "execution_count": 56,
   "id": "f7f5cfdc-afee-4c79-afde-5d11fe44e654",
   "metadata": {},
   "outputs": [],
   "source": [
    "selected_data.to_csv(output_file, sep='\\t', index=False, header = False)"
   ]
  },
  {
   "cell_type": "code",
   "execution_count": 49,
   "id": "b73da29c-91ef-4b7a-b7d0-ad938459eb4f",
   "metadata": {
    "scrolled": true
   },
   "outputs": [],
   "source": [
    "lat = (gdf['POINT_X'])"
   ]
  },
  {
   "cell_type": "code",
   "execution_count": 45,
   "id": "d3360ed9-8ad2-456a-a0be-94a6c3882dc9",
   "metadata": {},
   "outputs": [
    {
     "data": {
      "text/plain": [
       "0     -84.020301\n",
       "1     -83.947759\n",
       "2     -83.805018\n",
       "3     -83.783296\n",
       "4     -83.783296\n",
       "         ...    \n",
       "308   -82.418157\n",
       "309   -82.418157\n",
       "310   -82.418157\n",
       "311   -82.418157\n",
       "312   -82.416402\n",
       "Name: POINT_X, Length: 313, dtype: float64"
      ]
     },
     "execution_count": 45,
     "metadata": {},
     "output_type": "execute_result"
    }
   ],
   "source": [
    "LAT"
   ]
  },
  {
   "cell_type": "code",
   "execution_count": 50,
   "id": "c2a33f86-ca39-44e9-b572-7ad5afb93364",
   "metadata": {},
   "outputs": [],
   "source": [
    "lon = (gdf['POINT_Y'])"
   ]
  },
  {
   "cell_type": "code",
   "execution_count": 47,
   "id": "5c1b1cdf-ea0e-4526-87e8-54fee16b0944",
   "metadata": {},
   "outputs": [
    {
     "data": {
      "text/plain": [
       "0      46.054540\n",
       "1      46.025684\n",
       "2      46.007378\n",
       "3      46.007153\n",
       "4      46.007153\n",
       "         ...    \n",
       "308    43.012886\n",
       "309    43.012886\n",
       "310    43.012886\n",
       "311    43.012886\n",
       "312    43.003639\n",
       "Name: POINT_Y, Length: 313, dtype: float64"
      ]
     },
     "execution_count": 47,
     "metadata": {},
     "output_type": "execute_result"
    }
   ],
   "source": [
    "LON"
   ]
  },
  {
   "cell_type": "code",
   "execution_count": 48,
   "id": "3bab59db-a9bf-434c-b92f-34c1de1d15dc",
   "metadata": {},
   "outputs": [
    {
     "data": {
      "text/plain": [
       "<Axes: >"
      ]
     },
     "execution_count": 48,
     "metadata": {},
     "output_type": "execute_result"
    },
    {
     "data": {
      "image/png": "[encoded data removed]",
      "text/plain": [
       "<Figure size 640x480 with 1 Axes>"
      ]
     },
     "metadata": {},
     "output_type": "display_data"
    }
   ],
   "source": [
    "pr"
   ]
  },
  {
   "cell_type": "code",
   "execution_count": null,
   "id": "8da3757d-fcf8-4c2b-aca1-601e2de809e4",
   "metadata": {},
   "outputs": [],
   "source": []
  }
 ],
 "metadata": {
  "kernelspec": {
   "display_name": "Python 3 (ipykernel)",
   "language": "python",
   "name": "python3"
  },
  "language_info": {
   "codemirror_mode": {
    "name": "ipython",
    "version": 3
   },
   "file_extension": ".py",
   "mimetype": "text/x-python",
   "name": "python",
   "nbconvert_exporter": "python",
   "pygments_lexer": "ipython3",
   "version": "3.11.5"
  }
 },
 "nbformat": 4,
 "nbformat_minor": 5
}

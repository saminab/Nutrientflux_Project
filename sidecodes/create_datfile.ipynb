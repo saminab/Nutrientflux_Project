{
 "cells": [
  {
   "cell_type": "code",
   "execution_count": 2,
   "id": "7febfae7-e2a7-4c8d-bb65-dac4f97a586f",
   "metadata": {},
   "outputs": [
    {
     "name": "stdout",
     "output_type": "stream",
     "text": [
      "DAt file created: obc.dat\n"
     ]
    }
   ],
   "source": [
    "file_name = \"obc.dat\"\n",
    "with open(file_name, \"w\") as f:\n",
    "    for line_number in range(1,51111):\n",
    "        line = f\"{line_number} {line_number} 1\\n\"\n",
    "        f.write(line)\n",
    "print(f\"DAt file created: {file_name}\")\n"
   ]
  }
 ],
 "metadata": {
  "kernelspec": {
   "display_name": "Python 3 (ipykernel)",
   "language": "python",
   "name": "python3"
  },
  "language_info": {
   "codemirror_mode": {
    "name": "ipython",
    "version": 3
   },
   "file_extension": ".py",
   "mimetype": "text/x-python",
   "name": "python",
   "nbconvert_exporter": "python",
   "pygments_lexer": "ipython3",
   "version": "3.9.13"
  }
 },
 "nbformat": 4,
 "nbformat_minor": 5
}

{
 "cells": [
  {
   "cell_type": "markdown",
   "id": "b226d788",
   "metadata": {},
   "source": [
    "# PLot the Eastward Water Velocity over Northward water velocity \n",
    "### The following code I use the FVCOME data and make an animation for the velocity"
   ]
  },
  {
   "cell_type": "markdown",
   "id": "fd3bfe3c",
   "metadata": {},
   "source": [
    "### Import libraries"
   ]
  },
  {
   "cell_type": "code",
   "execution_count": 1,
   "id": "f9f2e5c9",
   "metadata": {},
   "outputs": [],
   "source": [
    "########import libraries#########\n",
    "import numpy as np\n",
    "import pandas as pd\n",
    "import os\n",
    "import xarray as xr\n",
    "import cartopy\n",
    "import cartopy.crs as ccrs\n",
    "import cartopy.feature as cfeature\n",
    "from cartopy.mpl.gridliner import LONGITUDE_FORMATTER, LATITUDE_FORMATTER\n",
    "#cartopy.config['data_dir'] = os.getenv('CARTOPY_DIR', cartopy.config.get('data_dir'))\n",
    "from pylag.processing.plot import create_figure, colourmap\n",
    "import cmocean\n",
    "from matplotlib import pyplot as plt\n",
    "#%config InlineBackend.figure_format = 'retina'\n",
    "plt.ion()  # To trigger the interactive inline mode\n",
    "import warnings\n",
    "warnings.filterwarnings(\"ignore\", category=RuntimeWarning) \n",
    "import matplotlib.animation as animation\n",
    "from mpl_toolkits.mplot3d import Axes3D\n",
    "from IPython.display import HTML\n",
    "import datetime"
   ]
  },
  {
   "cell_type": "markdown",
   "metadata": {},
   "source": [
    "# Inputs"
   ]
  },
  {
   "cell_type": "code",
   "execution_count": null,
   "metadata": {},
   "outputs": [],
   "source": [
    "data_dir='/home/abolmaal/Data/FVCOMEDATA/202305/'\n",
    "\n",
    "# Create run directory\n",
    "simulation_dir = '/home/abolmaal/modelling/FVCOM/Huron'.format(cwd)"
   ]
  },
  {
   "cell_type": "markdown",
   "id": "ce4bcedd",
   "metadata": {},
   "source": [
    "## Reading the data"
   ]
  },
  {
   "cell_type": "code",
   "execution_count": 2,
   "id": "a7413926",
   "metadata": {},
   "outputs": [],
   "source": [
    "#read data\n",
    "drop_variables=['siglay','siglev']\n",
    "#data = '/home/samin/data/112600_0001.nc'\n",
    "# read all the nc files in a directory\n",
    "\n",
    "ds = xr.open_mfdataset(data_dir+'*.nc', decode_times=False,drop_variables=drop_variables)\n"
   ]
  },
  {
   "cell_type": "markdown",
   "id": "3343f805",
   "metadata": {},
   "source": [
    "## Read the required variables"
   ]
  },
  {
   "cell_type": "code",
   "execution_count": 3,
   "id": "d7cee25d",
   "metadata": {},
   "outputs": [],
   "source": [
    "#read variables\n",
    "lat = ds.variables['lonc']\n",
    "lon=ds.variables['latc']\n",
    "u = ds.variables['u']\n",
    "v = ds.variables['v']\n",
    "time = ds.variables['Times']"
   ]
  },
  {
   "cell_type": "code",
   "execution_count": 4,
   "id": "8439260d",
   "metadata": {},
   "outputs": [],
   "source": [
    "#print(time.values)\n",
    "# print the lenght of the time\n",
    "#print(len(time))\n",
    "# print the format of time \n",
    "# print the mean of u and v\n",
    "u_mean = u.mean().values\n",
    "v_mean = v.mean().values\n"
   ]
  },
  {
   "cell_type": "code",
   "execution_count": 5,
   "id": "bc178ef0",
   "metadata": {},
   "outputs": [],
   "source": [
    "ds['time'] = pd.to_timedelta(ds['time'], unit='D') + pd.Timestamp('2023-05-31')\n",
    "year_month = ds['time'].dt.strftime('%Y-%m').values\n",
    "print(year_month)\n"
   ]
  },
  {
   "cell_type": "code",
   "execution_count": 8,
   "id": "f43b26cb",
   "metadata": {},
   "outputs": [],
   "source": [
    "### read times and save in a list\n",
    "for i in range(0,117):\n",
    "    dsplot=ds.isel(siglay=0, time=i)\n",
    "    #print(dsplot.v.values)\n",
    "    #print(dsplot.u.values)\n",
    "    "
   ]
  },
  {
   "cell_type": "code",
   "execution_count": 9,
   "id": "131acad6",
   "metadata": {},
   "outputs": [],
   "source": [
    "dsplot = ds.isel(siglay=0).isel(time=20)\n",
    "dsplot.time.values\n",
    "#dsplot.v[1].values"
   ]
  },
  {
   "cell_type": "code",
   "execution_count": 6,
   "id": "710d9584",
   "metadata": {},
   "outputs": [],
   "source": [
    "u_mean = dsplot.u.mean(dim='nele')\n",
    "print(u_mean.values)"
   ]
  },
  {
   "cell_type": "markdown",
   "id": "4166c737",
   "metadata": {},
   "source": [
    "# Plotting the data"
   ]
  },
  {
   "cell_type": "code",
   "execution_count": 12,
   "id": "05c875a5",
   "metadata": {},
   "outputs": [],
   "source": [
    "\n",
    "fig, ax = plt.subplots(figsize=(8,8))\n",
    "quiver = dsplot.plot.quiver(x=\"lonc\", y=\"latc\", ax = ax, u='u', v='v',robust=True, \n",
    "                           width= 0.0025,headaxislength=4,headwidth=5, minshaft=1,color='blue',\n",
    "                           scale_units='inches', scale=0.5) \n",
    "ax.set(xlim=(276,277.69), ylim=(44,44.55))\n",
    "# add title to the plot base on the time\n",
    "ax.set_title('Current velocity of the ocean August 2023')\n",
    "# add the mean of the current velocity to the title\n",
    "#ax.set_title('the current velocity of the ocean MArch 2023\\n u_mean = {:.2f}, v_mean = {:.2f}'.format(u_mean.mean().values, dsplot.v.mean().values))\n",
    "\n",
    "# save the figure in the following directory /home/samin/data/FVCOME_OUTPUT/Gldata/FVCOMEDATA with the name Currentvelocity202306.png\n",
    "plt.savefig('/home/samin/data/FVCOME_OUTPUT/simulations/horon/results/Currentvelocity202308.png')\n",
    "plt.show()"
   ]
  },
  {
   "cell_type": "markdown",
   "id": "81760722",
   "metadata": {},
   "source": [
    "## Plotting the Animation"
   ]
  },
  {
   "cell_type": "code",
   "execution_count": 14,
   "id": "ca117e2c",
   "metadata": {},
   "outputs": [],
   "source": [
    "fig, ax = plt.subplots(figsize=(8,8))\n",
    "\n",
    "def update_quiver(num):\n",
    "    \n",
    "    dsplot = ds.isel(siglay=0).isel(time=num)\n",
    "    quiver = dsplot.plot.quiver(x=\"lonc\", y=\"latc\", ax = ax, u='u', v='v', \n",
    "                           width= 0.0005,minlength=5,headaxislength=4,headwidth=4, minshaft=1,color='blue',\n",
    "                           scale_units= 'inches', scale=0.5)\n",
    "    ax.set(xlim=(276,277.69), ylim=(44,44.55))\n",
    "    ax.set_title(f'Time: {ds[\"time\"].values[num]}')\n",
    "    return(quiver,)\n",
    "\n",
    "plt.close(fig)\n",
    "\n",
    "anim = animation.FuncAnimation(fig,update_quiver,frames=10,\n",
    "                           interval= 500, blit=False)\n",
    "    #update_quiver(i)\n",
    "    #ax.set_xlim(276,278)\n",
    "    #ax.set_ylim(45.5,46)\n",
    "    #fig.tight_layout()\n",
    "plt.show()                         \n",
    "HTML(anim.to_html5_video())\n",
    "# save the animimation in the following directory /home/samin/data/FVCOME_OUTPUT/Gldata/FVCOMEDATA with the name Currentvelocity202306.gif\n",
    "anim.save('/home/samin/data/FVCOME_OUTPUT/Gldata/FVCOMEDATA/Currentvelocity202308.gif', writer='imagemagick', fps=10)\n",
    "\n"
   ]
  }
 ],
 "metadata": {
  "kernelspec": {
   "display_name": "Python 3 (ipykernel)",
   "language": "python",
   "name": "python3"
  },
  "language_info": {
   "codemirror_mode": {
    "name": "ipython",
    "version": 3
   },
   "file_extension": ".py",
   "mimetype": "text/x-python",
   "name": "python",
   "nbconvert_exporter": "python",
   "pygments_lexer": "ipython3",
   "version": "3.1.undefined"
  }
 },
 "nbformat": 4,
 "nbformat_minor": 5
}
